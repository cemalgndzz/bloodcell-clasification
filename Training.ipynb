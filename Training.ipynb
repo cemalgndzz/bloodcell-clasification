{
 "cells": [
  {
   "cell_type": "code",
   "execution_count": 1,
   "id": "669be476-29ce-4ec6-b7db-f08a960e200f",
   "metadata": {},
   "outputs": [
    {
     "name": "stderr",
     "output_type": "stream",
     "text": [
      "WARNING: All log messages before absl::InitializeLog() is called are written to STDERR\n",
      "E0000 00:00:1732274855.748496    8715 cuda_dnn.cc:8310] Unable to register cuDNN factory: Attempting to register factory for plugin cuDNN when one has already been registered\n",
      "E0000 00:00:1732274855.754988    8715 cuda_blas.cc:1418] Unable to register cuBLAS factory: Attempting to register factory for plugin cuBLAS when one has already been registered\n"
     ]
    },
    {
     "name": "stdout",
     "output_type": "stream",
     "text": [
      "2.18.0\n"
     ]
    }
   ],
   "source": [
    "# Set seed for reproducibility\n",
    "seed = 42\n",
    "\n",
    "# Import necessary libraries\n",
    "import os\n",
    "\n",
    "# Set environment variables before importing modules\n",
    "os.environ['TF_CPP_MIN_LOG_LEVEL'] = '3'\n",
    "os.environ['PYTHONHASHSEED'] = str(seed)\n",
    "os.environ['MPLCONFIGDIR'] = os.getcwd() + '/configs/'\n",
    "\n",
    "# Suppress warnings\n",
    "import warnings\n",
    "warnings.simplefilter(action='ignore', category=FutureWarning)\n",
    "warnings.simplefilter(action='ignore', category=Warning)\n",
    "\n",
    "# Import necessary modules\n",
    "import logging\n",
    "import random\n",
    "import numpy as np\n",
    "from tqdm import tqdm\n",
    "# Set seeds for random number generators in NumPy and Python\n",
    "np.random.seed(seed)\n",
    "random.seed(seed)\n",
    "\n",
    "# Import TensorFlow and Keras\n",
    "import tensorflow as tf\n",
    "from tensorflow import keras as tfk\n",
    "from tensorflow.keras import layers as tfkl\n",
    "from tensorflow.keras.models import Sequential, Model\n",
    "from tensorflow.keras.layers import Conv2D, MaxPooling2D, Flatten, Dense, Dropout, Input, UpSampling2D, BatchNormalization\n",
    "from tensorflow.keras.utils import to_categorical\n",
    "from tensorflow.keras.callbacks import EarlyStopping, ReduceLROnPlateau, LearningRateScheduler\n",
    "from tensorflow.keras.optimizers import Adam\n",
    "from tensorflow.keras.preprocessing.image import ImageDataGenerator\n",
    "from tensorflow.keras.applications import VGG16\n",
    "from tensorflow.keras.applications.vgg16 import preprocess_input\n",
    "from tensorflow.keras.preprocessing.image import img_to_array\n",
    "from sklearn.metrics.pairwise import cosine_similarity\n",
    "from tensorflow.keras.regularizers import l2\n",
    "import keras_cv\n",
    "import keras_cv.layers as kcvl\n",
    "\n",
    "# Set seed for TensorFlow\n",
    "tf.random.set_seed(seed)\n",
    "tf.compat.v1.set_random_seed(seed)\n",
    "\n",
    "# Reduce TensorFlow verbosity\n",
    "tf.autograph.set_verbosity(0)\n",
    "tf.get_logger().setLevel(logging.ERROR)\n",
    "tf.compat.v1.logging.set_verbosity(tf.compat.v1.logging.ERROR)\n",
    "\n",
    "# Print TensorFlow version\n",
    "print(tf.__version__)\n",
    "\n",
    "# Import other libraries\n",
    "import matplotlib.pyplot as plt\n",
    "import pandas as pd\n",
    "from sklearn.model_selection import train_test_split\n",
    "from sklearn.metrics import accuracy_score, confusion_matrix, precision_score, recall_score, f1_score, classification_report\n",
    "from PIL import Image\n",
    "import matplotlib.gridspec as gridspec\n",
    "from datetime import datetime\n",
    "from sklearn.utils import shuffle\n",
    "import random\n",
    "from sklearn.metrics.pairwise import cosine_similarity\n",
    "from sklearn.utils.class_weight import compute_class_weight\n",
    "\n",
    "# Configure plot display settings\n",
    "plt.rc('font', size=14)\n",
    "%matplotlib inline\n"
   ]
  },
  {
   "cell_type": "markdown",
   "id": "302dec03-195e-47fa-9cc7-c371276ee9b2",
   "metadata": {},
   "source": [
    "### Convnextlarge finetuning - AdamW - on training augmentation"
   ]
  },
  {
   "cell_type": "code",
   "execution_count": 2,
   "id": "ea2ad3f9-46ce-4f27-b3fa-a77b0ce4937f",
   "metadata": {},
   "outputs": [
    {
     "name": "stderr",
     "output_type": "stream",
     "text": [
      "I0000 00:00:1732274859.108142    8715 gpu_device.cc:2022] Created device /job:localhost/replica:0/task:0/device:GPU:0 with 20750 MB memory:  -> device: 0, name: NVIDIA L4, pci bus id: 0000:00:03.0, compute capability: 8.9\n"
     ]
    }
   ],
   "source": [
    "from tensorflow.keras.applications import ResNet50V2\n",
    "from tensorflow.keras.models import Model\n",
    "from tensorflow.keras.layers import Input, GlobalAveragePooling2D, Dense, BatchNormalization, Dropout\n",
    "tf.config.run_functions_eagerly(True)\n",
    "\n",
    "convnext_base_model = tf.keras.applications.ConvNeXtLarge(\n",
    "    include_top=False,\n",
    "    weights='imagenet',\n",
    "    input_shape=(96,96,3),\n",
    "    classes=8,\n",
    "    classifier_activation='softmax',\n",
    ")\n",
    "convnext_base_model.trainable = False\n",
    "#tf.config.run_functions_eagerly(True)"
   ]
  },
  {
   "cell_type": "code",
   "execution_count": 3,
   "id": "138f3273-ede3-4de5-93cc-696ad64f1b26",
   "metadata": {},
   "outputs": [],
   "source": [
    "def build_convnext_classifier(input_shape=(96, 96, 3), seed=None):\n",
    "    inputs = Input(shape=input_shape)\n",
    "    x = convnext_base_model(inputs)\n",
    "    x = GlobalAveragePooling2D(name=\"avg_pool\")(x)\n",
    "    x = BatchNormalization(name=\"batch_norm\")(x)\n",
    "    intermediate1 = Dense(1024, activation='swish')(x)\n",
    "    dropout1 = Dropout(0.2)(intermediate1)\n",
    "    intermediate2 = Dense(256, activation='swish')(dropout1)\n",
    "    dropout2 = Dropout(0.2)(intermediate2)\n",
    "    outputs = Dense(8, activation='softmax')(dropout2)\n",
    "\n",
    "    model = Model(inputs=inputs, outputs=outputs, name='convnext_model')\n",
    "    return model"
   ]
  },
  {
   "cell_type": "code",
   "execution_count": 4,
   "id": "cfd17b31-7028-4603-a32f-4af902da3960",
   "metadata": {},
   "outputs": [],
   "source": [
    "data = np.load('training_set_cleaned_balancedwithrotation.npz')\n",
    "X_balanced = data['images']\n",
    "y_balanced = data['labels']"
   ]
  },
  {
   "cell_type": "code",
   "execution_count": 5,
   "id": "7dddf0ce-ff80-4bb2-93d0-7f9133e70562",
   "metadata": {},
   "outputs": [],
   "source": [
    "int_labels = np.array([label for label in y_balanced])\n",
    "y_train_val = tfk.utils.to_categorical(int_labels)\n",
    "\n",
    "X_train, X_val, y_train, y_val = train_test_split(X_balanced, y_train_val, random_state=42, test_size=0.1, stratify=y_train_val)"
   ]
  },
  {
   "cell_type": "code",
   "execution_count": 6,
   "id": "464ff243-d4c9-48d2-9330-d1107ac606d9",
   "metadata": {},
   "outputs": [],
   "source": [
    "X_train = (X_train / 255).astype('float32') "
   ]
  },
  {
   "cell_type": "code",
   "execution_count": 7,
   "id": "3a3352e0-2a71-424a-a37e-106d63d43d86",
   "metadata": {
    "scrolled": true
   },
   "outputs": [],
   "source": [
    "import tensorflow as tf\n",
    "import keras_cv\n",
    "\n",
    "train_dataset = tf.data.Dataset.from_tensor_slices((X_train, y_train))\n",
    "test_dataset = tf.data.Dataset.from_tensor_slices((X_val, y_val))\n",
    "\n",
    "rand_augment = keras_cv.layers.RandAugment(\n",
    "    value_range=(0, 1),\n",
    "    augmentations_per_image=4,\n",
    "    magnitude=0.7,\n",
    "    magnitude_stddev=0.25,\n",
    "    rate=0.8,\n",
    "    geometric=True,\n",
    "    seed=42  \n",
    ")\n",
    "random_flip = tfkl.RandomFlip()\n",
    "\n",
    "def augment_data(images, labels):\n",
    "    # cast to float32 (preferred for compatibility during augmentation)\n",
    "    images = tf.cast(images, tf.float32)\n",
    "    labels = tf.cast(labels, tf.float32)\n",
    "    inputs = {\"images\": images, \"labels\": labels}\n",
    "    outputs = rand_augment(inputs)  \n",
    "    outputs = random_flip(outputs)  \n",
    "\n",
    "    return outputs['images'], outputs['labels']\n",
    "\n",
    "def preprocess_withmultiply_convnext(images, labels):\n",
    "    images = tf.cast(images * 255, tf.uint8)\n",
    "    images = tf.keras.applications.convnext.preprocess_input(images)  # Preprocess the images to ResNet50V2 input format\n",
    "    return images, labels\n",
    "\n",
    "def preprocess_convnext(images, labels):\n",
    "    images = tf.keras.applications.convnext.preprocess_input(images)  # Preprocess the images to ResNet50V2 input format\n",
    "    return images, labels\n",
    "    \n",
    "train_set_aug = (\n",
    "    train_dataset\n",
    "    .map(augment_data, num_parallel_calls=tf.data.AUTOTUNE)  \n",
    "    .map(preprocess_withmultiply_convnext, num_parallel_calls=tf.data.AUTOTUNE)  \n",
    "    .batch(32)                                              \n",
    "    .prefetch(tf.data.AUTOTUNE)                             \n",
    ")\n",
    "test_set = (\n",
    "    test_dataset\n",
    "    .map(preprocess_convnext, num_parallel_calls=tf.data.AUTOTUNE) \n",
    "    .batch(32)                                            \n",
    "    .prefetch(tf.data.AUTOTUNE)                    \n",
    ")"
   ]
  },
  {
   "cell_type": "code",
   "execution_count": 10,
   "id": "28c4eb16-07e8-4c17-80c7-09b62f42df4f",
   "metadata": {},
   "outputs": [],
   "source": [
    "\"\"\"\n",
    "from tensorflow.keras import mixed_precision\n",
    "\n",
    "policy = tf.keras.mixed_precision.Policy('mixed_float16')\n",
    "mixed_precision.set_global_policy(policy)\n",
    "\"\"\""
   ]
  },
  {
   "cell_type": "code",
   "execution_count": 8,
   "id": "75c5e75f-53ca-4ce3-8045-0101c45baa7b",
   "metadata": {},
   "outputs": [],
   "source": [
    "model = build_convnext_classifier(seed=42)\n",
    "\n",
    "optimizer = tf.keras.optimizers.AdamW()\n",
    "model.compile(loss='categorical_crossentropy', optimizer=optimizer, metrics=['accuracy'])"
   ]
  },
  {
   "cell_type": "code",
   "execution_count": 10,
   "id": "7d317ad6-7367-470e-8658-99b08188c953",
   "metadata": {},
   "outputs": [],
   "source": [
    "def cosine_annealing_schedule(epoch, lr_start=1e-3, lr_end=1e-4, T_max=10):\n",
    "    return lr_end + (lr_start - lr_end) * (1 + np.cos(np.pi * epoch / T_max)) / 2\n",
    "\n",
    "class PlotLearning(tf.keras.callbacks.Callback):\n",
    "    def on_train_begin(self, logs=None):\n",
    "        self.metrics = {}\n",
    "\n",
    "    def on_epoch_end(self, epoch, logs=None):\n",
    "        if logs is not None:\n",
    "            for metric, value in logs.items():\n",
    "                if metric not in self.metrics:\n",
    "                    self.metrics[metric] = []\n",
    "                self.metrics[metric].append(value)\n",
    "\n",
    "        metrics = [x for x in logs if 'val' not in x and not x.startswith('lr')]\n",
    "        f, axs = plt.subplots(1, len(metrics), figsize=(15, 5))\n",
    "        clear_output(wait=True)\n",
    "\n",
    "        for i, metric in enumerate(metrics):\n",
    "            axs[i].plot(self.metrics[metric], label=metric)\n",
    "            if 'val_' + metric in self.metrics:\n",
    "                axs[i].plot(self.metrics['val_' + metric], label='val_' + metric)\n",
    "            axs[i].legend()\n",
    "            axs[i].grid()\n",
    "\n",
    "        plt.tight_layout()\n",
    "        plt.show()\n",
    "\n",
    "# Callbacks\n",
    "early_stopping = EarlyStopping(monitor='val_accuracy', patience=3)\n",
    "lr_schedule = LearningRateScheduler(cosine_annealing_schedule)\n",
    "plot_callback = PlotLearning()"
   ]
  },
  {
   "cell_type": "code",
   "execution_count": 11,
   "id": "ff080944-7590-46a9-bb24-b4564111738a",
   "metadata": {},
   "outputs": [
    {
     "name": "stdout",
     "output_type": "stream",
     "text": [
      "Epoch 1/10\n"
     ]
    },
    {
     "name": "stderr",
     "output_type": "stream",
     "text": [
      "I0000 00:00:1732274910.654656    8715 cuda_dnn.cc:529] Loaded cuDNN version 90300\n"
     ]
    },
    {
     "name": "stdout",
     "output_type": "stream",
     "text": [
      "\u001b[1m563/563\u001b[0m \u001b[32m━━━━━━━━━━━━━━━━━━━━\u001b[0m\u001b[37m\u001b[0m \u001b[1m1089s\u001b[0m 2s/step - accuracy: 0.6176 - loss: 1.1487 - val_accuracy: 0.8990 - val_loss: 0.3267 - learning_rate: 0.0010\n",
      "Epoch 2/10\n",
      "\u001b[1m563/563\u001b[0m \u001b[32m━━━━━━━━━━━━━━━━━━━━\u001b[0m\u001b[37m\u001b[0m \u001b[1m1066s\u001b[0m 2s/step - accuracy: 0.7421 - loss: 0.7471 - val_accuracy: 0.9390 - val_loss: 0.2020 - learning_rate: 9.7798e-04\n",
      "Epoch 3/10\n",
      "\u001b[1m563/563\u001b[0m \u001b[32m━━━━━━━━━━━━━━━━━━━━\u001b[0m\u001b[37m\u001b[0m \u001b[1m1067s\u001b[0m 2s/step - accuracy: 0.7736 - loss: 0.6553 - val_accuracy: 0.9230 - val_loss: 0.2215 - learning_rate: 8.9414e-04\n",
      "Epoch 4/10\n",
      "\u001b[1m563/563\u001b[0m \u001b[32m━━━━━━━━━━━━━━━━━━━━\u001b[0m\u001b[37m\u001b[0m \u001b[1m1065s\u001b[0m 2s/step - accuracy: 0.7963 - loss: 0.5938 - val_accuracy: 0.9405 - val_loss: 0.1720 - learning_rate: 7.3046e-04\n",
      "Epoch 5/10\n",
      "\u001b[1m563/563\u001b[0m \u001b[32m━━━━━━━━━━━━━━━━━━━━\u001b[0m\u001b[37m\u001b[0m \u001b[1m1064s\u001b[0m 2s/step - accuracy: 0.8075 - loss: 0.5455 - val_accuracy: 0.9625 - val_loss: 0.1137 - learning_rate: 5.1264e-04\n",
      "Epoch 6/10\n",
      "\u001b[1m563/563\u001b[0m \u001b[32m━━━━━━━━━━━━━━━━━━━━\u001b[0m\u001b[37m\u001b[0m \u001b[1m1063s\u001b[0m 2s/step - accuracy: 0.8259 - loss: 0.4976 - val_accuracy: 0.9575 - val_loss: 0.1169 - learning_rate: 3.0632e-04\n",
      "Epoch 7/10\n",
      "\u001b[1m563/563\u001b[0m \u001b[32m━━━━━━━━━━━━━━━━━━━━\u001b[0m\u001b[37m\u001b[0m \u001b[1m1062s\u001b[0m 2s/step - accuracy: 0.8371 - loss: 0.4750 - val_accuracy: 0.9620 - val_loss: 0.1064 - learning_rate: 1.7128e-04\n",
      "Epoch 8/10\n",
      "\u001b[1m563/563\u001b[0m \u001b[32m━━━━━━━━━━━━━━━━━━━━\u001b[0m\u001b[37m\u001b[0m \u001b[1m1063s\u001b[0m 2s/step - accuracy: 0.8368 - loss: 0.4508 - val_accuracy: 0.9660 - val_loss: 0.0977 - learning_rate: 1.1469e-04\n",
      "Epoch 9/10\n",
      "\u001b[1m563/563\u001b[0m \u001b[32m━━━━━━━━━━━━━━━━━━━━\u001b[0m\u001b[37m\u001b[0m \u001b[1m1063s\u001b[0m 2s/step - accuracy: 0.8509 - loss: 0.4378 - val_accuracy: 0.9640 - val_loss: 0.1011 - learning_rate: 1.0140e-04\n",
      "Epoch 10/10\n",
      "\u001b[1m563/563\u001b[0m \u001b[32m━━━━━━━━━━━━━━━━━━━━\u001b[0m\u001b[37m\u001b[0m \u001b[1m1060s\u001b[0m 2s/step - accuracy: 0.8459 - loss: 0.4433 - val_accuracy: 0.9675 - val_loss: 0.0975 - learning_rate: 1.0003e-04\n"
     ]
    }
   ],
   "source": [
    "history = model.fit(\n",
    "    train_set_aug,\n",
    "    epochs=10,\n",
    "    validation_data=test_set,\n",
    "    callbacks=[early_stopping, lr_schedule]\n",
    ")"
   ]
  },
  {
   "cell_type": "code",
   "execution_count": 12,
   "id": "2c0cfa6b-d1c7-4453-af15-3de9b819b6ca",
   "metadata": {},
   "outputs": [],
   "source": [
    "model.save(\"convnextlarge_offline_aug.keras\")"
   ]
  },
  {
   "cell_type": "code",
   "execution_count": 1,
   "id": "5d8faf61-9652-47df-a65d-9b700752dfa6",
   "metadata": {},
   "outputs": [
    {
     "name": "stdout",
     "output_type": "stream",
     "text": [
      "  adding: model.py (deflated 49%)\n",
      "  adding: convnextlarge_offline_aug.keras (deflated 7%)\n"
     ]
    }
   ],
   "source": [
    "from datetime import datetime\n",
    "filename = f'submission_{datetime.now().strftime(\"%y%m%d_%H%M%S\")}.zip'\n",
    "!zip {filename} model.py convnextlarge_offline_aug.keras"
   ]
  },
  {
   "cell_type": "markdown",
   "id": "5df9a746-b643-4f79-a9d9-d9ac4ccd504e",
   "metadata": {},
   "source": [
    "#### Finetuning"
   ]
  },
  {
   "cell_type": "code",
   "execution_count": 13,
   "id": "74a13d5f-2f38-4200-bd6d-51e5034219a3",
   "metadata": {},
   "outputs": [],
   "source": [
    "finetuned_model = build_convnext_classifier(seed=42)\n",
    "finetuned_model.load_weights('convnextlarge_offline_aug.keras')"
   ]
  },
  {
   "cell_type": "code",
   "execution_count": 14,
   "id": "2c753617-8580-4394-bd06-40b6bf7d3313",
   "metadata": {},
   "outputs": [],
   "source": [
    "b_model = finetuned_model.get_layer('convnext_large')\n",
    "\n",
    "layers = b_model.layers\n",
    "\n",
    "for layer in layers[-30:]:\n",
    "    layer.trainable = True"
   ]
  },
  {
   "cell_type": "code",
   "execution_count": 15,
   "id": "12e55cc1-d533-458b-8dc1-be3decdab8ca",
   "metadata": {},
   "outputs": [],
   "source": [
    "finetuned_model.get_layer('batch_norm').trainable = False ## Suggested in tensorflow fine tuning site"
   ]
  },
  {
   "cell_type": "code",
   "execution_count": 16,
   "id": "13c08746-f209-45bb-af28-c43c89e357a9",
   "metadata": {
    "scrolled": true
   },
   "outputs": [
    {
     "name": "stdout",
     "output_type": "stream",
     "text": [
      "Layers within 'convnext_large' submodule:\n",
      "0 input_layer False\n",
      "1 convnext_large_prestem_normalization False\n",
      "2 convnext_large_stem False\n",
      "3 convnext_large_stage_0_block_0_depthwise_conv False\n",
      "4 convnext_large_stage_0_block_0_layernorm False\n",
      "5 convnext_large_stage_0_block_0_pointwise_conv_1 False\n",
      "6 convnext_large_stage_0_block_0_gelu False\n",
      "7 convnext_large_stage_0_block_0_pointwise_conv_2 False\n",
      "8 convnext_large_stage_0_block_0_layer_scale False\n",
      "9 convnext_large_stage_0_block_0_identity False\n",
      "10 convnext_large_stage_0_block_1_depthwise_conv False\n",
      "11 convnext_large_stage_0_block_1_layernorm False\n",
      "12 convnext_large_stage_0_block_1_pointwise_conv_1 False\n",
      "13 convnext_large_stage_0_block_1_gelu False\n",
      "14 convnext_large_stage_0_block_1_pointwise_conv_2 False\n",
      "15 convnext_large_stage_0_block_1_layer_scale False\n",
      "16 convnext_large_stage_0_block_1_identity False\n",
      "17 convnext_large_stage_0_block_2_depthwise_conv False\n",
      "18 convnext_large_stage_0_block_2_layernorm False\n",
      "19 convnext_large_stage_0_block_2_pointwise_conv_1 False\n",
      "20 convnext_large_stage_0_block_2_gelu False\n",
      "21 convnext_large_stage_0_block_2_pointwise_conv_2 False\n",
      "22 convnext_large_stage_0_block_2_layer_scale False\n",
      "23 convnext_large_stage_0_block_2_identity False\n",
      "24 convnext_large_downsampling_block_0 False\n",
      "25 convnext_large_stage_1_block_0_depthwise_conv False\n",
      "26 convnext_large_stage_1_block_0_layernorm False\n",
      "27 convnext_large_stage_1_block_0_pointwise_conv_1 False\n",
      "28 convnext_large_stage_1_block_0_gelu False\n",
      "29 convnext_large_stage_1_block_0_pointwise_conv_2 False\n",
      "30 convnext_large_stage_1_block_0_layer_scale False\n",
      "31 convnext_large_stage_1_block_0_identity False\n",
      "32 convnext_large_stage_1_block_1_depthwise_conv False\n",
      "33 convnext_large_stage_1_block_1_layernorm False\n",
      "34 convnext_large_stage_1_block_1_pointwise_conv_1 False\n",
      "35 convnext_large_stage_1_block_1_gelu False\n",
      "36 convnext_large_stage_1_block_1_pointwise_conv_2 False\n",
      "37 convnext_large_stage_1_block_1_layer_scale False\n",
      "38 convnext_large_stage_1_block_1_identity False\n",
      "39 convnext_large_stage_1_block_2_depthwise_conv False\n",
      "40 convnext_large_stage_1_block_2_layernorm False\n",
      "41 convnext_large_stage_1_block_2_pointwise_conv_1 False\n",
      "42 convnext_large_stage_1_block_2_gelu False\n",
      "43 convnext_large_stage_1_block_2_pointwise_conv_2 False\n",
      "44 convnext_large_stage_1_block_2_layer_scale False\n",
      "45 convnext_large_stage_1_block_2_identity False\n",
      "46 convnext_large_downsampling_block_1 False\n",
      "47 convnext_large_stage_2_block_0_depthwise_conv False\n",
      "48 convnext_large_stage_2_block_0_layernorm False\n",
      "49 convnext_large_stage_2_block_0_pointwise_conv_1 False\n",
      "50 convnext_large_stage_2_block_0_gelu False\n",
      "51 convnext_large_stage_2_block_0_pointwise_conv_2 False\n",
      "52 convnext_large_stage_2_block_0_layer_scale False\n",
      "53 convnext_large_stage_2_block_0_identity False\n",
      "54 convnext_large_stage_2_block_1_depthwise_conv False\n",
      "55 convnext_large_stage_2_block_1_layernorm False\n",
      "56 convnext_large_stage_2_block_1_pointwise_conv_1 False\n",
      "57 convnext_large_stage_2_block_1_gelu False\n",
      "58 convnext_large_stage_2_block_1_pointwise_conv_2 False\n",
      "59 convnext_large_stage_2_block_1_layer_scale False\n",
      "60 convnext_large_stage_2_block_1_identity False\n",
      "61 convnext_large_stage_2_block_2_depthwise_conv False\n",
      "62 convnext_large_stage_2_block_2_layernorm False\n",
      "63 convnext_large_stage_2_block_2_pointwise_conv_1 False\n",
      "64 convnext_large_stage_2_block_2_gelu False\n",
      "65 convnext_large_stage_2_block_2_pointwise_conv_2 False\n",
      "66 convnext_large_stage_2_block_2_layer_scale False\n",
      "67 convnext_large_stage_2_block_2_identity False\n",
      "68 convnext_large_stage_2_block_3_depthwise_conv False\n",
      "69 convnext_large_stage_2_block_3_layernorm False\n",
      "70 convnext_large_stage_2_block_3_pointwise_conv_1 False\n",
      "71 convnext_large_stage_2_block_3_gelu False\n",
      "72 convnext_large_stage_2_block_3_pointwise_conv_2 False\n",
      "73 convnext_large_stage_2_block_3_layer_scale False\n",
      "74 convnext_large_stage_2_block_3_identity False\n",
      "75 convnext_large_stage_2_block_4_depthwise_conv False\n",
      "76 convnext_large_stage_2_block_4_layernorm False\n",
      "77 convnext_large_stage_2_block_4_pointwise_conv_1 False\n",
      "78 convnext_large_stage_2_block_4_gelu False\n",
      "79 convnext_large_stage_2_block_4_pointwise_conv_2 False\n",
      "80 convnext_large_stage_2_block_4_layer_scale False\n",
      "81 convnext_large_stage_2_block_4_identity False\n",
      "82 convnext_large_stage_2_block_5_depthwise_conv False\n",
      "83 convnext_large_stage_2_block_5_layernorm False\n",
      "84 convnext_large_stage_2_block_5_pointwise_conv_1 False\n",
      "85 convnext_large_stage_2_block_5_gelu False\n",
      "86 convnext_large_stage_2_block_5_pointwise_conv_2 False\n",
      "87 convnext_large_stage_2_block_5_layer_scale False\n",
      "88 convnext_large_stage_2_block_5_identity False\n",
      "89 convnext_large_stage_2_block_6_depthwise_conv False\n",
      "90 convnext_large_stage_2_block_6_layernorm False\n",
      "91 convnext_large_stage_2_block_6_pointwise_conv_1 False\n",
      "92 convnext_large_stage_2_block_6_gelu False\n",
      "93 convnext_large_stage_2_block_6_pointwise_conv_2 False\n",
      "94 convnext_large_stage_2_block_6_layer_scale False\n",
      "95 convnext_large_stage_2_block_6_identity False\n",
      "96 convnext_large_stage_2_block_7_depthwise_conv False\n",
      "97 convnext_large_stage_2_block_7_layernorm False\n",
      "98 convnext_large_stage_2_block_7_pointwise_conv_1 False\n",
      "99 convnext_large_stage_2_block_7_gelu False\n",
      "100 convnext_large_stage_2_block_7_pointwise_conv_2 False\n",
      "101 convnext_large_stage_2_block_7_layer_scale False\n",
      "102 convnext_large_stage_2_block_7_identity False\n",
      "103 convnext_large_stage_2_block_8_depthwise_conv False\n",
      "104 convnext_large_stage_2_block_8_layernorm False\n",
      "105 convnext_large_stage_2_block_8_pointwise_conv_1 False\n",
      "106 convnext_large_stage_2_block_8_gelu False\n",
      "107 convnext_large_stage_2_block_8_pointwise_conv_2 False\n",
      "108 convnext_large_stage_2_block_8_layer_scale False\n",
      "109 convnext_large_stage_2_block_8_identity False\n",
      "110 convnext_large_stage_2_block_9_depthwise_conv False\n",
      "111 convnext_large_stage_2_block_9_layernorm False\n",
      "112 convnext_large_stage_2_block_9_pointwise_conv_1 False\n",
      "113 convnext_large_stage_2_block_9_gelu False\n",
      "114 convnext_large_stage_2_block_9_pointwise_conv_2 False\n",
      "115 convnext_large_stage_2_block_9_layer_scale False\n",
      "116 convnext_large_stage_2_block_9_identity False\n",
      "117 convnext_large_stage_2_block_10_depthwise_conv False\n",
      "118 convnext_large_stage_2_block_10_layernorm False\n",
      "119 convnext_large_stage_2_block_10_pointwise_conv_1 False\n",
      "120 convnext_large_stage_2_block_10_gelu False\n",
      "121 convnext_large_stage_2_block_10_pointwise_conv_2 False\n",
      "122 convnext_large_stage_2_block_10_layer_scale False\n",
      "123 convnext_large_stage_2_block_10_identity False\n",
      "124 convnext_large_stage_2_block_11_depthwise_conv False\n",
      "125 convnext_large_stage_2_block_11_layernorm False\n",
      "126 convnext_large_stage_2_block_11_pointwise_conv_1 False\n",
      "127 convnext_large_stage_2_block_11_gelu False\n",
      "128 convnext_large_stage_2_block_11_pointwise_conv_2 False\n",
      "129 convnext_large_stage_2_block_11_layer_scale False\n",
      "130 convnext_large_stage_2_block_11_identity False\n",
      "131 convnext_large_stage_2_block_12_depthwise_conv False\n",
      "132 convnext_large_stage_2_block_12_layernorm False\n",
      "133 convnext_large_stage_2_block_12_pointwise_conv_1 False\n",
      "134 convnext_large_stage_2_block_12_gelu False\n",
      "135 convnext_large_stage_2_block_12_pointwise_conv_2 False\n",
      "136 convnext_large_stage_2_block_12_layer_scale False\n",
      "137 convnext_large_stage_2_block_12_identity False\n",
      "138 convnext_large_stage_2_block_13_depthwise_conv False\n",
      "139 convnext_large_stage_2_block_13_layernorm False\n",
      "140 convnext_large_stage_2_block_13_pointwise_conv_1 False\n",
      "141 convnext_large_stage_2_block_13_gelu False\n",
      "142 convnext_large_stage_2_block_13_pointwise_conv_2 False\n",
      "143 convnext_large_stage_2_block_13_layer_scale False\n",
      "144 convnext_large_stage_2_block_13_identity False\n",
      "145 convnext_large_stage_2_block_14_depthwise_conv False\n",
      "146 convnext_large_stage_2_block_14_layernorm False\n",
      "147 convnext_large_stage_2_block_14_pointwise_conv_1 False\n",
      "148 convnext_large_stage_2_block_14_gelu False\n",
      "149 convnext_large_stage_2_block_14_pointwise_conv_2 False\n",
      "150 convnext_large_stage_2_block_14_layer_scale False\n",
      "151 convnext_large_stage_2_block_14_identity False\n",
      "152 convnext_large_stage_2_block_15_depthwise_conv False\n",
      "153 convnext_large_stage_2_block_15_layernorm False\n",
      "154 convnext_large_stage_2_block_15_pointwise_conv_1 False\n",
      "155 convnext_large_stage_2_block_15_gelu False\n",
      "156 convnext_large_stage_2_block_15_pointwise_conv_2 False\n",
      "157 convnext_large_stage_2_block_15_layer_scale False\n",
      "158 convnext_large_stage_2_block_15_identity False\n",
      "159 convnext_large_stage_2_block_16_depthwise_conv False\n",
      "160 convnext_large_stage_2_block_16_layernorm False\n",
      "161 convnext_large_stage_2_block_16_pointwise_conv_1 False\n",
      "162 convnext_large_stage_2_block_16_gelu False\n",
      "163 convnext_large_stage_2_block_16_pointwise_conv_2 False\n",
      "164 convnext_large_stage_2_block_16_layer_scale False\n",
      "165 convnext_large_stage_2_block_16_identity False\n",
      "166 convnext_large_stage_2_block_17_depthwise_conv False\n",
      "167 convnext_large_stage_2_block_17_layernorm False\n",
      "168 convnext_large_stage_2_block_17_pointwise_conv_1 False\n",
      "169 convnext_large_stage_2_block_17_gelu False\n",
      "170 convnext_large_stage_2_block_17_pointwise_conv_2 False\n",
      "171 convnext_large_stage_2_block_17_layer_scale False\n",
      "172 convnext_large_stage_2_block_17_identity False\n",
      "173 convnext_large_stage_2_block_18_depthwise_conv False\n",
      "174 convnext_large_stage_2_block_18_layernorm False\n",
      "175 convnext_large_stage_2_block_18_pointwise_conv_1 False\n",
      "176 convnext_large_stage_2_block_18_gelu False\n",
      "177 convnext_large_stage_2_block_18_pointwise_conv_2 False\n",
      "178 convnext_large_stage_2_block_18_layer_scale False\n",
      "179 convnext_large_stage_2_block_18_identity False\n",
      "180 convnext_large_stage_2_block_19_depthwise_conv False\n",
      "181 convnext_large_stage_2_block_19_layernorm False\n",
      "182 convnext_large_stage_2_block_19_pointwise_conv_1 False\n",
      "183 convnext_large_stage_2_block_19_gelu False\n",
      "184 convnext_large_stage_2_block_19_pointwise_conv_2 False\n",
      "185 convnext_large_stage_2_block_19_layer_scale False\n",
      "186 convnext_large_stage_2_block_19_identity False\n",
      "187 convnext_large_stage_2_block_20_depthwise_conv False\n",
      "188 convnext_large_stage_2_block_20_layernorm False\n",
      "189 convnext_large_stage_2_block_20_pointwise_conv_1 False\n",
      "190 convnext_large_stage_2_block_20_gelu False\n",
      "191 convnext_large_stage_2_block_20_pointwise_conv_2 False\n",
      "192 convnext_large_stage_2_block_20_layer_scale False\n",
      "193 convnext_large_stage_2_block_20_identity False\n",
      "194 convnext_large_stage_2_block_21_depthwise_conv False\n",
      "195 convnext_large_stage_2_block_21_layernorm False\n",
      "196 convnext_large_stage_2_block_21_pointwise_conv_1 False\n",
      "197 convnext_large_stage_2_block_21_gelu False\n",
      "198 convnext_large_stage_2_block_21_pointwise_conv_2 False\n",
      "199 convnext_large_stage_2_block_21_layer_scale False\n",
      "200 convnext_large_stage_2_block_21_identity False\n",
      "201 convnext_large_stage_2_block_22_depthwise_conv False\n",
      "202 convnext_large_stage_2_block_22_layernorm False\n",
      "203 convnext_large_stage_2_block_22_pointwise_conv_1 False\n",
      "204 convnext_large_stage_2_block_22_gelu False\n",
      "205 convnext_large_stage_2_block_22_pointwise_conv_2 False\n",
      "206 convnext_large_stage_2_block_22_layer_scale False\n",
      "207 convnext_large_stage_2_block_22_identity False\n",
      "208 convnext_large_stage_2_block_23_depthwise_conv False\n",
      "209 convnext_large_stage_2_block_23_layernorm False\n",
      "210 convnext_large_stage_2_block_23_pointwise_conv_1 False\n",
      "211 convnext_large_stage_2_block_23_gelu False\n",
      "212 convnext_large_stage_2_block_23_pointwise_conv_2 False\n",
      "213 convnext_large_stage_2_block_23_layer_scale False\n",
      "214 convnext_large_stage_2_block_23_identity False\n",
      "215 convnext_large_stage_2_block_24_depthwise_conv False\n",
      "216 convnext_large_stage_2_block_24_layernorm False\n",
      "217 convnext_large_stage_2_block_24_pointwise_conv_1 False\n",
      "218 convnext_large_stage_2_block_24_gelu False\n",
      "219 convnext_large_stage_2_block_24_pointwise_conv_2 False\n",
      "220 convnext_large_stage_2_block_24_layer_scale False\n",
      "221 convnext_large_stage_2_block_24_identity False\n",
      "222 convnext_large_stage_2_block_25_depthwise_conv False\n",
      "223 convnext_large_stage_2_block_25_layernorm False\n",
      "224 convnext_large_stage_2_block_25_pointwise_conv_1 False\n",
      "225 convnext_large_stage_2_block_25_gelu False\n",
      "226 convnext_large_stage_2_block_25_pointwise_conv_2 False\n",
      "227 convnext_large_stage_2_block_25_layer_scale False\n",
      "228 convnext_large_stage_2_block_25_identity False\n",
      "229 convnext_large_stage_2_block_26_depthwise_conv True\n",
      "230 convnext_large_stage_2_block_26_layernorm True\n",
      "231 convnext_large_stage_2_block_26_pointwise_conv_1 True\n",
      "232 convnext_large_stage_2_block_26_gelu True\n",
      "233 convnext_large_stage_2_block_26_pointwise_conv_2 True\n",
      "234 convnext_large_stage_2_block_26_layer_scale True\n",
      "235 convnext_large_stage_2_block_26_identity True\n",
      "236 convnext_large_downsampling_block_2 True\n",
      "237 convnext_large_stage_3_block_0_depthwise_conv True\n",
      "238 convnext_large_stage_3_block_0_layernorm True\n",
      "239 convnext_large_stage_3_block_0_pointwise_conv_1 True\n",
      "240 convnext_large_stage_3_block_0_gelu True\n",
      "241 convnext_large_stage_3_block_0_pointwise_conv_2 True\n",
      "242 convnext_large_stage_3_block_0_layer_scale True\n",
      "243 convnext_large_stage_3_block_0_identity True\n",
      "244 convnext_large_stage_3_block_1_depthwise_conv True\n",
      "245 convnext_large_stage_3_block_1_layernorm True\n",
      "246 convnext_large_stage_3_block_1_pointwise_conv_1 True\n",
      "247 convnext_large_stage_3_block_1_gelu True\n",
      "248 convnext_large_stage_3_block_1_pointwise_conv_2 True\n",
      "249 convnext_large_stage_3_block_1_layer_scale True\n",
      "250 convnext_large_stage_3_block_1_identity True\n",
      "251 convnext_large_stage_3_block_2_depthwise_conv True\n",
      "252 convnext_large_stage_3_block_2_layernorm True\n",
      "253 convnext_large_stage_3_block_2_pointwise_conv_1 True\n",
      "254 convnext_large_stage_3_block_2_gelu True\n",
      "255 convnext_large_stage_3_block_2_pointwise_conv_2 True\n",
      "256 convnext_large_stage_3_block_2_layer_scale True\n",
      "257 convnext_large_stage_3_block_2_identity True\n",
      "258 layer_normalization True\n",
      "----------------------------------------------------------------------\n",
      "All layers in the model:\n",
      "0 input_layer_6 True\n",
      "1 convnext_large False\n",
      "2 avg_pool True\n",
      "3 batch_norm False\n",
      "4 dense_3 True\n",
      "5 dropout_2 True\n",
      "6 dense_4 True\n",
      "7 dropout_3 True\n",
      "8 dense_5 True\n"
     ]
    }
   ],
   "source": [
    "# Display the layers and their trainable status within the 'convnext_large' submodule\n",
    "print(\"Layers within 'convnext_large' submodule:\")\n",
    "for i, layer in enumerate(finetuned_model.get_layer('convnext_large').layers):\n",
    "    print(i, layer.name, layer.trainable)\n",
    "print(\"----------------------------------------------------------------------\")\n",
    "print(\"All layers in the model:\")\n",
    "for i, layer in enumerate(finetuned_model.layers):\n",
    "    print(i, layer.name, layer.trainable)"
   ]
  },
  {
   "cell_type": "code",
   "execution_count": 17,
   "id": "54eba584-10b1-4604-aed4-f9072ad96868",
   "metadata": {},
   "outputs": [],
   "source": [
    "def cosine_annealing_schedule(epoch, lr_start=3e-5, lr_end=1e-5, T_max=2):\n",
    "    return lr_end + (lr_start - lr_end) * (1 + np.cos(np.pi * epoch / T_max)) / 2"
   ]
  },
  {
   "cell_type": "code",
   "execution_count": 18,
   "id": "ae91fb35-c1b3-4319-9cb2-067ab45e655a",
   "metadata": {},
   "outputs": [],
   "source": [
    "# Callbacks for training\n",
    "early_stopping = EarlyStopping(monitor='val_accuracy', patience=2)\n",
    "lr_schedule = ReduceLROnPlateau(patience=1, factor=0.5, monitor=\"val_loss\")\n",
    "lr_schedule = LearningRateScheduler(cosine_annealing_schedule)"
   ]
  },
  {
   "cell_type": "code",
   "execution_count": 19,
   "id": "d5a74372-cac5-440d-b2bb-ef6d8184b6d1",
   "metadata": {},
   "outputs": [],
   "source": [
    "#optimizer = tf.keras.optimizers.Lion(learning_rate=5e-5, weight_decay=0.01)\n",
    "optimizer = tf.keras.optimizers.AdamW(learning_rate=3e-5, weight_decay=0.01)\n",
    "finetuned_model.compile(loss='categorical_crossentropy', optimizer=optimizer, metrics=['accuracy'])"
   ]
  },
  {
   "cell_type": "code",
   "execution_count": 20,
   "id": "46d4c8ad-4c02-43e7-a17e-0e539d1e1acc",
   "metadata": {},
   "outputs": [
    {
     "name": "stdout",
     "output_type": "stream",
     "text": [
      "Epoch 1/3\n",
      "\u001b[1m563/563\u001b[0m \u001b[32m━━━━━━━━━━━━━━━━━━━━\u001b[0m\u001b[37m\u001b[0m \u001b[1m1143s\u001b[0m 2s/step - accuracy: 0.8502 - loss: 0.4257 - val_accuracy: 0.9650 - val_loss: 0.1007 - learning_rate: 3.0000e-05\n",
      "Epoch 2/3\n",
      "\u001b[1m563/563\u001b[0m \u001b[32m━━━━━━━━━━━━━━━━━━━━\u001b[0m\u001b[37m\u001b[0m \u001b[1m1142s\u001b[0m 2s/step - accuracy: 0.8708 - loss: 0.3725 - val_accuracy: 0.9705 - val_loss: 0.0916 - learning_rate: 2.0000e-05\n",
      "Epoch 3/3\n",
      "\u001b[1m563/563\u001b[0m \u001b[32m━━━━━━━━━━━━━━━━━━━━\u001b[0m\u001b[37m\u001b[0m \u001b[1m1148s\u001b[0m 2s/step - accuracy: 0.8752 - loss: 0.3693 - val_accuracy: 0.9700 - val_loss: 0.1003 - learning_rate: 1.0000e-05\n"
     ]
    }
   ],
   "source": [
    "# Assuming the model is defined elsewhere\n",
    "history = finetuned_model.fit(\n",
    "    train_set_aug,\n",
    "    epochs=3,\n",
    "    validation_data=test_set,\n",
    "    callbacks=[early_stopping, lr_schedule]\n",
    ")"
   ]
  },
  {
   "cell_type": "code",
   "execution_count": 21,
   "id": "9b204af7-726c-4d01-b994-c3718f204741",
   "metadata": {},
   "outputs": [],
   "source": [
    "# Save the final model\n",
    "finetuned_model.save(\"convnextlarge_offline_aug_ft.keras\")"
   ]
  },
  {
   "cell_type": "code",
   "execution_count": 2,
   "id": "4ca4778e-e927-4c57-968b-8b424d9ea310",
   "metadata": {},
   "outputs": [
    {
     "name": "stdout",
     "output_type": "stream",
     "text": [
      "  adding: model.py (deflated 49%)\n",
      "  adding: Convnextlargeaugft.keras (deflated 7%)\n"
     ]
    }
   ],
   "source": [
    "from datetime import datetime\n",
    "filename = f'submission_{datetime.now().strftime(\"%y%m%d_%H%M%S\")}.zip'\n",
    "!zip {filename} model.py Convnextlargeaugft.keras"
   ]
  },
  {
   "cell_type": "markdown",
   "id": "19d9c28a-80c1-4d41-8153-214f18dcddba",
   "metadata": {
    "jp-MarkdownHeadingCollapsed": true
   },
   "source": [
    "### Convnext Fine Tuning - Augmentation as a model layer - AdamW"
   ]
  },
  {
   "cell_type": "code",
   "execution_count": 2,
   "id": "d3d15ba3-e2af-44c5-8419-a73973e77aae",
   "metadata": {},
   "outputs": [
    {
     "name": "stderr",
     "output_type": "stream",
     "text": [
      "I0000 00:00:1732182471.657207  459371 gpu_device.cc:2022] Created device /job:localhost/replica:0/task:0/device:GPU:0 with 20750 MB memory:  -> device: 0, name: NVIDIA L4, pci bus id: 0000:00:03.0, compute capability: 8.9\n"
     ]
    }
   ],
   "source": [
    "convnext_base_model = tf.keras.applications.ConvNeXtXLarge(\n",
    "    include_top=False,\n",
    "    weights='imagenet',\n",
    "    input_shape=(96,96,3),\n",
    "    classes=8,\n",
    "    classifier_activation='softmax',\n",
    ")\n",
    "convnext_base_model.trainable = False\n",
    "tf.config.run_functions_eagerly(True)"
   ]
  },
  {
   "cell_type": "code",
   "execution_count": 3,
   "id": "dfe71a62-e82b-4cfe-b450-043e4600b2d8",
   "metadata": {},
   "outputs": [
    {
     "data": {
      "text/plain": [
       "'\\nfor layer in convnext_base_model.layers[-50:]:  # Fine-tune last 50 layers\\n    layer.trainable = True\\n'"
      ]
     },
     "execution_count": 3,
     "metadata": {},
     "output_type": "execute_result"
    }
   ],
   "source": [
    "\"\"\"\n",
    "for layer in convnext_base_model.layers[-50:]:  # Fine-tune last 50 layers\n",
    "    layer.trainable = True\n",
    "\"\"\""
   ]
  },
  {
   "cell_type": "code",
   "execution_count": 3,
   "id": "f2f0c8bb-f3df-4cb2-a7de-31404da68c53",
   "metadata": {},
   "outputs": [],
   "source": [
    "# Register the custom augmentation layer for serialization\n",
    "from tensorflow.keras.applications import ConvNeXtLarge\n",
    "from tensorflow.keras.models import Model\n",
    "from tensorflow.keras.layers import Input, GlobalAveragePooling2D, Dense, BatchNormalization\n",
    "import tensorflow.keras.layers as tfkl\n",
    "\n",
    "@tf.keras.utils.register_keras_serializable(package=\"Custom\")\n",
    "class ImageAugmentationLayer(tfkl.Layer):\n",
    "    def __init__(self, seed=None, **kwargs):\n",
    "        super().__init__(**kwargs)  \n",
    "        self.seed = seed\n",
    "        self.rand_augment = kcvl.RandAugment(\n",
    "            value_range=(0, 1),\n",
    "            augmentations_per_image=3,\n",
    "            magnitude=0.5,\n",
    "            magnitude_stddev=0.2,\n",
    "            rate=0.9090909090909091,\n",
    "            geometric=True,\n",
    "            seed=seed\n",
    "        )\n",
    "        self.random_flip = tfkl.RandomFlip()\n",
    "        self.random_zoom = tfkl.RandomZoom(height_factor=(-0.05, 0.1), width_factor=(-0.05, 0.1))\n",
    "        self.random_rotation = tfkl.RandomRotation(factor=0.5)\n",
    "\n",
    "    def call(self, inputs, training=True):\n",
    "        if training:\n",
    "            x = self.rand_augment(inputs)\n",
    "            x = self.random_flip(x)\n",
    "            x = self.random_zoom(x)\n",
    "            x = self.random_rotation(x)\n",
    "            return x\n",
    "        return inputs\n",
    "\n",
    "    def get_config(self):\n",
    "        config = super().get_config()\n",
    "        config.update({\"seed\": self.seed})\n",
    "        return config\n",
    "\n",
    "# Define a custom layer for the `tf.cast` operation\n",
    "@tf.keras.utils.register_keras_serializable(package=\"Custom\")\n",
    "class CastToUint8Layer(tfkl.Layer):\n",
    "    def call(self, inputs):\n",
    "        return tf.cast(inputs * 255, tf.uint8)\n",
    "\n",
    "# Define the model using the custom augmentation layer\n",
    "def build_convnext_with_augmentation(input_shape=(96, 96, 3), seed=None):\n",
    "    inputs = Input(shape=input_shape)\n",
    "\n",
    "    augmented = ImageAugmentationLayer(seed=seed)(inputs)\n",
    "    augmented_255 = CastToUint8Layer()(augmented)\n",
    "    \n",
    "    x1 = convnext_base_model(augmented_255)  \n",
    "    x2 = tfkl.GlobalAveragePooling2D(name=\"avg_pool\")(x1)\n",
    "    x3 = tfkl.BatchNormalization(name=\"batch_norm\")(x2)\n",
    "    intermediate1 = Dense(1024, activation='swish')(x3)\n",
    "    dropout1 = Dropout(0.2)(intermediate1)\n",
    "    intermediate2 = Dense(256, activation='swish')(dropout1)\n",
    "    outputs = tfkl.Dense(8, activation='softmax')(intermediate2)\n",
    "\n",
    "    model = Model(inputs=inputs, outputs=outputs, name='convnext_augmented_model')\n",
    "    return model\n",
    "\n",
    "@tf.keras.utils.register_keras_serializable(package=\"Custom\")\n",
    "class ImageAugmentationLayerWithAugMix(tfkl.Layer):\n",
    "    def __init__(self, seed=None, **kwargs):\n",
    "        super().__init__(**kwargs)\n",
    "        self.seed = seed\n",
    "        self.rand_augment = kcvl.RandAugment(\n",
    "            value_range=(0, 1),\n",
    "            augmentations_per_image=2,\n",
    "            magnitude=0.4,\n",
    "            magnitude_stddev=0.15,\n",
    "            seed=seed\n",
    "        )\n",
    "        self.augmix = kcvl.AugMix(\n",
    "            value_range=(0, 1),\n",
    "            severity=0.15,\n",
    "            seed=seed\n",
    "        )\n",
    "        self.random_flip = tfkl.RandomFlip()\n",
    "        self.random_zoom = tfkl.RandomZoom(height_factor=(-0.15, 0.2), width_factor=(-0.15, 0.2))\n",
    "        self.random_rotation = tfkl.RandomRotation(factor=0.5)\n",
    "\n",
    "    def call(self, inputs, training=True):\n",
    "        if training:\n",
    "            x = self.augmix(inputs)\n",
    "            x = self.rand_augment(x)\n",
    "            x = self.random_flip(x)\n",
    "            x = self.random_zoom(x)\n",
    "            x = self.random_rotation(x)\n",
    "            return x\n",
    "        return inputs\n",
    "\n",
    "    def get_config(self):\n",
    "        config = super().get_config()\n",
    "        config.update({\"seed\": self.seed})\n",
    "        return config\n",
    "\n",
    "def build_convnext_with_augmix_augmentation(input_shape=(96, 96, 3), seed=None):\n",
    "    inputs = Input(shape=input_shape)\n",
    "    augmented = ImageAugmentationLayerWithAugMix(seed=seed)(inputs)\n",
    "    # Convert to uint8 [0, 255] range after augmentation\n",
    "    augmented_255 = CastToUint8Layer()(augmented)\n",
    "    features = convnext_base_model(augmented_255)\n",
    "    pooled = GlobalAveragePooling2D(name=\"avg_pool\")(features)\n",
    "    normalized = BatchNormalization()(pooled)\n",
    "    x = Dense(1024, activation='swish')(normalized)\n",
    "    x = Dropout(0.2)(x)\n",
    "    x = Dense(256, activation='swish')(x)\n",
    "    x = Dropout(0.2)(x)\n",
    "    outputs = Dense(8, activation='softmax')(x)\n",
    "    return Model(inputs, outputs, name='convnext_augmented_model')"
   ]
  },
  {
   "cell_type": "code",
   "execution_count": 4,
   "id": "2a364166-8d53-465f-af85-e7eac4cf2bb8",
   "metadata": {},
   "outputs": [],
   "source": [
    "from tensorflow.keras.applications import convnext\n",
    "\n",
    "data = np.load('training_set_cleaned_balancedwithrotation.npz')\n",
    "X_balanced = data['images']\n",
    "y_balanced = data['labels']"
   ]
  },
  {
   "cell_type": "code",
   "execution_count": 5,
   "id": "a0e00458-8e79-43d6-8545-ba3931feeec9",
   "metadata": {},
   "outputs": [],
   "source": [
    "X_train_val = (X_balanced / 255).astype('float32')\n",
    "int_labels = np.array([label for label in y_balanced])\n",
    "y_train_val = tfk.utils.to_categorical(int_labels)\n",
    "\n",
    "X_train, X_val, y_train, y_val = train_test_split(X_train_val, y_train_val, random_state=42, test_size=0.1, stratify=y_train_val)"
   ]
  },
  {
   "cell_type": "code",
   "execution_count": 7,
   "id": "0dfb81b1-ec54-4337-9c66-d86b675f6218",
   "metadata": {},
   "outputs": [],
   "source": [
    "model = build_convnext_with_augmentation(seed=42)\n",
    "#model = build_convnext_with_augmix_augmentation(seed=42)"
   ]
  },
  {
   "cell_type": "code",
   "execution_count": 8,
   "id": "8f8d9ea6-4aea-415f-8f91-4ab45b6d11a5",
   "metadata": {},
   "outputs": [],
   "source": [
    "#optimizer = tf.keras.optimizers.Lion(learning_rate=1e-3, weight_decay=0.004)\n",
    "optimizer = tf.keras.optimizers.AdamW()\n",
    "model.compile(loss='categorical_crossentropy', optimizer=optimizer, metrics=['accuracy'])"
   ]
  },
  {
   "cell_type": "code",
   "execution_count": 9,
   "id": "024a5a60-8446-4693-8e87-8e457c92fc94",
   "metadata": {},
   "outputs": [],
   "source": [
    "def cosine_annealing_schedule(epoch, lr_start=1e-3, lr_end=3e-4, T_max=5):\n",
    "    return lr_end + (lr_start - lr_end) * (1 + np.cos(np.pi * epoch / T_max)) / 2"
   ]
  },
  {
   "cell_type": "code",
   "execution_count": 10,
   "id": "be39fc9c-0d7d-4def-9712-c777dc0fede9",
   "metadata": {},
   "outputs": [],
   "source": [
    "from IPython.display import clear_output\n",
    "from tensorflow.keras.callbacks import Callback\n",
    "\n",
    "class PlotLearning(Callback):\n",
    "    def on_train_begin(self, logs=None):\n",
    "        # Initializes a dictionary to store training metrics\n",
    "        self.metrics = {}\n",
    "        if logs is not None:\n",
    "            for metric in logs:\n",
    "                self.metrics[metric] = []\n",
    "\n",
    "    def on_epoch_end(self, epoch, logs=None):\n",
    "        # Store metrics\n",
    "        if logs is not None:\n",
    "            for metric in logs:\n",
    "                if metric in self.metrics:\n",
    "                    self.metrics[metric].append(logs.get(metric))\n",
    "                else:\n",
    "                    self.metrics[metric] = [logs.get(metric)]\n",
    "\n",
    "        # Plotting\n",
    "        metrics = [x for x in logs if 'val' not in x and not x.startswith('lr')]\n",
    "\n",
    "        # Set up subplots\n",
    "        f, axs = plt.subplots(1, len(metrics), figsize=(15, 5))\n",
    "        clear_output(wait=True)\n",
    "\n",
    "        # Convert axs to a numpy array for indexing\n",
    "        if not isinstance(axs, np.ndarray):\n",
    "            axs = np.array([axs])\n",
    "\n",
    "        # Plot learning curves\n",
    "        for i, metric in enumerate(metrics):\n",
    "            axs[i].plot(range(1, epoch + 2),\n",
    "                        self.metrics[metric],\n",
    "                        label=metric)\n",
    "            if 'val_' + metric in self.metrics:\n",
    "                axs[i].plot(range(1, epoch + 2),\n",
    "                            self.metrics['val_' + metric],\n",
    "                            label='val_' + metric)\n",
    "\n",
    "            axs[i].legend()\n",
    "            axs[i].grid()\n",
    "\n",
    "        plt.tight_layout()\n",
    "        plt.show()\n",
    "\n",
    "# Callbacks for training\n",
    "early_stopping = EarlyStopping(monitor='val_accuracy', patience=2)\n",
    "lr_schedule = ReduceLROnPlateau(patience=1, factor=0.5, monitor=\"val_loss\")\n",
    "lr_schedule = LearningRateScheduler(cosine_annealing_schedule)\n",
    "plot_callback = PlotLearning()"
   ]
  },
  {
   "cell_type": "code",
   "execution_count": 11,
   "id": "6d2abb33-0ca0-4166-b7de-9a14a393b3f5",
   "metadata": {},
   "outputs": [
    {
     "name": "stdout",
     "output_type": "stream",
     "text": [
      "Class 0: 2250 samples\n",
      "Class 1: 2250 samples\n",
      "Class 2: 2250 samples\n",
      "Class 3: 2250 samples\n",
      "Class 4: 2250 samples\n",
      "Class 5: 2250 samples\n",
      "Class 6: 2250 samples\n",
      "Class 7: 2250 samples\n"
     ]
    }
   ],
   "source": [
    "class_indices = np.argmax(y_train, axis=1)\n",
    "\n",
    "# Use np.unique to calculate class frequencies\n",
    "unique_classes, counts = np.unique(class_indices, return_counts=True)\n",
    "\n",
    "# Print the class frequencies\n",
    "for cls, count in zip(unique_classes, counts):\n",
    "    print(f\"Class {cls}: {count} samples\")"
   ]
  },
  {
   "cell_type": "code",
   "execution_count": null,
   "id": "b556fa87-a675-41d1-bef6-17f526736321",
   "metadata": {},
   "outputs": [
    {
     "name": "stdout",
     "output_type": "stream",
     "text": [
      "Epoch 1/5\n"
     ]
    },
    {
     "name": "stderr",
     "output_type": "stream",
     "text": [
      "I0000 00:00:1732149110.373597  367821 cuda_dnn.cc:529] Loaded cuDNN version 90300\n"
     ]
    },
    {
     "name": "stdout",
     "output_type": "stream",
     "text": [
      "\u001b[1m 18/563\u001b[0m \u001b[37m━━━━━━━━━━━━━━━━━━━━\u001b[0m \u001b[1m41:42\u001b[0m 5s/step - accuracy: 0.3620 - loss: 1.9208"
     ]
    }
   ],
   "source": [
    "history = model.fit(\n",
    "    x=X_train,\n",
    "    y=y_train,\n",
    "    batch_size=32,\n",
    "    epochs=5,\n",
    "    validation_data=(X_val, y_val),\n",
    "    callbacks=[early_stopping, lr_schedule, plot_callback]\n",
    ")"
   ]
  },
  {
   "cell_type": "code",
   "execution_count": null,
   "id": "207c7871-94f1-4278-8ba0-096bb5320b3e",
   "metadata": {
    "scrolled": true
   },
   "outputs": [],
   "source": [
    "model.summary()"
   ]
  },
  {
   "cell_type": "code",
   "execution_count": null,
   "id": "1fb78b20-3db0-48cc-8048-73803a362562",
   "metadata": {},
   "outputs": [],
   "source": [
    "model.save('ConvNeXtXLarge_augmented_final.keras')"
   ]
  },
  {
   "cell_type": "code",
   "execution_count": null,
   "id": "c088b685-1ab2-42ed-b6f1-2a771e760c67",
   "metadata": {},
   "outputs": [],
   "source": [
    "print(\"done\")"
   ]
  },
  {
   "cell_type": "code",
   "execution_count": null,
   "id": "d1baf3a5-fc66-4a25-9023-03f15277c2ef",
   "metadata": {},
   "outputs": [],
   "source": [
    "from datetime import datetime\n",
    "filename = f'submission_{datetime.now().strftime(\"%y%m%d_%H%M%S\")}.zip'\n",
    "!zip {filename} model.py ConvNeXtXLarge_augmented_final.keras"
   ]
  },
  {
   "cell_type": "markdown",
   "id": "61b7b2dc-4932-409b-97d8-488bc1b4a2dc",
   "metadata": {},
   "source": [
    "#### Finetune"
   ]
  },
  {
   "cell_type": "code",
   "execution_count": 6,
   "id": "6b7cfcf1-edb3-48d5-9a4d-3cc5a9fb04f6",
   "metadata": {},
   "outputs": [],
   "source": [
    "# Create a new instance of CustomModel for fine-tuning\n",
    "finetuned_model = build_convnext_with_augmentation(seed=42)\n",
    "\n",
    "# Load the weights for the model\n",
    "finetuned_model.load_weights('ConvNeXtXLarge_augmented_final.keras')"
   ]
  },
  {
   "cell_type": "code",
   "execution_count": 19,
   "id": "1ec2dced-f201-4424-b3e2-a98ec61a9b17",
   "metadata": {},
   "outputs": [
    {
     "name": "stdout",
     "output_type": "stream",
     "text": [
      "Last 30 layers of convnext_xlarge are now trainable:\n",
      "Layer: convnext_xlarge_stage_2_block_26_depthwise_conv, Trainable: True\n",
      "Layer: convnext_xlarge_stage_2_block_26_layernorm, Trainable: True\n",
      "Layer: convnext_xlarge_stage_2_block_26_pointwise_conv_1, Trainable: True\n",
      "Layer: convnext_xlarge_stage_2_block_26_gelu, Trainable: True\n",
      "Layer: convnext_xlarge_stage_2_block_26_pointwise_conv_2, Trainable: True\n",
      "Layer: convnext_xlarge_stage_2_block_26_layer_scale, Trainable: True\n",
      "Layer: convnext_xlarge_stage_2_block_26_identity, Trainable: True\n",
      "Layer: convnext_xlarge_downsampling_block_2, Trainable: True\n",
      "Layer: convnext_xlarge_stage_3_block_0_depthwise_conv, Trainable: True\n",
      "Layer: convnext_xlarge_stage_3_block_0_layernorm, Trainable: True\n",
      "Layer: convnext_xlarge_stage_3_block_0_pointwise_conv_1, Trainable: True\n",
      "Layer: convnext_xlarge_stage_3_block_0_gelu, Trainable: True\n",
      "Layer: convnext_xlarge_stage_3_block_0_pointwise_conv_2, Trainable: True\n",
      "Layer: convnext_xlarge_stage_3_block_0_layer_scale, Trainable: True\n",
      "Layer: convnext_xlarge_stage_3_block_0_identity, Trainable: True\n",
      "Layer: convnext_xlarge_stage_3_block_1_depthwise_conv, Trainable: True\n",
      "Layer: convnext_xlarge_stage_3_block_1_layernorm, Trainable: True\n",
      "Layer: convnext_xlarge_stage_3_block_1_pointwise_conv_1, Trainable: True\n",
      "Layer: convnext_xlarge_stage_3_block_1_gelu, Trainable: True\n",
      "Layer: convnext_xlarge_stage_3_block_1_pointwise_conv_2, Trainable: True\n",
      "Layer: convnext_xlarge_stage_3_block_1_layer_scale, Trainable: True\n",
      "Layer: convnext_xlarge_stage_3_block_1_identity, Trainable: True\n",
      "Layer: convnext_xlarge_stage_3_block_2_depthwise_conv, Trainable: True\n",
      "Layer: convnext_xlarge_stage_3_block_2_layernorm, Trainable: True\n",
      "Layer: convnext_xlarge_stage_3_block_2_pointwise_conv_1, Trainable: True\n",
      "Layer: convnext_xlarge_stage_3_block_2_gelu, Trainable: True\n",
      "Layer: convnext_xlarge_stage_3_block_2_pointwise_conv_2, Trainable: True\n",
      "Layer: convnext_xlarge_stage_3_block_2_layer_scale, Trainable: True\n",
      "Layer: convnext_xlarge_stage_3_block_2_identity, Trainable: True\n",
      "Layer: layer_normalization, Trainable: True\n"
     ]
    }
   ],
   "source": [
    "b_model = finetuned_model.get_layer('convnext_xlarge')\n",
    "\n",
    "layers = b_model.layers\n",
    "\n",
    "for layer in layers[-30:]:\n",
    "    layer.trainable = True"
   ]
  },
  {
   "cell_type": "code",
   "execution_count": 16,
   "id": "71673eb7-9570-4473-9c9b-07a85746d299",
   "metadata": {},
   "outputs": [],
   "source": [
    "finetuned_model.get_layer('batch_norm').trainable = False"
   ]
  },
  {
   "cell_type": "code",
   "execution_count": 20,
   "id": "c279c303-0097-46a6-9f1c-3dbd0103f33e",
   "metadata": {
    "scrolled": true
   },
   "outputs": [
    {
     "name": "stdout",
     "output_type": "stream",
     "text": [
      "Layers within 'convnext_large' submodule:\n",
      "0 input_layer False\n",
      "1 convnext_xlarge_prestem_normalization False\n",
      "2 convnext_xlarge_stem False\n",
      "3 convnext_xlarge_stage_0_block_0_depthwise_conv False\n",
      "4 convnext_xlarge_stage_0_block_0_layernorm False\n",
      "5 convnext_xlarge_stage_0_block_0_pointwise_conv_1 False\n",
      "6 convnext_xlarge_stage_0_block_0_gelu False\n",
      "7 convnext_xlarge_stage_0_block_0_pointwise_conv_2 False\n",
      "8 convnext_xlarge_stage_0_block_0_layer_scale False\n",
      "9 convnext_xlarge_stage_0_block_0_identity False\n",
      "10 convnext_xlarge_stage_0_block_1_depthwise_conv False\n",
      "11 convnext_xlarge_stage_0_block_1_layernorm False\n",
      "12 convnext_xlarge_stage_0_block_1_pointwise_conv_1 False\n",
      "13 convnext_xlarge_stage_0_block_1_gelu False\n",
      "14 convnext_xlarge_stage_0_block_1_pointwise_conv_2 False\n",
      "15 convnext_xlarge_stage_0_block_1_layer_scale False\n",
      "16 convnext_xlarge_stage_0_block_1_identity False\n",
      "17 convnext_xlarge_stage_0_block_2_depthwise_conv False\n",
      "18 convnext_xlarge_stage_0_block_2_layernorm False\n",
      "19 convnext_xlarge_stage_0_block_2_pointwise_conv_1 False\n",
      "20 convnext_xlarge_stage_0_block_2_gelu False\n",
      "21 convnext_xlarge_stage_0_block_2_pointwise_conv_2 False\n",
      "22 convnext_xlarge_stage_0_block_2_layer_scale False\n",
      "23 convnext_xlarge_stage_0_block_2_identity False\n",
      "24 convnext_xlarge_downsampling_block_0 False\n",
      "25 convnext_xlarge_stage_1_block_0_depthwise_conv False\n",
      "26 convnext_xlarge_stage_1_block_0_layernorm False\n",
      "27 convnext_xlarge_stage_1_block_0_pointwise_conv_1 False\n",
      "28 convnext_xlarge_stage_1_block_0_gelu False\n",
      "29 convnext_xlarge_stage_1_block_0_pointwise_conv_2 False\n",
      "30 convnext_xlarge_stage_1_block_0_layer_scale False\n",
      "31 convnext_xlarge_stage_1_block_0_identity False\n",
      "32 convnext_xlarge_stage_1_block_1_depthwise_conv False\n",
      "33 convnext_xlarge_stage_1_block_1_layernorm False\n",
      "34 convnext_xlarge_stage_1_block_1_pointwise_conv_1 False\n",
      "35 convnext_xlarge_stage_1_block_1_gelu False\n",
      "36 convnext_xlarge_stage_1_block_1_pointwise_conv_2 False\n",
      "37 convnext_xlarge_stage_1_block_1_layer_scale False\n",
      "38 convnext_xlarge_stage_1_block_1_identity False\n",
      "39 convnext_xlarge_stage_1_block_2_depthwise_conv False\n",
      "40 convnext_xlarge_stage_1_block_2_layernorm False\n",
      "41 convnext_xlarge_stage_1_block_2_pointwise_conv_1 False\n",
      "42 convnext_xlarge_stage_1_block_2_gelu False\n",
      "43 convnext_xlarge_stage_1_block_2_pointwise_conv_2 False\n",
      "44 convnext_xlarge_stage_1_block_2_layer_scale False\n",
      "45 convnext_xlarge_stage_1_block_2_identity False\n",
      "46 convnext_xlarge_downsampling_block_1 False\n",
      "47 convnext_xlarge_stage_2_block_0_depthwise_conv False\n",
      "48 convnext_xlarge_stage_2_block_0_layernorm False\n",
      "49 convnext_xlarge_stage_2_block_0_pointwise_conv_1 False\n",
      "50 convnext_xlarge_stage_2_block_0_gelu False\n",
      "51 convnext_xlarge_stage_2_block_0_pointwise_conv_2 False\n",
      "52 convnext_xlarge_stage_2_block_0_layer_scale False\n",
      "53 convnext_xlarge_stage_2_block_0_identity False\n",
      "54 convnext_xlarge_stage_2_block_1_depthwise_conv False\n",
      "55 convnext_xlarge_stage_2_block_1_layernorm False\n",
      "56 convnext_xlarge_stage_2_block_1_pointwise_conv_1 False\n",
      "57 convnext_xlarge_stage_2_block_1_gelu False\n",
      "58 convnext_xlarge_stage_2_block_1_pointwise_conv_2 False\n",
      "59 convnext_xlarge_stage_2_block_1_layer_scale False\n",
      "60 convnext_xlarge_stage_2_block_1_identity False\n",
      "61 convnext_xlarge_stage_2_block_2_depthwise_conv False\n",
      "62 convnext_xlarge_stage_2_block_2_layernorm False\n",
      "63 convnext_xlarge_stage_2_block_2_pointwise_conv_1 False\n",
      "64 convnext_xlarge_stage_2_block_2_gelu False\n",
      "65 convnext_xlarge_stage_2_block_2_pointwise_conv_2 False\n",
      "66 convnext_xlarge_stage_2_block_2_layer_scale False\n",
      "67 convnext_xlarge_stage_2_block_2_identity False\n",
      "68 convnext_xlarge_stage_2_block_3_depthwise_conv False\n",
      "69 convnext_xlarge_stage_2_block_3_layernorm False\n",
      "70 convnext_xlarge_stage_2_block_3_pointwise_conv_1 False\n",
      "71 convnext_xlarge_stage_2_block_3_gelu False\n",
      "72 convnext_xlarge_stage_2_block_3_pointwise_conv_2 False\n",
      "73 convnext_xlarge_stage_2_block_3_layer_scale False\n",
      "74 convnext_xlarge_stage_2_block_3_identity False\n",
      "75 convnext_xlarge_stage_2_block_4_depthwise_conv False\n",
      "76 convnext_xlarge_stage_2_block_4_layernorm False\n",
      "77 convnext_xlarge_stage_2_block_4_pointwise_conv_1 False\n",
      "78 convnext_xlarge_stage_2_block_4_gelu False\n",
      "79 convnext_xlarge_stage_2_block_4_pointwise_conv_2 False\n",
      "80 convnext_xlarge_stage_2_block_4_layer_scale False\n",
      "81 convnext_xlarge_stage_2_block_4_identity False\n",
      "82 convnext_xlarge_stage_2_block_5_depthwise_conv False\n",
      "83 convnext_xlarge_stage_2_block_5_layernorm False\n",
      "84 convnext_xlarge_stage_2_block_5_pointwise_conv_1 False\n",
      "85 convnext_xlarge_stage_2_block_5_gelu False\n",
      "86 convnext_xlarge_stage_2_block_5_pointwise_conv_2 False\n",
      "87 convnext_xlarge_stage_2_block_5_layer_scale False\n",
      "88 convnext_xlarge_stage_2_block_5_identity False\n",
      "89 convnext_xlarge_stage_2_block_6_depthwise_conv False\n",
      "90 convnext_xlarge_stage_2_block_6_layernorm False\n",
      "91 convnext_xlarge_stage_2_block_6_pointwise_conv_1 False\n",
      "92 convnext_xlarge_stage_2_block_6_gelu False\n",
      "93 convnext_xlarge_stage_2_block_6_pointwise_conv_2 False\n",
      "94 convnext_xlarge_stage_2_block_6_layer_scale False\n",
      "95 convnext_xlarge_stage_2_block_6_identity False\n",
      "96 convnext_xlarge_stage_2_block_7_depthwise_conv False\n",
      "97 convnext_xlarge_stage_2_block_7_layernorm False\n",
      "98 convnext_xlarge_stage_2_block_7_pointwise_conv_1 False\n",
      "99 convnext_xlarge_stage_2_block_7_gelu False\n",
      "100 convnext_xlarge_stage_2_block_7_pointwise_conv_2 False\n",
      "101 convnext_xlarge_stage_2_block_7_layer_scale False\n",
      "102 convnext_xlarge_stage_2_block_7_identity False\n",
      "103 convnext_xlarge_stage_2_block_8_depthwise_conv False\n",
      "104 convnext_xlarge_stage_2_block_8_layernorm False\n",
      "105 convnext_xlarge_stage_2_block_8_pointwise_conv_1 False\n",
      "106 convnext_xlarge_stage_2_block_8_gelu False\n",
      "107 convnext_xlarge_stage_2_block_8_pointwise_conv_2 False\n",
      "108 convnext_xlarge_stage_2_block_8_layer_scale False\n",
      "109 convnext_xlarge_stage_2_block_8_identity False\n",
      "110 convnext_xlarge_stage_2_block_9_depthwise_conv False\n",
      "111 convnext_xlarge_stage_2_block_9_layernorm False\n",
      "112 convnext_xlarge_stage_2_block_9_pointwise_conv_1 False\n",
      "113 convnext_xlarge_stage_2_block_9_gelu False\n",
      "114 convnext_xlarge_stage_2_block_9_pointwise_conv_2 False\n",
      "115 convnext_xlarge_stage_2_block_9_layer_scale False\n",
      "116 convnext_xlarge_stage_2_block_9_identity False\n",
      "117 convnext_xlarge_stage_2_block_10_depthwise_conv False\n",
      "118 convnext_xlarge_stage_2_block_10_layernorm False\n",
      "119 convnext_xlarge_stage_2_block_10_pointwise_conv_1 False\n",
      "120 convnext_xlarge_stage_2_block_10_gelu False\n",
      "121 convnext_xlarge_stage_2_block_10_pointwise_conv_2 False\n",
      "122 convnext_xlarge_stage_2_block_10_layer_scale False\n",
      "123 convnext_xlarge_stage_2_block_10_identity False\n",
      "124 convnext_xlarge_stage_2_block_11_depthwise_conv False\n",
      "125 convnext_xlarge_stage_2_block_11_layernorm False\n",
      "126 convnext_xlarge_stage_2_block_11_pointwise_conv_1 False\n",
      "127 convnext_xlarge_stage_2_block_11_gelu False\n",
      "128 convnext_xlarge_stage_2_block_11_pointwise_conv_2 False\n",
      "129 convnext_xlarge_stage_2_block_11_layer_scale False\n",
      "130 convnext_xlarge_stage_2_block_11_identity False\n",
      "131 convnext_xlarge_stage_2_block_12_depthwise_conv False\n",
      "132 convnext_xlarge_stage_2_block_12_layernorm False\n",
      "133 convnext_xlarge_stage_2_block_12_pointwise_conv_1 False\n",
      "134 convnext_xlarge_stage_2_block_12_gelu False\n",
      "135 convnext_xlarge_stage_2_block_12_pointwise_conv_2 False\n",
      "136 convnext_xlarge_stage_2_block_12_layer_scale False\n",
      "137 convnext_xlarge_stage_2_block_12_identity False\n",
      "138 convnext_xlarge_stage_2_block_13_depthwise_conv False\n",
      "139 convnext_xlarge_stage_2_block_13_layernorm False\n",
      "140 convnext_xlarge_stage_2_block_13_pointwise_conv_1 False\n",
      "141 convnext_xlarge_stage_2_block_13_gelu False\n",
      "142 convnext_xlarge_stage_2_block_13_pointwise_conv_2 False\n",
      "143 convnext_xlarge_stage_2_block_13_layer_scale False\n",
      "144 convnext_xlarge_stage_2_block_13_identity False\n",
      "145 convnext_xlarge_stage_2_block_14_depthwise_conv False\n",
      "146 convnext_xlarge_stage_2_block_14_layernorm False\n",
      "147 convnext_xlarge_stage_2_block_14_pointwise_conv_1 False\n",
      "148 convnext_xlarge_stage_2_block_14_gelu False\n",
      "149 convnext_xlarge_stage_2_block_14_pointwise_conv_2 False\n",
      "150 convnext_xlarge_stage_2_block_14_layer_scale False\n",
      "151 convnext_xlarge_stage_2_block_14_identity False\n",
      "152 convnext_xlarge_stage_2_block_15_depthwise_conv False\n",
      "153 convnext_xlarge_stage_2_block_15_layernorm False\n",
      "154 convnext_xlarge_stage_2_block_15_pointwise_conv_1 False\n",
      "155 convnext_xlarge_stage_2_block_15_gelu False\n",
      "156 convnext_xlarge_stage_2_block_15_pointwise_conv_2 False\n",
      "157 convnext_xlarge_stage_2_block_15_layer_scale False\n",
      "158 convnext_xlarge_stage_2_block_15_identity False\n",
      "159 convnext_xlarge_stage_2_block_16_depthwise_conv False\n",
      "160 convnext_xlarge_stage_2_block_16_layernorm False\n",
      "161 convnext_xlarge_stage_2_block_16_pointwise_conv_1 False\n",
      "162 convnext_xlarge_stage_2_block_16_gelu False\n",
      "163 convnext_xlarge_stage_2_block_16_pointwise_conv_2 False\n",
      "164 convnext_xlarge_stage_2_block_16_layer_scale False\n",
      "165 convnext_xlarge_stage_2_block_16_identity False\n",
      "166 convnext_xlarge_stage_2_block_17_depthwise_conv False\n",
      "167 convnext_xlarge_stage_2_block_17_layernorm False\n",
      "168 convnext_xlarge_stage_2_block_17_pointwise_conv_1 False\n",
      "169 convnext_xlarge_stage_2_block_17_gelu False\n",
      "170 convnext_xlarge_stage_2_block_17_pointwise_conv_2 False\n",
      "171 convnext_xlarge_stage_2_block_17_layer_scale False\n",
      "172 convnext_xlarge_stage_2_block_17_identity False\n",
      "173 convnext_xlarge_stage_2_block_18_depthwise_conv False\n",
      "174 convnext_xlarge_stage_2_block_18_layernorm False\n",
      "175 convnext_xlarge_stage_2_block_18_pointwise_conv_1 False\n",
      "176 convnext_xlarge_stage_2_block_18_gelu False\n",
      "177 convnext_xlarge_stage_2_block_18_pointwise_conv_2 False\n",
      "178 convnext_xlarge_stage_2_block_18_layer_scale False\n",
      "179 convnext_xlarge_stage_2_block_18_identity False\n",
      "180 convnext_xlarge_stage_2_block_19_depthwise_conv False\n",
      "181 convnext_xlarge_stage_2_block_19_layernorm False\n",
      "182 convnext_xlarge_stage_2_block_19_pointwise_conv_1 False\n",
      "183 convnext_xlarge_stage_2_block_19_gelu False\n",
      "184 convnext_xlarge_stage_2_block_19_pointwise_conv_2 False\n",
      "185 convnext_xlarge_stage_2_block_19_layer_scale False\n",
      "186 convnext_xlarge_stage_2_block_19_identity False\n",
      "187 convnext_xlarge_stage_2_block_20_depthwise_conv False\n",
      "188 convnext_xlarge_stage_2_block_20_layernorm False\n",
      "189 convnext_xlarge_stage_2_block_20_pointwise_conv_1 False\n",
      "190 convnext_xlarge_stage_2_block_20_gelu False\n",
      "191 convnext_xlarge_stage_2_block_20_pointwise_conv_2 False\n",
      "192 convnext_xlarge_stage_2_block_20_layer_scale False\n",
      "193 convnext_xlarge_stage_2_block_20_identity False\n",
      "194 convnext_xlarge_stage_2_block_21_depthwise_conv False\n",
      "195 convnext_xlarge_stage_2_block_21_layernorm False\n",
      "196 convnext_xlarge_stage_2_block_21_pointwise_conv_1 False\n",
      "197 convnext_xlarge_stage_2_block_21_gelu False\n",
      "198 convnext_xlarge_stage_2_block_21_pointwise_conv_2 False\n",
      "199 convnext_xlarge_stage_2_block_21_layer_scale False\n",
      "200 convnext_xlarge_stage_2_block_21_identity False\n",
      "201 convnext_xlarge_stage_2_block_22_depthwise_conv False\n",
      "202 convnext_xlarge_stage_2_block_22_layernorm False\n",
      "203 convnext_xlarge_stage_2_block_22_pointwise_conv_1 False\n",
      "204 convnext_xlarge_stage_2_block_22_gelu False\n",
      "205 convnext_xlarge_stage_2_block_22_pointwise_conv_2 False\n",
      "206 convnext_xlarge_stage_2_block_22_layer_scale False\n",
      "207 convnext_xlarge_stage_2_block_22_identity False\n",
      "208 convnext_xlarge_stage_2_block_23_depthwise_conv False\n",
      "209 convnext_xlarge_stage_2_block_23_layernorm False\n",
      "210 convnext_xlarge_stage_2_block_23_pointwise_conv_1 False\n",
      "211 convnext_xlarge_stage_2_block_23_gelu False\n",
      "212 convnext_xlarge_stage_2_block_23_pointwise_conv_2 False\n",
      "213 convnext_xlarge_stage_2_block_23_layer_scale False\n",
      "214 convnext_xlarge_stage_2_block_23_identity False\n",
      "215 convnext_xlarge_stage_2_block_24_depthwise_conv False\n",
      "216 convnext_xlarge_stage_2_block_24_layernorm False\n",
      "217 convnext_xlarge_stage_2_block_24_pointwise_conv_1 False\n",
      "218 convnext_xlarge_stage_2_block_24_gelu False\n",
      "219 convnext_xlarge_stage_2_block_24_pointwise_conv_2 False\n",
      "220 convnext_xlarge_stage_2_block_24_layer_scale False\n",
      "221 convnext_xlarge_stage_2_block_24_identity False\n",
      "222 convnext_xlarge_stage_2_block_25_depthwise_conv False\n",
      "223 convnext_xlarge_stage_2_block_25_layernorm False\n",
      "224 convnext_xlarge_stage_2_block_25_pointwise_conv_1 False\n",
      "225 convnext_xlarge_stage_2_block_25_gelu False\n",
      "226 convnext_xlarge_stage_2_block_25_pointwise_conv_2 False\n",
      "227 convnext_xlarge_stage_2_block_25_layer_scale False\n",
      "228 convnext_xlarge_stage_2_block_25_identity False\n",
      "229 convnext_xlarge_stage_2_block_26_depthwise_conv True\n",
      "230 convnext_xlarge_stage_2_block_26_layernorm True\n",
      "231 convnext_xlarge_stage_2_block_26_pointwise_conv_1 True\n",
      "232 convnext_xlarge_stage_2_block_26_gelu True\n",
      "233 convnext_xlarge_stage_2_block_26_pointwise_conv_2 True\n",
      "234 convnext_xlarge_stage_2_block_26_layer_scale True\n",
      "235 convnext_xlarge_stage_2_block_26_identity True\n",
      "236 convnext_xlarge_downsampling_block_2 True\n",
      "237 convnext_xlarge_stage_3_block_0_depthwise_conv True\n",
      "238 convnext_xlarge_stage_3_block_0_layernorm True\n",
      "239 convnext_xlarge_stage_3_block_0_pointwise_conv_1 True\n",
      "240 convnext_xlarge_stage_3_block_0_gelu True\n",
      "241 convnext_xlarge_stage_3_block_0_pointwise_conv_2 True\n",
      "242 convnext_xlarge_stage_3_block_0_layer_scale True\n",
      "243 convnext_xlarge_stage_3_block_0_identity True\n",
      "244 convnext_xlarge_stage_3_block_1_depthwise_conv True\n",
      "245 convnext_xlarge_stage_3_block_1_layernorm True\n",
      "246 convnext_xlarge_stage_3_block_1_pointwise_conv_1 True\n",
      "247 convnext_xlarge_stage_3_block_1_gelu True\n",
      "248 convnext_xlarge_stage_3_block_1_pointwise_conv_2 True\n",
      "249 convnext_xlarge_stage_3_block_1_layer_scale True\n",
      "250 convnext_xlarge_stage_3_block_1_identity True\n",
      "251 convnext_xlarge_stage_3_block_2_depthwise_conv True\n",
      "252 convnext_xlarge_stage_3_block_2_layernorm True\n",
      "253 convnext_xlarge_stage_3_block_2_pointwise_conv_1 True\n",
      "254 convnext_xlarge_stage_3_block_2_gelu True\n",
      "255 convnext_xlarge_stage_3_block_2_pointwise_conv_2 True\n",
      "256 convnext_xlarge_stage_3_block_2_layer_scale True\n",
      "257 convnext_xlarge_stage_3_block_2_identity True\n",
      "258 layer_normalization True\n",
      "\n",
      "\n",
      "All layers in the model:\n",
      "0 input_layer_5 True\n",
      "1 image_augmentation_layer True\n",
      "2 cast_to_uint8_layer True\n",
      "3 convnext_xlarge False\n",
      "4 avg_pool True\n",
      "5 batch_norm False\n",
      "6 dense True\n",
      "7 dropout True\n",
      "8 dense_1 True\n",
      "9 dense_2 True\n"
     ]
    }
   ],
   "source": [
    "# Display the layers and their trainable status within the 'convnext_large' submodule\n",
    "print(\"Layers within 'convnext_large' submodule:\")\n",
    "for i, layer in enumerate(finetuned_model.get_layer('convnext_xlarge').layers):\n",
    "    print(i, layer.name, layer.trainable)\n",
    "\n",
    "print(\"\\n\")\n",
    "\n",
    "# Display all layers in the entire model and their trainable status\n",
    "print(\"All layers in the model:\")\n",
    "for i, layer in enumerate(finetuned_model.layers):\n",
    "    print(i, layer.name, layer.trainable)"
   ]
  },
  {
   "cell_type": "code",
   "execution_count": 21,
   "id": "252c1ec7-8c91-42e8-9365-e72fc4ee8523",
   "metadata": {},
   "outputs": [],
   "source": [
    "def cosine_annealing_schedule(epoch, lr_start=3e-5, lr_end=1e-5, T_max=2):\n",
    "    return lr_end + (lr_start - lr_end) * (1 + np.cos(np.pi * epoch / T_max)) / 2"
   ]
  },
  {
   "cell_type": "code",
   "execution_count": 22,
   "id": "fbf54548-6eb0-4da0-b50e-679dfe834930",
   "metadata": {},
   "outputs": [],
   "source": [
    "# Callbacks for training\n",
    "early_stopping = EarlyStopping(monitor='val_accuracy', patience=2)\n",
    "lr_schedule = ReduceLROnPlateau(patience=1, factor=0.5, monitor=\"val_loss\")\n",
    "lr_schedule = LearningRateScheduler(cosine_annealing_schedule)"
   ]
  },
  {
   "cell_type": "code",
   "execution_count": 23,
   "id": "ee7ce971-b77f-4388-8166-57b74eff4db6",
   "metadata": {},
   "outputs": [],
   "source": [
    "#optimizer = tf.keras.optimizers.Lion(learning_rate=5e-5, weight_decay=0.01)\n",
    "optimizer = tf.keras.optimizers.AdamW(learning_rate=3e-5, weight_decay=0.01)\n",
    "finetuned_model.compile(loss='categorical_crossentropy', optimizer=optimizer, metrics=['accuracy'])"
   ]
  },
  {
   "cell_type": "code",
   "execution_count": 24,
   "id": "75ca2e50-d949-457d-9640-852a06774a28",
   "metadata": {},
   "outputs": [
    {
     "name": "stdout",
     "output_type": "stream",
     "text": [
      "Epoch 1/2\n"
     ]
    },
    {
     "name": "stderr",
     "output_type": "stream",
     "text": [
      "I0000 00:00:1732183047.541444  459371 cuda_dnn.cc:529] Loaded cuDNN version 90300\n"
     ]
    },
    {
     "name": "stdout",
     "output_type": "stream",
     "text": [
      "\u001b[1m372/563\u001b[0m \u001b[32m━━━━━━━━━━━━━\u001b[0m\u001b[37m━━━━━━━\u001b[0m \u001b[1m14:39\u001b[0m 5s/step - accuracy: 0.9034 - loss: 0.2836"
     ]
    },
    {
     "name": "stderr",
     "output_type": "stream",
     "text": [
      "Exception ignored in: <bound method IPythonKernel._clean_thread_parent_frames of <ipykernel.ipkernel.IPythonKernel object at 0x7f9448eb0290>>\n",
      "Traceback (most recent call last):\n",
      "  File \"/opt/conda/envs/myenv/lib/python3.11/site-packages/ipykernel/ipkernel.py\", line 775, in _clean_thread_parent_frames\n",
      "    def _clean_thread_parent_frames(\n",
      "\n",
      "KeyboardInterrupt: \n",
      "\n",
      "KeyboardInterrupt\n",
      "\n"
     ]
    }
   ],
   "source": [
    "ft_history = finetuned_model.fit(\n",
    "    x=X_train,\n",
    "    y=y_train,\n",
    "    batch_size=32,\n",
    "    epochs=2,\n",
    "    validation_data=(X_val, y_val),\n",
    "    callbacks=[early_stopping, lr_schedule]\n",
    ")"
   ]
  },
  {
   "cell_type": "code",
   "execution_count": 25,
   "id": "1e211375-2ae6-4e7f-9140-6a9d1a569f5b",
   "metadata": {},
   "outputs": [],
   "source": [
    "finetuned_model.save(\"ConvNeXtXLarge_augmented_final_ft.keras\")"
   ]
  },
  {
   "cell_type": "code",
   "execution_count": 26,
   "id": "851ae614-3834-4d8e-be06-26c5caf69d27",
   "metadata": {},
   "outputs": [
    {
     "name": "stdout",
     "output_type": "stream",
     "text": [
      "  adding: model.py (deflated 63%)\n",
      "  adding: ConvNeXtXLarge_augmented_final_ft.keras (deflated 7%)\n"
     ]
    }
   ],
   "source": [
    "from datetime import datetime\n",
    "filename = f'submission_{datetime.now().strftime(\"%y%m%d_%H%M%S\")}.zip'\n",
    "!zip {filename} model.py ConvNeXtXLarge_augmented_final_ft.keras"
   ]
  },
  {
   "cell_type": "markdown",
   "id": "92748ce8-ee00-4de8-bb12-191752baeb79",
   "metadata": {
    "jp-MarkdownHeadingCollapsed": true
   },
   "source": [
    "### AdamW - ResNetV2"
   ]
  },
  {
   "cell_type": "code",
   "execution_count": 15,
   "id": "5bbbe376-de95-44a6-a25c-e6931bdee79b",
   "metadata": {},
   "outputs": [],
   "source": [
    "from tensorflow.keras.applications import ResNet50V2\n",
    "from tensorflow.keras.models import Model\n",
    "from tensorflow.keras.layers import Input, GlobalAveragePooling2D, Dense, BatchNormalization, Dropout\n",
    "tf.config.run_functions_eagerly(True)\n",
    "\n",
    "resnet_base_model = ResNet50V2(\n",
    "    include_top=False,\n",
    "    weights='imagenet',\n",
    "    input_shape=(96,96,3),\n",
    "    classes=8\n",
    ")\n",
    "resnet_base_model.trainable = False  \n",
    "\n",
    "@tf.keras.utils.register_keras_serializable(package=\"Custom\")\n",
    "class ImageAugmentationLayer(tfkl.Layer):\n",
    "    def __init__(self, seed=None, **kwargs):\n",
    "        super().__init__(**kwargs)\n",
    "        self.seed = seed\n",
    "        self.rand_augment = kcvl.RandAugment(\n",
    "            value_range=(0, 1),\n",
    "            augmentations_per_image=3,\n",
    "            magnitude=0.6,\n",
    "            magnitude_stddev=0.2,\n",
    "            rate=0.9090909090909091,\n",
    "            geometric=True,\n",
    "            seed=seed\n",
    "        )\n",
    "        self.random_flip = tfkl.RandomFlip()\n",
    "        self.random_zoom = tfkl.RandomZoom(height_factor=(-0.05, 0.1), width_factor=(-0.05, 0.1))\n",
    "        self.random_rotation = tfkl.RandomRotation(factor=0.5)\n",
    "\n",
    "    def call(self, inputs, training=True):\n",
    "        if training:\n",
    "            x = self.rand_augment(inputs)\n",
    "            x = self.random_flip(x)\n",
    "            x = self.random_zoom(x)\n",
    "            x = self.random_rotation(x)\n",
    "            return x\n",
    "        return inputs\n",
    "\n",
    "    def get_config(self):\n",
    "        config = super().get_config()\n",
    "        config.update({\"seed\": self.seed})\n",
    "        return config\n",
    "\n",
    "@tf.keras.utils.register_keras_serializable(package=\"Custom\")\n",
    "class CastToUint8Layer(tfkl.Layer):\n",
    "    def call(self, inputs):\n",
    "        return tf.cast(inputs * 255, tf.uint8)\n",
    "\n",
    "\n",
    "def build_inceptionresnet_with_augmentation(input_shape=(96, 96, 3), seed=None):\n",
    "    inputs = Input(shape=input_shape)\n",
    "    augmented = ImageAugmentationLayer(seed=seed)(inputs)\n",
    "    augmented_255 = CastToUint8Layer()(augmented)\n",
    "\n",
    "    x = resnet_base_model(augmented_255)\n",
    "    x = GlobalAveragePooling2D(name=\"avg_pool\")(x)\n",
    "    x = BatchNormalization(name=\"batch_norm\")(x)\n",
    "    intermediate1 = Dense(1024, activation='swish')(x)\n",
    "    dropout1 = Dropout(0.2)(intermediate1)\n",
    "    intermediate2 = Dense(256, activation='swish')(dropout1)\n",
    "    outputs = Dense(8, activation='softmax')(intermediate2)\n",
    "\n",
    "    model = Model(inputs=inputs, outputs=outputs, name='inceptionresnet_augmented_model')\n",
    "    return model\n",
    "\n"
   ]
  },
  {
   "cell_type": "code",
   "execution_count": 16,
   "id": "56b79230-efe7-454e-a82e-603db974062e",
   "metadata": {},
   "outputs": [],
   "source": [
    "data = np.load('training_set_cleaned_balancedwithrotation.npz')\n",
    "X_balanced = data['images']\n",
    "y_balanced = data['labels']\n",
    "\n",
    "X_train_val = (X_balanced / 255).astype('float32')\n",
    "int_labels = np.array([label for label in y_balanced])\n",
    "y_train_val = tfk.utils.to_categorical(int_labels)\n",
    "\n",
    "X_train, X_val, y_train, y_val = train_test_split(X_train_val, y_train_val, random_state=42, test_size=0.1, stratify=y_train_val)\n"
   ]
  },
  {
   "cell_type": "code",
   "execution_count": 26,
   "id": "06e48cbe-08a7-4009-bf1b-54527f19a3cd",
   "metadata": {},
   "outputs": [
    {
     "data": {
      "text/plain": [
       "(18000, 96, 96, 3)"
      ]
     },
     "execution_count": 26,
     "metadata": {},
     "output_type": "execute_result"
    }
   ],
   "source": [
    "X_train.shape"
   ]
  },
  {
   "cell_type": "code",
   "execution_count": 25,
   "id": "68a6b3c8-9c14-4cba-b73e-ce03f4f6c877",
   "metadata": {},
   "outputs": [
    {
     "data": {
      "text/plain": [
       "(18000, 8)"
      ]
     },
     "execution_count": 25,
     "metadata": {},
     "output_type": "execute_result"
    }
   ],
   "source": [
    "y_train.shape"
   ]
  },
  {
   "cell_type": "code",
   "execution_count": 17,
   "id": "aed80d2d-d9c9-4f07-846f-d89b3e01606f",
   "metadata": {},
   "outputs": [
    {
     "name": "stdout",
     "output_type": "stream",
     "text": [
      "ERROR:tensorflow:==================================\n",
      "Object was never used (type <class 'tensorflow.python.ops.tensor_array_ops.TensorArray'>):\n",
      "<tensorflow.python.ops.tensor_array_ops.TensorArray object at 0x7f0c34063650>\n",
      "If you want to mark it as used call its \"mark_used()\" method.\n",
      "It was originally created here:\n",
      "  File \"/opt/conda/envs/myenv/lib/python3.11/site-packages/tensorflow/python/ops/while_loop.py\", line 488, in while_loop\n",
      "    loop_vars = body(*loop_vars)  File \"/opt/conda/envs/myenv/lib/python3.11/site-packages/tensorflow/python/ops/while_loop.py\", line 479, in <lambda>\n",
      "    body = lambda i, lv: (i + 1, orig_body(*lv))  File \"/opt/conda/envs/myenv/lib/python3.11/site-packages/tensorflow/python/ops/map_fn.py\", line 495, in compute\n",
      "    return (i + 1, tas)  File \"/opt/conda/envs/myenv/lib/python3.11/site-packages/tensorflow/python/ops/map_fn.py\", line 492, in <listcomp>\n",
      "    tas = [  File \"/opt/conda/envs/myenv/lib/python3.11/site-packages/tensorflow/python/util/tf_should_use.py\", line 288, in wrapped\n",
      "    return _add_should_use_warning(fn(*args, **kwargs),\n",
      "==================================\n"
     ]
    }
   ],
   "source": [
    "model = build_inceptionresnet_with_augmentation(seed=42)\n",
    "\n",
    "optimizer = tf.keras.optimizers.AdamW()\n",
    "model.compile(loss='categorical_crossentropy', optimizer=optimizer, metrics=['accuracy'])"
   ]
  },
  {
   "cell_type": "code",
   "execution_count": 18,
   "id": "f69caca0-1ee2-441e-9440-76e5af2ff9cc",
   "metadata": {},
   "outputs": [],
   "source": [
    "def cosine_annealing_schedule(epoch, lr_start=1e-3, lr_end=3e-4, T_max=20):\n",
    "    return lr_end + (lr_start - lr_end) * (1 + np.cos(np.pi * epoch / T_max)) / 2\n",
    "\n",
    "class PlotLearning(tf.keras.callbacks.Callback):\n",
    "    def on_train_begin(self, logs=None):\n",
    "        self.metrics = {}\n",
    "\n",
    "    def on_epoch_end(self, epoch, logs=None):\n",
    "        if logs is not None:\n",
    "            for metric, value in logs.items():\n",
    "                if metric not in self.metrics:\n",
    "                    self.metrics[metric] = []\n",
    "                self.metrics[metric].append(value)\n",
    "\n",
    "        metrics = [x for x in logs if 'val' not in x and not x.startswith('lr')]\n",
    "        f, axs = plt.subplots(1, len(metrics), figsize=(15, 5))\n",
    "        clear_output(wait=True)\n",
    "\n",
    "        for i, metric in enumerate(metrics):\n",
    "            axs[i].plot(self.metrics[metric], label=metric)\n",
    "            if 'val_' + metric in self.metrics:\n",
    "                axs[i].plot(self.metrics['val_' + metric], label='val_' + metric)\n",
    "            axs[i].legend()\n",
    "            axs[i].grid()\n",
    "\n",
    "        plt.tight_layout()\n",
    "        plt.show()\n",
    "\n",
    "# Callbacks\n",
    "early_stopping = EarlyStopping(monitor='val_accuracy', patience=3)\n",
    "lr_schedule = LearningRateScheduler(cosine_annealing_schedule)\n",
    "plot_callback = PlotLearning()"
   ]
  },
  {
   "cell_type": "code",
   "execution_count": 19,
   "id": "ed436947-4beb-4d9d-bb46-5d7493ec4634",
   "metadata": {
    "scrolled": true
   },
   "outputs": [
    {
     "name": "stdout",
     "output_type": "stream",
     "text": [
      "Epoch 1/20\n",
      "\u001b[1m404/563\u001b[0m \u001b[32m━━━━━━━━━━━━━━\u001b[0m\u001b[37m━━━━━━\u001b[0m \u001b[1m5:04\u001b[0m 2s/step - accuracy: 0.2810 - loss: 1.9545"
     ]
    },
    {
     "ename": "KeyboardInterrupt",
     "evalue": "",
     "output_type": "error",
     "traceback": [
      "\u001b[0;31m---------------------------------------------------------------------------\u001b[0m",
      "\u001b[0;31mKeyboardInterrupt\u001b[0m                         Traceback (most recent call last)",
      "\u001b[0;32m/var/tmp/ipykernel_470165/1396252948.py\u001b[0m in \u001b[0;36m?\u001b[0;34m()\u001b[0m\n\u001b[1;32m      1\u001b[0m \u001b[0;31m# Train the model\u001b[0m\u001b[0;34m\u001b[0m\u001b[0;34m\u001b[0m\u001b[0m\n\u001b[0;32m----> 2\u001b[0;31m history = model.fit(\n\u001b[0m\u001b[1;32m      3\u001b[0m     \u001b[0mx\u001b[0m\u001b[0;34m=\u001b[0m\u001b[0mX_train\u001b[0m\u001b[0;34m,\u001b[0m\u001b[0;34m\u001b[0m\u001b[0;34m\u001b[0m\u001b[0m\n\u001b[1;32m      4\u001b[0m     \u001b[0my\u001b[0m\u001b[0;34m=\u001b[0m\u001b[0my_train\u001b[0m\u001b[0;34m,\u001b[0m\u001b[0;34m\u001b[0m\u001b[0;34m\u001b[0m\u001b[0m\n\u001b[1;32m      5\u001b[0m     \u001b[0mbatch_size\u001b[0m\u001b[0;34m=\u001b[0m\u001b[0;36m32\u001b[0m\u001b[0;34m,\u001b[0m\u001b[0;34m\u001b[0m\u001b[0;34m\u001b[0m\u001b[0m\n",
      "\u001b[0;32m/opt/conda/envs/myenv/lib/python3.11/site-packages/keras/src/utils/traceback_utils.py\u001b[0m in \u001b[0;36m?\u001b[0;34m(*args, **kwargs)\u001b[0m\n\u001b[1;32m    120\u001b[0m             \u001b[0;31m# To get the full stack trace, call:\u001b[0m\u001b[0;34m\u001b[0m\u001b[0;34m\u001b[0m\u001b[0m\n\u001b[1;32m    121\u001b[0m             \u001b[0;31m# `keras.config.disable_traceback_filtering()`\u001b[0m\u001b[0;34m\u001b[0m\u001b[0;34m\u001b[0m\u001b[0m\n\u001b[1;32m    122\u001b[0m             \u001b[0;32mraise\u001b[0m \u001b[0me\u001b[0m\u001b[0;34m.\u001b[0m\u001b[0mwith_traceback\u001b[0m\u001b[0;34m(\u001b[0m\u001b[0mfiltered_tb\u001b[0m\u001b[0;34m)\u001b[0m \u001b[0;32mfrom\u001b[0m \u001b[0;32mNone\u001b[0m\u001b[0;34m\u001b[0m\u001b[0;34m\u001b[0m\u001b[0m\n\u001b[1;32m    123\u001b[0m         \u001b[0;32mfinally\u001b[0m\u001b[0;34m:\u001b[0m\u001b[0;34m\u001b[0m\u001b[0;34m\u001b[0m\u001b[0m\n\u001b[0;32m--> 124\u001b[0;31m             \u001b[0;32mdel\u001b[0m \u001b[0mfiltered_tb\u001b[0m\u001b[0;34m\u001b[0m\u001b[0;34m\u001b[0m\u001b[0m\n\u001b[0m",
      "\u001b[0;32m/opt/conda/envs/myenv/lib/python3.11/site-packages/keras/src/backend/tensorflow/trainer.py\u001b[0m in \u001b[0;36m?\u001b[0;34m(self, x, y, batch_size, epochs, verbose, callbacks, validation_split, validation_data, shuffle, class_weight, sample_weight, initial_epoch, steps_per_epoch, validation_steps, validation_batch_size, validation_freq)\u001b[0m\n\u001b[1;32m    316\u001b[0m             \u001b[0mcallbacks\u001b[0m\u001b[0;34m.\u001b[0m\u001b[0mon_epoch_begin\u001b[0m\u001b[0;34m(\u001b[0m\u001b[0mepoch\u001b[0m\u001b[0;34m)\u001b[0m\u001b[0;34m\u001b[0m\u001b[0;34m\u001b[0m\u001b[0m\n\u001b[1;32m    317\u001b[0m             \u001b[0;32mwith\u001b[0m \u001b[0mepoch_iterator\u001b[0m\u001b[0;34m.\u001b[0m\u001b[0mcatch_stop_iteration\u001b[0m\u001b[0;34m(\u001b[0m\u001b[0;34m)\u001b[0m\u001b[0;34m:\u001b[0m\u001b[0;34m\u001b[0m\u001b[0;34m\u001b[0m\u001b[0m\n\u001b[1;32m    318\u001b[0m                 \u001b[0;32mfor\u001b[0m \u001b[0mstep\u001b[0m\u001b[0;34m,\u001b[0m \u001b[0miterator\u001b[0m \u001b[0;32min\u001b[0m \u001b[0mepoch_iterator\u001b[0m\u001b[0;34m.\u001b[0m\u001b[0menumerate_epoch\u001b[0m\u001b[0;34m(\u001b[0m\u001b[0;34m)\u001b[0m\u001b[0;34m:\u001b[0m\u001b[0;34m\u001b[0m\u001b[0;34m\u001b[0m\u001b[0m\n\u001b[1;32m    319\u001b[0m                     \u001b[0mcallbacks\u001b[0m\u001b[0;34m.\u001b[0m\u001b[0mon_train_batch_begin\u001b[0m\u001b[0;34m(\u001b[0m\u001b[0mstep\u001b[0m\u001b[0;34m)\u001b[0m\u001b[0;34m\u001b[0m\u001b[0;34m\u001b[0m\u001b[0m\n\u001b[0;32m--> 320\u001b[0;31m                     \u001b[0mlogs\u001b[0m \u001b[0;34m=\u001b[0m \u001b[0mself\u001b[0m\u001b[0;34m.\u001b[0m\u001b[0mtrain_function\u001b[0m\u001b[0;34m(\u001b[0m\u001b[0miterator\u001b[0m\u001b[0;34m)\u001b[0m\u001b[0;34m\u001b[0m\u001b[0;34m\u001b[0m\u001b[0m\n\u001b[0m\u001b[1;32m    321\u001b[0m                     \u001b[0mcallbacks\u001b[0m\u001b[0;34m.\u001b[0m\u001b[0mon_train_batch_end\u001b[0m\u001b[0;34m(\u001b[0m\u001b[0mstep\u001b[0m\u001b[0;34m,\u001b[0m \u001b[0mlogs\u001b[0m\u001b[0;34m)\u001b[0m\u001b[0;34m\u001b[0m\u001b[0;34m\u001b[0m\u001b[0m\n\u001b[1;32m    322\u001b[0m                     \u001b[0;32mif\u001b[0m \u001b[0mself\u001b[0m\u001b[0;34m.\u001b[0m\u001b[0mstop_training\u001b[0m\u001b[0;34m:\u001b[0m\u001b[0;34m\u001b[0m\u001b[0;34m\u001b[0m\u001b[0m\n\u001b[1;32m    323\u001b[0m                         \u001b[0;32mbreak\u001b[0m\u001b[0;34m\u001b[0m\u001b[0;34m\u001b[0m\u001b[0m\n",
      "\u001b[0;32m/opt/conda/envs/myenv/lib/python3.11/site-packages/tensorflow/python/util/traceback_utils.py\u001b[0m in \u001b[0;36m?\u001b[0;34m(*args, **kwargs)\u001b[0m\n\u001b[1;32m    151\u001b[0m     \u001b[0;32mexcept\u001b[0m \u001b[0mException\u001b[0m \u001b[0;32mas\u001b[0m \u001b[0me\u001b[0m\u001b[0;34m:\u001b[0m\u001b[0;34m\u001b[0m\u001b[0;34m\u001b[0m\u001b[0m\n\u001b[1;32m    152\u001b[0m       \u001b[0mfiltered_tb\u001b[0m \u001b[0;34m=\u001b[0m \u001b[0m_process_traceback_frames\u001b[0m\u001b[0;34m(\u001b[0m\u001b[0me\u001b[0m\u001b[0;34m.\u001b[0m\u001b[0m__traceback__\u001b[0m\u001b[0;34m)\u001b[0m\u001b[0;34m\u001b[0m\u001b[0;34m\u001b[0m\u001b[0m\n\u001b[1;32m    153\u001b[0m       \u001b[0;32mraise\u001b[0m \u001b[0me\u001b[0m\u001b[0;34m.\u001b[0m\u001b[0mwith_traceback\u001b[0m\u001b[0;34m(\u001b[0m\u001b[0mfiltered_tb\u001b[0m\u001b[0;34m)\u001b[0m \u001b[0;32mfrom\u001b[0m \u001b[0;32mNone\u001b[0m\u001b[0;34m\u001b[0m\u001b[0;34m\u001b[0m\u001b[0m\n\u001b[1;32m    154\u001b[0m     \u001b[0;32mfinally\u001b[0m\u001b[0;34m:\u001b[0m\u001b[0;34m\u001b[0m\u001b[0;34m\u001b[0m\u001b[0m\n\u001b[0;32m--> 155\u001b[0;31m       \u001b[0;32mdel\u001b[0m \u001b[0mfiltered_tb\u001b[0m\u001b[0;34m\u001b[0m\u001b[0;34m\u001b[0m\u001b[0m\n\u001b[0m",
      "\u001b[0;32m/opt/conda/envs/myenv/lib/python3.11/site-packages/tensorflow/python/eager/polymorphic_function/polymorphic_function.py\u001b[0m in \u001b[0;36m?\u001b[0;34m(self, *args, **kwds)\u001b[0m\n\u001b[1;32m    806\u001b[0m   \u001b[0;32mdef\u001b[0m \u001b[0m__call__\u001b[0m\u001b[0;34m(\u001b[0m\u001b[0mself\u001b[0m\u001b[0;34m,\u001b[0m \u001b[0;34m*\u001b[0m\u001b[0margs\u001b[0m\u001b[0;34m,\u001b[0m \u001b[0;34m**\u001b[0m\u001b[0mkwds\u001b[0m\u001b[0;34m)\u001b[0m\u001b[0;34m:\u001b[0m\u001b[0;34m\u001b[0m\u001b[0;34m\u001b[0m\u001b[0m\n\u001b[1;32m    807\u001b[0m     \u001b[0;31m# Implements PolymorphicFunction.__call__.\u001b[0m\u001b[0;34m\u001b[0m\u001b[0;34m\u001b[0m\u001b[0m\n\u001b[1;32m    808\u001b[0m     \u001b[0;32mif\u001b[0m \u001b[0mself\u001b[0m\u001b[0;34m.\u001b[0m\u001b[0m_run_functions_eagerly\u001b[0m\u001b[0;34m:\u001b[0m\u001b[0;34m\u001b[0m\u001b[0;34m\u001b[0m\u001b[0m\n\u001b[1;32m    809\u001b[0m       \u001b[0;32mwith\u001b[0m \u001b[0mtrace\u001b[0m\u001b[0;34m.\u001b[0m\u001b[0mTrace\u001b[0m\u001b[0;34m(\u001b[0m\u001b[0mself\u001b[0m\u001b[0;34m.\u001b[0m\u001b[0m_name\u001b[0m\u001b[0;34m,\u001b[0m \u001b[0mtf_function_call\u001b[0m\u001b[0;34m=\u001b[0m\u001b[0;34m\"eager\"\u001b[0m\u001b[0;34m)\u001b[0m\u001b[0;34m:\u001b[0m\u001b[0;34m\u001b[0m\u001b[0;34m\u001b[0m\u001b[0m\n\u001b[0;32m--> 810\u001b[0;31m         \u001b[0;32mreturn\u001b[0m \u001b[0mself\u001b[0m\u001b[0;34m.\u001b[0m\u001b[0m_python_function\u001b[0m\u001b[0;34m(\u001b[0m\u001b[0;34m*\u001b[0m\u001b[0margs\u001b[0m\u001b[0;34m,\u001b[0m \u001b[0;34m**\u001b[0m\u001b[0mkwds\u001b[0m\u001b[0;34m)\u001b[0m\u001b[0;34m\u001b[0m\u001b[0;34m\u001b[0m\u001b[0m\n\u001b[0m\u001b[1;32m    811\u001b[0m \u001b[0;34m\u001b[0m\u001b[0m\n\u001b[1;32m    812\u001b[0m     \u001b[0;31m# Only count the statistics the first time, before initialization took\u001b[0m\u001b[0;34m\u001b[0m\u001b[0;34m\u001b[0m\u001b[0m\n\u001b[1;32m    813\u001b[0m     \u001b[0;31m# place.\u001b[0m\u001b[0;34m\u001b[0m\u001b[0;34m\u001b[0m\u001b[0m\n",
      "\u001b[0;32m/opt/conda/envs/myenv/lib/python3.11/site-packages/tensorflow/python/autograph/impl/api.py\u001b[0m in \u001b[0;36m?\u001b[0;34m(*args, **kwargs)\u001b[0m\n\u001b[1;32m    641\u001b[0m   \u001b[0;32mdef\u001b[0m \u001b[0mwrapper\u001b[0m\u001b[0;34m(\u001b[0m\u001b[0;34m*\u001b[0m\u001b[0margs\u001b[0m\u001b[0;34m,\u001b[0m \u001b[0;34m**\u001b[0m\u001b[0mkwargs\u001b[0m\u001b[0;34m)\u001b[0m\u001b[0;34m:\u001b[0m\u001b[0;34m\u001b[0m\u001b[0;34m\u001b[0m\u001b[0m\n\u001b[1;32m    642\u001b[0m     \u001b[0;32mwith\u001b[0m \u001b[0mag_ctx\u001b[0m\u001b[0;34m.\u001b[0m\u001b[0mControlStatusCtx\u001b[0m\u001b[0;34m(\u001b[0m\u001b[0mstatus\u001b[0m\u001b[0;34m=\u001b[0m\u001b[0mag_ctx\u001b[0m\u001b[0;34m.\u001b[0m\u001b[0mStatus\u001b[0m\u001b[0;34m.\u001b[0m\u001b[0mDISABLED\u001b[0m\u001b[0;34m)\u001b[0m\u001b[0;34m:\u001b[0m\u001b[0;34m\u001b[0m\u001b[0;34m\u001b[0m\u001b[0m\n\u001b[0;32m--> 643\u001b[0;31m       \u001b[0;32mreturn\u001b[0m \u001b[0mfunc\u001b[0m\u001b[0;34m(\u001b[0m\u001b[0;34m*\u001b[0m\u001b[0margs\u001b[0m\u001b[0;34m,\u001b[0m \u001b[0;34m**\u001b[0m\u001b[0mkwargs\u001b[0m\u001b[0;34m)\u001b[0m\u001b[0;34m\u001b[0m\u001b[0;34m\u001b[0m\u001b[0m\n\u001b[0m",
      "\u001b[0;32m/opt/conda/envs/myenv/lib/python3.11/site-packages/keras/src/backend/tensorflow/trainer.py\u001b[0m in \u001b[0;36m?\u001b[0;34m(iterator)\u001b[0m\n\u001b[1;32m    117\u001b[0m         \u001b[0;34m@\u001b[0m\u001b[0mtf\u001b[0m\u001b[0;34m.\u001b[0m\u001b[0mautograph\u001b[0m\u001b[0;34m.\u001b[0m\u001b[0mexperimental\u001b[0m\u001b[0;34m.\u001b[0m\u001b[0mdo_not_convert\u001b[0m\u001b[0;34m\u001b[0m\u001b[0;34m\u001b[0m\u001b[0m\n\u001b[1;32m    118\u001b[0m         \u001b[0;32mdef\u001b[0m \u001b[0mone_step_on_iterator\u001b[0m\u001b[0;34m(\u001b[0m\u001b[0miterator\u001b[0m\u001b[0;34m)\u001b[0m\u001b[0;34m:\u001b[0m\u001b[0;34m\u001b[0m\u001b[0;34m\u001b[0m\u001b[0m\n\u001b[1;32m    119\u001b[0m             \u001b[0;34m\"\"\"Runs a single training step given a Dataset iterator.\"\"\"\u001b[0m\u001b[0;34m\u001b[0m\u001b[0;34m\u001b[0m\u001b[0m\n\u001b[1;32m    120\u001b[0m             \u001b[0mdata\u001b[0m \u001b[0;34m=\u001b[0m \u001b[0mnext\u001b[0m\u001b[0;34m(\u001b[0m\u001b[0miterator\u001b[0m\u001b[0;34m)\u001b[0m\u001b[0;34m\u001b[0m\u001b[0;34m\u001b[0m\u001b[0m\n\u001b[0;32m--> 121\u001b[0;31m             outputs = self.distribute_strategy.run(\n\u001b[0m\u001b[1;32m    122\u001b[0m                 \u001b[0mone_step_on_data\u001b[0m\u001b[0;34m,\u001b[0m \u001b[0margs\u001b[0m\u001b[0;34m=\u001b[0m\u001b[0;34m(\u001b[0m\u001b[0mdata\u001b[0m\u001b[0;34m,\u001b[0m\u001b[0;34m)\u001b[0m\u001b[0;34m\u001b[0m\u001b[0;34m\u001b[0m\u001b[0m\n\u001b[1;32m    123\u001b[0m             )\n\u001b[1;32m    124\u001b[0m             outputs = reduce_per_replica(\n",
      "\u001b[0;32m/opt/conda/envs/myenv/lib/python3.11/site-packages/tensorflow/python/distribute/distribute_lib.py\u001b[0m in \u001b[0;36m?\u001b[0;34m(***failed resolving arguments***)\u001b[0m\n\u001b[1;32m   1669\u001b[0m       \u001b[0;31m# tf.distribute supports Eager functions, so AutoGraph should not be\u001b[0m\u001b[0;34m\u001b[0m\u001b[0;34m\u001b[0m\u001b[0m\n\u001b[1;32m   1670\u001b[0m       \u001b[0;31m# applied when the caller is also in Eager mode.\u001b[0m\u001b[0;34m\u001b[0m\u001b[0;34m\u001b[0m\u001b[0m\n\u001b[1;32m   1671\u001b[0m       fn = autograph.tf_convert(\n\u001b[1;32m   1672\u001b[0m           fn, autograph_ctx.control_status_ctx(), convert_by_default=False)\n\u001b[0;32m-> 1673\u001b[0;31m       \u001b[0;32mreturn\u001b[0m \u001b[0mself\u001b[0m\u001b[0;34m.\u001b[0m\u001b[0m_extended\u001b[0m\u001b[0;34m.\u001b[0m\u001b[0mcall_for_each_replica\u001b[0m\u001b[0;34m(\u001b[0m\u001b[0mfn\u001b[0m\u001b[0;34m,\u001b[0m \u001b[0margs\u001b[0m\u001b[0;34m=\u001b[0m\u001b[0margs\u001b[0m\u001b[0;34m,\u001b[0m \u001b[0mkwargs\u001b[0m\u001b[0;34m=\u001b[0m\u001b[0mkwargs\u001b[0m\u001b[0;34m)\u001b[0m\u001b[0;34m\u001b[0m\u001b[0;34m\u001b[0m\u001b[0m\n\u001b[0m",
      "\u001b[0;32m/opt/conda/envs/myenv/lib/python3.11/site-packages/tensorflow/python/distribute/distribute_lib.py\u001b[0m in \u001b[0;36m?\u001b[0;34m(self, fn, args, kwargs)\u001b[0m\n\u001b[1;32m   3259\u001b[0m     \u001b[0m_require_cross_replica_or_default_context_extended\u001b[0m\u001b[0;34m(\u001b[0m\u001b[0mself\u001b[0m\u001b[0;34m)\u001b[0m\u001b[0;34m\u001b[0m\u001b[0;34m\u001b[0m\u001b[0m\n\u001b[1;32m   3260\u001b[0m     \u001b[0;32mif\u001b[0m \u001b[0mkwargs\u001b[0m \u001b[0;32mis\u001b[0m \u001b[0;32mNone\u001b[0m\u001b[0;34m:\u001b[0m\u001b[0;34m\u001b[0m\u001b[0;34m\u001b[0m\u001b[0m\n\u001b[1;32m   3261\u001b[0m       \u001b[0mkwargs\u001b[0m \u001b[0;34m=\u001b[0m \u001b[0;34m{\u001b[0m\u001b[0;34m}\u001b[0m\u001b[0;34m\u001b[0m\u001b[0;34m\u001b[0m\u001b[0m\n\u001b[1;32m   3262\u001b[0m     \u001b[0;32mwith\u001b[0m \u001b[0mself\u001b[0m\u001b[0;34m.\u001b[0m\u001b[0m_container_strategy\u001b[0m\u001b[0;34m(\u001b[0m\u001b[0;34m)\u001b[0m\u001b[0;34m.\u001b[0m\u001b[0mscope\u001b[0m\u001b[0;34m(\u001b[0m\u001b[0;34m)\u001b[0m\u001b[0;34m:\u001b[0m\u001b[0;34m\u001b[0m\u001b[0;34m\u001b[0m\u001b[0m\n\u001b[0;32m-> 3263\u001b[0;31m       \u001b[0;32mreturn\u001b[0m \u001b[0mself\u001b[0m\u001b[0;34m.\u001b[0m\u001b[0m_call_for_each_replica\u001b[0m\u001b[0;34m(\u001b[0m\u001b[0mfn\u001b[0m\u001b[0;34m,\u001b[0m \u001b[0margs\u001b[0m\u001b[0;34m,\u001b[0m \u001b[0mkwargs\u001b[0m\u001b[0;34m)\u001b[0m\u001b[0;34m\u001b[0m\u001b[0;34m\u001b[0m\u001b[0m\n\u001b[0m",
      "\u001b[0;32m/opt/conda/envs/myenv/lib/python3.11/site-packages/tensorflow/python/distribute/distribute_lib.py\u001b[0m in \u001b[0;36m?\u001b[0;34m(self, fn, args, kwargs)\u001b[0m\n\u001b[1;32m   4059\u001b[0m   \u001b[0;32mdef\u001b[0m \u001b[0m_call_for_each_replica\u001b[0m\u001b[0;34m(\u001b[0m\u001b[0mself\u001b[0m\u001b[0;34m,\u001b[0m \u001b[0mfn\u001b[0m\u001b[0;34m,\u001b[0m \u001b[0margs\u001b[0m\u001b[0;34m,\u001b[0m \u001b[0mkwargs\u001b[0m\u001b[0;34m)\u001b[0m\u001b[0;34m:\u001b[0m\u001b[0;34m\u001b[0m\u001b[0;34m\u001b[0m\u001b[0m\n\u001b[1;32m   4060\u001b[0m     \u001b[0;32mwith\u001b[0m \u001b[0mReplicaContext\u001b[0m\u001b[0;34m(\u001b[0m\u001b[0mself\u001b[0m\u001b[0;34m.\u001b[0m\u001b[0m_container_strategy\u001b[0m\u001b[0;34m(\u001b[0m\u001b[0;34m)\u001b[0m\u001b[0;34m,\u001b[0m \u001b[0mreplica_id_in_sync_group\u001b[0m\u001b[0;34m=\u001b[0m\u001b[0;36m0\u001b[0m\u001b[0;34m)\u001b[0m\u001b[0;34m:\u001b[0m\u001b[0;34m\u001b[0m\u001b[0;34m\u001b[0m\u001b[0m\n\u001b[0;32m-> 4061\u001b[0;31m       \u001b[0;32mreturn\u001b[0m \u001b[0mfn\u001b[0m\u001b[0;34m(\u001b[0m\u001b[0;34m*\u001b[0m\u001b[0margs\u001b[0m\u001b[0;34m,\u001b[0m \u001b[0;34m**\u001b[0m\u001b[0mkwargs\u001b[0m\u001b[0;34m)\u001b[0m\u001b[0;34m\u001b[0m\u001b[0;34m\u001b[0m\u001b[0m\n\u001b[0m",
      "\u001b[0;32m/opt/conda/envs/myenv/lib/python3.11/site-packages/tensorflow/python/util/traceback_utils.py\u001b[0m in \u001b[0;36m?\u001b[0;34m(*args, **kwargs)\u001b[0m\n\u001b[1;32m    151\u001b[0m     \u001b[0;32mexcept\u001b[0m \u001b[0mException\u001b[0m \u001b[0;32mas\u001b[0m \u001b[0me\u001b[0m\u001b[0;34m:\u001b[0m\u001b[0;34m\u001b[0m\u001b[0;34m\u001b[0m\u001b[0m\n\u001b[1;32m    152\u001b[0m       \u001b[0mfiltered_tb\u001b[0m \u001b[0;34m=\u001b[0m \u001b[0m_process_traceback_frames\u001b[0m\u001b[0;34m(\u001b[0m\u001b[0me\u001b[0m\u001b[0;34m.\u001b[0m\u001b[0m__traceback__\u001b[0m\u001b[0;34m)\u001b[0m\u001b[0;34m\u001b[0m\u001b[0;34m\u001b[0m\u001b[0m\n\u001b[1;32m    153\u001b[0m       \u001b[0;32mraise\u001b[0m \u001b[0me\u001b[0m\u001b[0;34m.\u001b[0m\u001b[0mwith_traceback\u001b[0m\u001b[0;34m(\u001b[0m\u001b[0mfiltered_tb\u001b[0m\u001b[0;34m)\u001b[0m \u001b[0;32mfrom\u001b[0m \u001b[0;32mNone\u001b[0m\u001b[0;34m\u001b[0m\u001b[0;34m\u001b[0m\u001b[0m\n\u001b[1;32m    154\u001b[0m     \u001b[0;32mfinally\u001b[0m\u001b[0;34m:\u001b[0m\u001b[0;34m\u001b[0m\u001b[0;34m\u001b[0m\u001b[0m\n\u001b[0;32m--> 155\u001b[0;31m       \u001b[0;32mdel\u001b[0m \u001b[0mfiltered_tb\u001b[0m\u001b[0;34m\u001b[0m\u001b[0;34m\u001b[0m\u001b[0m\n\u001b[0m",
      "\u001b[0;32m/opt/conda/envs/myenv/lib/python3.11/site-packages/tensorflow/python/eager/polymorphic_function/polymorphic_function.py\u001b[0m in \u001b[0;36m?\u001b[0;34m(self, *args, **kwds)\u001b[0m\n\u001b[1;32m    806\u001b[0m   \u001b[0;32mdef\u001b[0m \u001b[0m__call__\u001b[0m\u001b[0;34m(\u001b[0m\u001b[0mself\u001b[0m\u001b[0;34m,\u001b[0m \u001b[0;34m*\u001b[0m\u001b[0margs\u001b[0m\u001b[0;34m,\u001b[0m \u001b[0;34m**\u001b[0m\u001b[0mkwds\u001b[0m\u001b[0;34m)\u001b[0m\u001b[0;34m:\u001b[0m\u001b[0;34m\u001b[0m\u001b[0;34m\u001b[0m\u001b[0m\n\u001b[1;32m    807\u001b[0m     \u001b[0;31m# Implements PolymorphicFunction.__call__.\u001b[0m\u001b[0;34m\u001b[0m\u001b[0;34m\u001b[0m\u001b[0m\n\u001b[1;32m    808\u001b[0m     \u001b[0;32mif\u001b[0m \u001b[0mself\u001b[0m\u001b[0;34m.\u001b[0m\u001b[0m_run_functions_eagerly\u001b[0m\u001b[0;34m:\u001b[0m\u001b[0;34m\u001b[0m\u001b[0;34m\u001b[0m\u001b[0m\n\u001b[1;32m    809\u001b[0m       \u001b[0;32mwith\u001b[0m \u001b[0mtrace\u001b[0m\u001b[0;34m.\u001b[0m\u001b[0mTrace\u001b[0m\u001b[0;34m(\u001b[0m\u001b[0mself\u001b[0m\u001b[0;34m.\u001b[0m\u001b[0m_name\u001b[0m\u001b[0;34m,\u001b[0m \u001b[0mtf_function_call\u001b[0m\u001b[0;34m=\u001b[0m\u001b[0;34m\"eager\"\u001b[0m\u001b[0;34m)\u001b[0m\u001b[0;34m:\u001b[0m\u001b[0;34m\u001b[0m\u001b[0;34m\u001b[0m\u001b[0m\n\u001b[0;32m--> 810\u001b[0;31m         \u001b[0;32mreturn\u001b[0m \u001b[0mself\u001b[0m\u001b[0;34m.\u001b[0m\u001b[0m_python_function\u001b[0m\u001b[0;34m(\u001b[0m\u001b[0;34m*\u001b[0m\u001b[0margs\u001b[0m\u001b[0;34m,\u001b[0m \u001b[0;34m**\u001b[0m\u001b[0mkwds\u001b[0m\u001b[0;34m)\u001b[0m\u001b[0;34m\u001b[0m\u001b[0;34m\u001b[0m\u001b[0m\n\u001b[0m\u001b[1;32m    811\u001b[0m \u001b[0;34m\u001b[0m\u001b[0m\n\u001b[1;32m    812\u001b[0m     \u001b[0;31m# Only count the statistics the first time, before initialization took\u001b[0m\u001b[0;34m\u001b[0m\u001b[0;34m\u001b[0m\u001b[0m\n\u001b[1;32m    813\u001b[0m     \u001b[0;31m# place.\u001b[0m\u001b[0;34m\u001b[0m\u001b[0;34m\u001b[0m\u001b[0m\n",
      "\u001b[0;32m/opt/conda/envs/myenv/lib/python3.11/site-packages/tensorflow/python/autograph/impl/api.py\u001b[0m in \u001b[0;36m?\u001b[0;34m(*args, **kwargs)\u001b[0m\n\u001b[1;32m    641\u001b[0m   \u001b[0;32mdef\u001b[0m \u001b[0mwrapper\u001b[0m\u001b[0;34m(\u001b[0m\u001b[0;34m*\u001b[0m\u001b[0margs\u001b[0m\u001b[0;34m,\u001b[0m \u001b[0;34m**\u001b[0m\u001b[0mkwargs\u001b[0m\u001b[0;34m)\u001b[0m\u001b[0;34m:\u001b[0m\u001b[0;34m\u001b[0m\u001b[0;34m\u001b[0m\u001b[0m\n\u001b[1;32m    642\u001b[0m     \u001b[0;32mwith\u001b[0m \u001b[0mag_ctx\u001b[0m\u001b[0;34m.\u001b[0m\u001b[0mControlStatusCtx\u001b[0m\u001b[0;34m(\u001b[0m\u001b[0mstatus\u001b[0m\u001b[0;34m=\u001b[0m\u001b[0mag_ctx\u001b[0m\u001b[0;34m.\u001b[0m\u001b[0mStatus\u001b[0m\u001b[0;34m.\u001b[0m\u001b[0mDISABLED\u001b[0m\u001b[0;34m)\u001b[0m\u001b[0;34m:\u001b[0m\u001b[0;34m\u001b[0m\u001b[0;34m\u001b[0m\u001b[0m\n\u001b[0;32m--> 643\u001b[0;31m       \u001b[0;32mreturn\u001b[0m \u001b[0mfunc\u001b[0m\u001b[0;34m(\u001b[0m\u001b[0;34m*\u001b[0m\u001b[0margs\u001b[0m\u001b[0;34m,\u001b[0m \u001b[0;34m**\u001b[0m\u001b[0mkwargs\u001b[0m\u001b[0;34m)\u001b[0m\u001b[0;34m\u001b[0m\u001b[0;34m\u001b[0m\u001b[0m\n\u001b[0m",
      "\u001b[0;32m/opt/conda/envs/myenv/lib/python3.11/site-packages/keras/src/backend/tensorflow/trainer.py\u001b[0m in \u001b[0;36m?\u001b[0;34m(data)\u001b[0m\n\u001b[1;32m    105\u001b[0m         \u001b[0;34m@\u001b[0m\u001b[0mtf\u001b[0m\u001b[0;34m.\u001b[0m\u001b[0mautograph\u001b[0m\u001b[0;34m.\u001b[0m\u001b[0mexperimental\u001b[0m\u001b[0;34m.\u001b[0m\u001b[0mdo_not_convert\u001b[0m\u001b[0;34m\u001b[0m\u001b[0;34m\u001b[0m\u001b[0m\n\u001b[1;32m    106\u001b[0m         \u001b[0;32mdef\u001b[0m \u001b[0mone_step_on_data\u001b[0m\u001b[0;34m(\u001b[0m\u001b[0mdata\u001b[0m\u001b[0;34m)\u001b[0m\u001b[0;34m:\u001b[0m\u001b[0;34m\u001b[0m\u001b[0;34m\u001b[0m\u001b[0m\n\u001b[1;32m    107\u001b[0m             \u001b[0;34m\"\"\"Runs a single training step on a batch of data.\"\"\"\u001b[0m\u001b[0;34m\u001b[0m\u001b[0;34m\u001b[0m\u001b[0m\n\u001b[0;32m--> 108\u001b[0;31m             \u001b[0;32mreturn\u001b[0m \u001b[0mself\u001b[0m\u001b[0;34m.\u001b[0m\u001b[0mtrain_step\u001b[0m\u001b[0;34m(\u001b[0m\u001b[0mdata\u001b[0m\u001b[0;34m)\u001b[0m\u001b[0;34m\u001b[0m\u001b[0;34m\u001b[0m\u001b[0m\n\u001b[0m",
      "\u001b[0;32m/opt/conda/envs/myenv/lib/python3.11/site-packages/keras/src/backend/tensorflow/trainer.py\u001b[0m in \u001b[0;36m?\u001b[0;34m(self, data)\u001b[0m\n\u001b[1;32m     47\u001b[0m \u001b[0;34m\u001b[0m\u001b[0m\n\u001b[1;32m     48\u001b[0m         \u001b[0;31m# Forward pass\u001b[0m\u001b[0;34m\u001b[0m\u001b[0;34m\u001b[0m\u001b[0m\n\u001b[1;32m     49\u001b[0m         \u001b[0;32mwith\u001b[0m \u001b[0mtf\u001b[0m\u001b[0;34m.\u001b[0m\u001b[0mGradientTape\u001b[0m\u001b[0;34m(\u001b[0m\u001b[0;34m)\u001b[0m \u001b[0;32mas\u001b[0m \u001b[0mtape\u001b[0m\u001b[0;34m:\u001b[0m\u001b[0;34m\u001b[0m\u001b[0;34m\u001b[0m\u001b[0m\n\u001b[1;32m     50\u001b[0m             \u001b[0;32mif\u001b[0m \u001b[0mself\u001b[0m\u001b[0;34m.\u001b[0m\u001b[0m_call_has_training_arg\u001b[0m\u001b[0;34m:\u001b[0m\u001b[0;34m\u001b[0m\u001b[0;34m\u001b[0m\u001b[0m\n\u001b[0;32m---> 51\u001b[0;31m                 \u001b[0my_pred\u001b[0m \u001b[0;34m=\u001b[0m \u001b[0mself\u001b[0m\u001b[0;34m(\u001b[0m\u001b[0mx\u001b[0m\u001b[0;34m,\u001b[0m \u001b[0mtraining\u001b[0m\u001b[0;34m=\u001b[0m\u001b[0;32mTrue\u001b[0m\u001b[0;34m)\u001b[0m\u001b[0;34m\u001b[0m\u001b[0;34m\u001b[0m\u001b[0m\n\u001b[0m\u001b[1;32m     52\u001b[0m             \u001b[0;32melse\u001b[0m\u001b[0;34m:\u001b[0m\u001b[0;34m\u001b[0m\u001b[0;34m\u001b[0m\u001b[0m\n\u001b[1;32m     53\u001b[0m                 \u001b[0my_pred\u001b[0m \u001b[0;34m=\u001b[0m \u001b[0mself\u001b[0m\u001b[0;34m(\u001b[0m\u001b[0mx\u001b[0m\u001b[0;34m)\u001b[0m\u001b[0;34m\u001b[0m\u001b[0;34m\u001b[0m\u001b[0m\n\u001b[1;32m     54\u001b[0m             loss = self._compute_loss(\n",
      "\u001b[0;32m/opt/conda/envs/myenv/lib/python3.11/site-packages/keras/src/utils/traceback_utils.py\u001b[0m in \u001b[0;36m?\u001b[0;34m(*args, **kwargs)\u001b[0m\n\u001b[1;32m    120\u001b[0m             \u001b[0;31m# To get the full stack trace, call:\u001b[0m\u001b[0;34m\u001b[0m\u001b[0;34m\u001b[0m\u001b[0m\n\u001b[1;32m    121\u001b[0m             \u001b[0;31m# `keras.config.disable_traceback_filtering()`\u001b[0m\u001b[0;34m\u001b[0m\u001b[0;34m\u001b[0m\u001b[0m\n\u001b[1;32m    122\u001b[0m             \u001b[0;32mraise\u001b[0m \u001b[0me\u001b[0m\u001b[0;34m.\u001b[0m\u001b[0mwith_traceback\u001b[0m\u001b[0;34m(\u001b[0m\u001b[0mfiltered_tb\u001b[0m\u001b[0;34m)\u001b[0m \u001b[0;32mfrom\u001b[0m \u001b[0;32mNone\u001b[0m\u001b[0;34m\u001b[0m\u001b[0;34m\u001b[0m\u001b[0m\n\u001b[1;32m    123\u001b[0m         \u001b[0;32mfinally\u001b[0m\u001b[0;34m:\u001b[0m\u001b[0;34m\u001b[0m\u001b[0;34m\u001b[0m\u001b[0m\n\u001b[0;32m--> 124\u001b[0;31m             \u001b[0;32mdel\u001b[0m \u001b[0mfiltered_tb\u001b[0m\u001b[0;34m\u001b[0m\u001b[0;34m\u001b[0m\u001b[0m\n\u001b[0m",
      "\u001b[0;32m/opt/conda/envs/myenv/lib/python3.11/site-packages/keras/src/layers/layer.py\u001b[0m in \u001b[0;36m?\u001b[0;34m(self, *args, **kwargs)\u001b[0m\n\u001b[1;32m    937\u001b[0m                     \u001b[0;34m\"layers will not see the mask.\"\u001b[0m\u001b[0;34m\u001b[0m\u001b[0;34m\u001b[0m\u001b[0m\n\u001b[1;32m    938\u001b[0m                 )\n\u001b[1;32m    939\u001b[0m         \u001b[0;32mfinally\u001b[0m\u001b[0;34m:\u001b[0m\u001b[0;34m\u001b[0m\u001b[0;34m\u001b[0m\u001b[0m\n\u001b[1;32m    940\u001b[0m             \u001b[0;31m# Destroy call context if we created it\u001b[0m\u001b[0;34m\u001b[0m\u001b[0;34m\u001b[0m\u001b[0m\n\u001b[0;32m--> 941\u001b[0;31m             \u001b[0mself\u001b[0m\u001b[0;34m.\u001b[0m\u001b[0m_maybe_reset_call_context\u001b[0m\u001b[0;34m(\u001b[0m\u001b[0;34m)\u001b[0m\u001b[0;34m\u001b[0m\u001b[0;34m\u001b[0m\u001b[0m\n\u001b[0m\u001b[1;32m    942\u001b[0m         \u001b[0;32mreturn\u001b[0m \u001b[0moutputs\u001b[0m\u001b[0;34m\u001b[0m\u001b[0;34m\u001b[0m\u001b[0m\n",
      "\u001b[0;32m/opt/conda/envs/myenv/lib/python3.11/site-packages/keras/src/utils/traceback_utils.py\u001b[0m in \u001b[0;36m?\u001b[0;34m(*args, **kwargs)\u001b[0m\n\u001b[1;32m    120\u001b[0m             \u001b[0;31m# To get the full stack trace, call:\u001b[0m\u001b[0;34m\u001b[0m\u001b[0;34m\u001b[0m\u001b[0m\n\u001b[1;32m    121\u001b[0m             \u001b[0;31m# `keras.config.disable_traceback_filtering()`\u001b[0m\u001b[0;34m\u001b[0m\u001b[0;34m\u001b[0m\u001b[0m\n\u001b[1;32m    122\u001b[0m             \u001b[0;32mraise\u001b[0m \u001b[0me\u001b[0m\u001b[0;34m.\u001b[0m\u001b[0mwith_traceback\u001b[0m\u001b[0;34m(\u001b[0m\u001b[0mfiltered_tb\u001b[0m\u001b[0;34m)\u001b[0m \u001b[0;32mfrom\u001b[0m \u001b[0;32mNone\u001b[0m\u001b[0;34m\u001b[0m\u001b[0;34m\u001b[0m\u001b[0m\n\u001b[1;32m    123\u001b[0m         \u001b[0;32mfinally\u001b[0m\u001b[0;34m:\u001b[0m\u001b[0;34m\u001b[0m\u001b[0;34m\u001b[0m\u001b[0m\n\u001b[0;32m--> 124\u001b[0;31m             \u001b[0;32mdel\u001b[0m \u001b[0mfiltered_tb\u001b[0m\u001b[0;34m\u001b[0m\u001b[0;34m\u001b[0m\u001b[0m\n\u001b[0m",
      "\u001b[0;32m/opt/conda/envs/myenv/lib/python3.11/site-packages/keras/src/ops/operation.py\u001b[0m in \u001b[0;36m?\u001b[0;34m(self, *args, **kwargs)\u001b[0m\n\u001b[1;32m     42\u001b[0m             call_fn = traceback_utils.inject_argument_info_in_traceback(\n\u001b[1;32m     43\u001b[0m                 \u001b[0mcall_fn\u001b[0m\u001b[0;34m,\u001b[0m\u001b[0;34m\u001b[0m\u001b[0;34m\u001b[0m\u001b[0m\n\u001b[1;32m     44\u001b[0m                 \u001b[0mobject_name\u001b[0m\u001b[0;34m=\u001b[0m\u001b[0;34m(\u001b[0m\u001b[0;34mf\"{self.__class__.__name__}.call()\"\u001b[0m\u001b[0;34m)\u001b[0m\u001b[0;34m,\u001b[0m\u001b[0;34m\u001b[0m\u001b[0;34m\u001b[0m\u001b[0m\n\u001b[1;32m     45\u001b[0m             )\n\u001b[0;32m---> 46\u001b[0;31m             \u001b[0;32mreturn\u001b[0m \u001b[0mcall_fn\u001b[0m\u001b[0;34m(\u001b[0m\u001b[0;34m*\u001b[0m\u001b[0margs\u001b[0m\u001b[0;34m,\u001b[0m \u001b[0;34m**\u001b[0m\u001b[0mkwargs\u001b[0m\u001b[0;34m)\u001b[0m\u001b[0;34m\u001b[0m\u001b[0;34m\u001b[0m\u001b[0m\n\u001b[0m\u001b[1;32m     47\u001b[0m \u001b[0;34m\u001b[0m\u001b[0m\n\u001b[1;32m     48\u001b[0m         \u001b[0;31m# Plain flow.\u001b[0m\u001b[0;34m\u001b[0m\u001b[0;34m\u001b[0m\u001b[0m\n\u001b[1;32m     49\u001b[0m         \u001b[0;32mif\u001b[0m \u001b[0many_symbolic_tensors\u001b[0m\u001b[0;34m(\u001b[0m\u001b[0margs\u001b[0m\u001b[0;34m,\u001b[0m \u001b[0mkwargs\u001b[0m\u001b[0;34m)\u001b[0m\u001b[0;34m:\u001b[0m\u001b[0;34m\u001b[0m\u001b[0;34m\u001b[0m\u001b[0m\n",
      "\u001b[0;32m/opt/conda/envs/myenv/lib/python3.11/site-packages/keras/src/utils/traceback_utils.py\u001b[0m in \u001b[0;36m?\u001b[0;34m(*args, **kwargs)\u001b[0m\n\u001b[1;32m    213\u001b[0m                 \u001b[0mnew_e\u001b[0m \u001b[0;34m=\u001b[0m \u001b[0me\u001b[0m\u001b[0;34m\u001b[0m\u001b[0;34m\u001b[0m\u001b[0m\n\u001b[1;32m    214\u001b[0m             \u001b[0;32mraise\u001b[0m \u001b[0mnew_e\u001b[0m\u001b[0;34m.\u001b[0m\u001b[0mwith_traceback\u001b[0m\u001b[0;34m(\u001b[0m\u001b[0me\u001b[0m\u001b[0;34m.\u001b[0m\u001b[0m__traceback__\u001b[0m\u001b[0;34m)\u001b[0m \u001b[0;32mfrom\u001b[0m \u001b[0;32mNone\u001b[0m\u001b[0;34m\u001b[0m\u001b[0;34m\u001b[0m\u001b[0m\n\u001b[1;32m    215\u001b[0m         \u001b[0;32mfinally\u001b[0m\u001b[0;34m:\u001b[0m\u001b[0;34m\u001b[0m\u001b[0;34m\u001b[0m\u001b[0m\n\u001b[1;32m    216\u001b[0m             \u001b[0;32mdel\u001b[0m \u001b[0msignature\u001b[0m\u001b[0;34m\u001b[0m\u001b[0;34m\u001b[0m\u001b[0m\n\u001b[0;32m--> 217\u001b[0;31m             \u001b[0;32mdel\u001b[0m \u001b[0mbound_signature\u001b[0m\u001b[0;34m\u001b[0m\u001b[0;34m\u001b[0m\u001b[0m\n\u001b[0m",
      "\u001b[0;32m/opt/conda/envs/myenv/lib/python3.11/site-packages/keras/src/models/functional.py\u001b[0m in \u001b[0;36m?\u001b[0;34m(self, inputs, training, mask)\u001b[0m\n\u001b[1;32m    178\u001b[0m             \u001b[0mmasks\u001b[0m \u001b[0;34m=\u001b[0m \u001b[0mtree\u001b[0m\u001b[0;34m.\u001b[0m\u001b[0mflatten\u001b[0m\u001b[0;34m(\u001b[0m\u001b[0mmask\u001b[0m\u001b[0;34m)\u001b[0m\u001b[0;34m\u001b[0m\u001b[0;34m\u001b[0m\u001b[0m\n\u001b[1;32m    179\u001b[0m             \u001b[0;32mfor\u001b[0m \u001b[0mx\u001b[0m\u001b[0;34m,\u001b[0m \u001b[0mmask\u001b[0m \u001b[0;32min\u001b[0m \u001b[0mzip\u001b[0m\u001b[0;34m(\u001b[0m\u001b[0minputs\u001b[0m\u001b[0;34m,\u001b[0m \u001b[0mmasks\u001b[0m\u001b[0;34m)\u001b[0m\u001b[0;34m:\u001b[0m\u001b[0;34m\u001b[0m\u001b[0;34m\u001b[0m\u001b[0m\n\u001b[1;32m    180\u001b[0m                 \u001b[0;32mif\u001b[0m \u001b[0mmask\u001b[0m \u001b[0;32mis\u001b[0m \u001b[0;32mnot\u001b[0m \u001b[0;32mNone\u001b[0m\u001b[0;34m:\u001b[0m\u001b[0;34m\u001b[0m\u001b[0;34m\u001b[0m\u001b[0m\n\u001b[1;32m    181\u001b[0m                     \u001b[0mbackend\u001b[0m\u001b[0;34m.\u001b[0m\u001b[0mset_keras_mask\u001b[0m\u001b[0;34m(\u001b[0m\u001b[0mx\u001b[0m\u001b[0;34m,\u001b[0m \u001b[0mmask\u001b[0m\u001b[0;34m)\u001b[0m\u001b[0;34m\u001b[0m\u001b[0;34m\u001b[0m\u001b[0m\n\u001b[0;32m--> 182\u001b[0;31m         outputs = self._run_through_graph(\n\u001b[0m\u001b[1;32m    183\u001b[0m             \u001b[0minputs\u001b[0m\u001b[0;34m,\u001b[0m \u001b[0moperation_fn\u001b[0m\u001b[0;34m=\u001b[0m\u001b[0;32mlambda\u001b[0m \u001b[0mop\u001b[0m\u001b[0;34m:\u001b[0m \u001b[0moperation_fn\u001b[0m\u001b[0;34m(\u001b[0m\u001b[0mop\u001b[0m\u001b[0;34m,\u001b[0m \u001b[0mtraining\u001b[0m\u001b[0;34m=\u001b[0m\u001b[0mtraining\u001b[0m\u001b[0;34m)\u001b[0m\u001b[0;34m\u001b[0m\u001b[0;34m\u001b[0m\u001b[0m\n\u001b[1;32m    184\u001b[0m         )\n\u001b[1;32m    185\u001b[0m         \u001b[0;32mreturn\u001b[0m \u001b[0munpack_singleton\u001b[0m\u001b[0;34m(\u001b[0m\u001b[0moutputs\u001b[0m\u001b[0;34m)\u001b[0m\u001b[0;34m\u001b[0m\u001b[0;34m\u001b[0m\u001b[0m\n",
      "\u001b[0;32m/opt/conda/envs/myenv/lib/python3.11/site-packages/keras/src/ops/function.py\u001b[0m in \u001b[0;36m?\u001b[0;34m(self, inputs, operation_fn, call_fn)\u001b[0m\n\u001b[1;32m    167\u001b[0m                 \u001b[0mop\u001b[0m \u001b[0;34m=\u001b[0m \u001b[0moperation_fn\u001b[0m\u001b[0;34m(\u001b[0m\u001b[0mnode\u001b[0m\u001b[0;34m.\u001b[0m\u001b[0moperation\u001b[0m\u001b[0;34m)\u001b[0m\u001b[0;34m\u001b[0m\u001b[0;34m\u001b[0m\u001b[0m\n\u001b[1;32m    168\u001b[0m                 \u001b[0;32mif\u001b[0m \u001b[0mcall_fn\u001b[0m \u001b[0;32mis\u001b[0m \u001b[0;32mnot\u001b[0m \u001b[0;32mNone\u001b[0m\u001b[0;34m:\u001b[0m\u001b[0;34m\u001b[0m\u001b[0;34m\u001b[0m\u001b[0m\n\u001b[1;32m    169\u001b[0m                     \u001b[0moutputs\u001b[0m \u001b[0;34m=\u001b[0m \u001b[0mcall_fn\u001b[0m\u001b[0;34m(\u001b[0m\u001b[0mop\u001b[0m\u001b[0;34m,\u001b[0m \u001b[0;34m*\u001b[0m\u001b[0margs\u001b[0m\u001b[0;34m,\u001b[0m \u001b[0;34m**\u001b[0m\u001b[0mkwargs\u001b[0m\u001b[0;34m)\u001b[0m\u001b[0;34m\u001b[0m\u001b[0;34m\u001b[0m\u001b[0m\n\u001b[1;32m    170\u001b[0m                 \u001b[0;32melse\u001b[0m\u001b[0;34m:\u001b[0m\u001b[0;34m\u001b[0m\u001b[0;34m\u001b[0m\u001b[0m\n\u001b[0;32m--> 171\u001b[0;31m                     \u001b[0moutputs\u001b[0m \u001b[0;34m=\u001b[0m \u001b[0mop\u001b[0m\u001b[0;34m(\u001b[0m\u001b[0;34m*\u001b[0m\u001b[0margs\u001b[0m\u001b[0;34m,\u001b[0m \u001b[0;34m**\u001b[0m\u001b[0mkwargs\u001b[0m\u001b[0;34m)\u001b[0m\u001b[0;34m\u001b[0m\u001b[0;34m\u001b[0m\u001b[0m\n\u001b[0m\u001b[1;32m    172\u001b[0m \u001b[0;34m\u001b[0m\u001b[0m\n\u001b[1;32m    173\u001b[0m                 \u001b[0;31m# Update tensor_dict.\u001b[0m\u001b[0;34m\u001b[0m\u001b[0;34m\u001b[0m\u001b[0m\n\u001b[1;32m    174\u001b[0m                 \u001b[0;32mfor\u001b[0m \u001b[0mx\u001b[0m\u001b[0;34m,\u001b[0m \u001b[0my\u001b[0m \u001b[0;32min\u001b[0m \u001b[0mzip\u001b[0m\u001b[0;34m(\u001b[0m\u001b[0mnode\u001b[0m\u001b[0;34m.\u001b[0m\u001b[0moutputs\u001b[0m\u001b[0;34m,\u001b[0m \u001b[0mtree\u001b[0m\u001b[0;34m.\u001b[0m\u001b[0mflatten\u001b[0m\u001b[0;34m(\u001b[0m\u001b[0moutputs\u001b[0m\u001b[0;34m)\u001b[0m\u001b[0;34m)\u001b[0m\u001b[0;34m:\u001b[0m\u001b[0;34m\u001b[0m\u001b[0;34m\u001b[0m\u001b[0m\n",
      "\u001b[0;32m/opt/conda/envs/myenv/lib/python3.11/site-packages/keras/src/models/functional.py\u001b[0m in \u001b[0;36m?\u001b[0;34m(*args, **kwargs)\u001b[0m\n\u001b[1;32m    580\u001b[0m             \u001b[0;32mand\u001b[0m \u001b[0moperation\u001b[0m\u001b[0;34m.\u001b[0m\u001b[0m_call_has_training_arg\u001b[0m\u001b[0;34m\u001b[0m\u001b[0;34m\u001b[0m\u001b[0m\n\u001b[1;32m    581\u001b[0m             \u001b[0;32mand\u001b[0m \u001b[0mtraining\u001b[0m \u001b[0;32mis\u001b[0m \u001b[0;32mnot\u001b[0m \u001b[0;32mNone\u001b[0m\u001b[0;34m\u001b[0m\u001b[0;34m\u001b[0m\u001b[0m\n\u001b[1;32m    582\u001b[0m         ):\n\u001b[1;32m    583\u001b[0m             \u001b[0mkwargs\u001b[0m\u001b[0;34m[\u001b[0m\u001b[0;34m\"training\"\u001b[0m\u001b[0;34m]\u001b[0m \u001b[0;34m=\u001b[0m \u001b[0mtraining\u001b[0m\u001b[0;34m\u001b[0m\u001b[0;34m\u001b[0m\u001b[0m\n\u001b[0;32m--> 584\u001b[0;31m         \u001b[0;32mreturn\u001b[0m \u001b[0moperation\u001b[0m\u001b[0;34m(\u001b[0m\u001b[0;34m*\u001b[0m\u001b[0margs\u001b[0m\u001b[0;34m,\u001b[0m \u001b[0;34m**\u001b[0m\u001b[0mkwargs\u001b[0m\u001b[0;34m)\u001b[0m\u001b[0;34m\u001b[0m\u001b[0;34m\u001b[0m\u001b[0m\n\u001b[0m",
      "\u001b[0;32m/opt/conda/envs/myenv/lib/python3.11/site-packages/keras/src/utils/traceback_utils.py\u001b[0m in \u001b[0;36m?\u001b[0;34m(*args, **kwargs)\u001b[0m\n\u001b[1;32m    120\u001b[0m             \u001b[0;31m# To get the full stack trace, call:\u001b[0m\u001b[0;34m\u001b[0m\u001b[0;34m\u001b[0m\u001b[0m\n\u001b[1;32m    121\u001b[0m             \u001b[0;31m# `keras.config.disable_traceback_filtering()`\u001b[0m\u001b[0;34m\u001b[0m\u001b[0;34m\u001b[0m\u001b[0m\n\u001b[1;32m    122\u001b[0m             \u001b[0;32mraise\u001b[0m \u001b[0me\u001b[0m\u001b[0;34m.\u001b[0m\u001b[0mwith_traceback\u001b[0m\u001b[0;34m(\u001b[0m\u001b[0mfiltered_tb\u001b[0m\u001b[0;34m)\u001b[0m \u001b[0;32mfrom\u001b[0m \u001b[0;32mNone\u001b[0m\u001b[0;34m\u001b[0m\u001b[0;34m\u001b[0m\u001b[0m\n\u001b[1;32m    123\u001b[0m         \u001b[0;32mfinally\u001b[0m\u001b[0;34m:\u001b[0m\u001b[0;34m\u001b[0m\u001b[0;34m\u001b[0m\u001b[0m\n\u001b[0;32m--> 124\u001b[0;31m             \u001b[0;32mdel\u001b[0m \u001b[0mfiltered_tb\u001b[0m\u001b[0;34m\u001b[0m\u001b[0;34m\u001b[0m\u001b[0m\n\u001b[0m",
      "\u001b[0;32m/opt/conda/envs/myenv/lib/python3.11/site-packages/keras/src/layers/layer.py\u001b[0m in \u001b[0;36m?\u001b[0;34m(self, *args, **kwargs)\u001b[0m\n\u001b[1;32m    937\u001b[0m                     \u001b[0;34m\"layers will not see the mask.\"\u001b[0m\u001b[0;34m\u001b[0m\u001b[0;34m\u001b[0m\u001b[0m\n\u001b[1;32m    938\u001b[0m                 )\n\u001b[1;32m    939\u001b[0m         \u001b[0;32mfinally\u001b[0m\u001b[0;34m:\u001b[0m\u001b[0;34m\u001b[0m\u001b[0;34m\u001b[0m\u001b[0m\n\u001b[1;32m    940\u001b[0m             \u001b[0;31m# Destroy call context if we created it\u001b[0m\u001b[0;34m\u001b[0m\u001b[0;34m\u001b[0m\u001b[0m\n\u001b[0;32m--> 941\u001b[0;31m             \u001b[0mself\u001b[0m\u001b[0;34m.\u001b[0m\u001b[0m_maybe_reset_call_context\u001b[0m\u001b[0;34m(\u001b[0m\u001b[0;34m)\u001b[0m\u001b[0;34m\u001b[0m\u001b[0;34m\u001b[0m\u001b[0m\n\u001b[0m\u001b[1;32m    942\u001b[0m         \u001b[0;32mreturn\u001b[0m \u001b[0moutputs\u001b[0m\u001b[0;34m\u001b[0m\u001b[0;34m\u001b[0m\u001b[0m\n",
      "\u001b[0;32m/opt/conda/envs/myenv/lib/python3.11/site-packages/keras/src/utils/traceback_utils.py\u001b[0m in \u001b[0;36m?\u001b[0;34m(*args, **kwargs)\u001b[0m\n\u001b[1;32m    120\u001b[0m             \u001b[0;31m# To get the full stack trace, call:\u001b[0m\u001b[0;34m\u001b[0m\u001b[0;34m\u001b[0m\u001b[0m\n\u001b[1;32m    121\u001b[0m             \u001b[0;31m# `keras.config.disable_traceback_filtering()`\u001b[0m\u001b[0;34m\u001b[0m\u001b[0;34m\u001b[0m\u001b[0m\n\u001b[1;32m    122\u001b[0m             \u001b[0;32mraise\u001b[0m \u001b[0me\u001b[0m\u001b[0;34m.\u001b[0m\u001b[0mwith_traceback\u001b[0m\u001b[0;34m(\u001b[0m\u001b[0mfiltered_tb\u001b[0m\u001b[0;34m)\u001b[0m \u001b[0;32mfrom\u001b[0m \u001b[0;32mNone\u001b[0m\u001b[0;34m\u001b[0m\u001b[0;34m\u001b[0m\u001b[0m\n\u001b[1;32m    123\u001b[0m         \u001b[0;32mfinally\u001b[0m\u001b[0;34m:\u001b[0m\u001b[0;34m\u001b[0m\u001b[0;34m\u001b[0m\u001b[0m\n\u001b[0;32m--> 124\u001b[0;31m             \u001b[0;32mdel\u001b[0m \u001b[0mfiltered_tb\u001b[0m\u001b[0;34m\u001b[0m\u001b[0;34m\u001b[0m\u001b[0m\n\u001b[0m",
      "\u001b[0;32m/opt/conda/envs/myenv/lib/python3.11/site-packages/keras/src/ops/operation.py\u001b[0m in \u001b[0;36m?\u001b[0;34m(self, *args, **kwargs)\u001b[0m\n\u001b[1;32m     42\u001b[0m             call_fn = traceback_utils.inject_argument_info_in_traceback(\n\u001b[1;32m     43\u001b[0m                 \u001b[0mcall_fn\u001b[0m\u001b[0;34m,\u001b[0m\u001b[0;34m\u001b[0m\u001b[0;34m\u001b[0m\u001b[0m\n\u001b[1;32m     44\u001b[0m                 \u001b[0mobject_name\u001b[0m\u001b[0;34m=\u001b[0m\u001b[0;34m(\u001b[0m\u001b[0;34mf\"{self.__class__.__name__}.call()\"\u001b[0m\u001b[0;34m)\u001b[0m\u001b[0;34m,\u001b[0m\u001b[0;34m\u001b[0m\u001b[0;34m\u001b[0m\u001b[0m\n\u001b[1;32m     45\u001b[0m             )\n\u001b[0;32m---> 46\u001b[0;31m             \u001b[0;32mreturn\u001b[0m \u001b[0mcall_fn\u001b[0m\u001b[0;34m(\u001b[0m\u001b[0;34m*\u001b[0m\u001b[0margs\u001b[0m\u001b[0;34m,\u001b[0m \u001b[0;34m**\u001b[0m\u001b[0mkwargs\u001b[0m\u001b[0;34m)\u001b[0m\u001b[0;34m\u001b[0m\u001b[0;34m\u001b[0m\u001b[0m\n\u001b[0m\u001b[1;32m     47\u001b[0m \u001b[0;34m\u001b[0m\u001b[0m\n\u001b[1;32m     48\u001b[0m         \u001b[0;31m# Plain flow.\u001b[0m\u001b[0;34m\u001b[0m\u001b[0;34m\u001b[0m\u001b[0m\n\u001b[1;32m     49\u001b[0m         \u001b[0;32mif\u001b[0m \u001b[0many_symbolic_tensors\u001b[0m\u001b[0;34m(\u001b[0m\u001b[0margs\u001b[0m\u001b[0;34m,\u001b[0m \u001b[0mkwargs\u001b[0m\u001b[0;34m)\u001b[0m\u001b[0;34m:\u001b[0m\u001b[0;34m\u001b[0m\u001b[0;34m\u001b[0m\u001b[0m\n",
      "\u001b[0;32m/opt/conda/envs/myenv/lib/python3.11/site-packages/keras/src/utils/traceback_utils.py\u001b[0m in \u001b[0;36m?\u001b[0;34m(*args, **kwargs)\u001b[0m\n\u001b[1;32m    213\u001b[0m                 \u001b[0mnew_e\u001b[0m \u001b[0;34m=\u001b[0m \u001b[0me\u001b[0m\u001b[0;34m\u001b[0m\u001b[0;34m\u001b[0m\u001b[0m\n\u001b[1;32m    214\u001b[0m             \u001b[0;32mraise\u001b[0m \u001b[0mnew_e\u001b[0m\u001b[0;34m.\u001b[0m\u001b[0mwith_traceback\u001b[0m\u001b[0;34m(\u001b[0m\u001b[0me\u001b[0m\u001b[0;34m.\u001b[0m\u001b[0m__traceback__\u001b[0m\u001b[0;34m)\u001b[0m \u001b[0;32mfrom\u001b[0m \u001b[0;32mNone\u001b[0m\u001b[0;34m\u001b[0m\u001b[0;34m\u001b[0m\u001b[0m\n\u001b[1;32m    215\u001b[0m         \u001b[0;32mfinally\u001b[0m\u001b[0;34m:\u001b[0m\u001b[0;34m\u001b[0m\u001b[0;34m\u001b[0m\u001b[0m\n\u001b[1;32m    216\u001b[0m             \u001b[0;32mdel\u001b[0m \u001b[0msignature\u001b[0m\u001b[0;34m\u001b[0m\u001b[0;34m\u001b[0m\u001b[0m\n\u001b[0;32m--> 217\u001b[0;31m             \u001b[0;32mdel\u001b[0m \u001b[0mbound_signature\u001b[0m\u001b[0;34m\u001b[0m\u001b[0;34m\u001b[0m\u001b[0m\n\u001b[0m",
      "\u001b[0;32m/var/tmp/ipykernel_470165/937161915.py\u001b[0m in \u001b[0;36m?\u001b[0;34m(self, inputs, training)\u001b[0m\n\u001b[1;32m     32\u001b[0m     \u001b[0;32mdef\u001b[0m \u001b[0mcall\u001b[0m\u001b[0;34m(\u001b[0m\u001b[0mself\u001b[0m\u001b[0;34m,\u001b[0m \u001b[0minputs\u001b[0m\u001b[0;34m,\u001b[0m \u001b[0mtraining\u001b[0m\u001b[0;34m=\u001b[0m\u001b[0;32mTrue\u001b[0m\u001b[0;34m)\u001b[0m\u001b[0;34m:\u001b[0m\u001b[0;34m\u001b[0m\u001b[0;34m\u001b[0m\u001b[0m\n\u001b[1;32m     33\u001b[0m         \u001b[0;32mif\u001b[0m \u001b[0mtraining\u001b[0m\u001b[0;34m:\u001b[0m\u001b[0;34m\u001b[0m\u001b[0;34m\u001b[0m\u001b[0m\n\u001b[0;32m---> 34\u001b[0;31m             \u001b[0mx\u001b[0m \u001b[0;34m=\u001b[0m \u001b[0mself\u001b[0m\u001b[0;34m.\u001b[0m\u001b[0mrand_augment\u001b[0m\u001b[0;34m(\u001b[0m\u001b[0minputs\u001b[0m\u001b[0;34m)\u001b[0m\u001b[0;34m\u001b[0m\u001b[0;34m\u001b[0m\u001b[0m\n\u001b[0m\u001b[1;32m     35\u001b[0m             \u001b[0mx\u001b[0m \u001b[0;34m=\u001b[0m \u001b[0mself\u001b[0m\u001b[0;34m.\u001b[0m\u001b[0mrandom_flip\u001b[0m\u001b[0;34m(\u001b[0m\u001b[0mx\u001b[0m\u001b[0;34m)\u001b[0m\u001b[0;34m\u001b[0m\u001b[0;34m\u001b[0m\u001b[0m\n\u001b[1;32m     36\u001b[0m             \u001b[0mx\u001b[0m \u001b[0;34m=\u001b[0m \u001b[0mself\u001b[0m\u001b[0;34m.\u001b[0m\u001b[0mrandom_zoom\u001b[0m\u001b[0;34m(\u001b[0m\u001b[0mx\u001b[0m\u001b[0;34m)\u001b[0m\u001b[0;34m\u001b[0m\u001b[0;34m\u001b[0m\u001b[0m\n\u001b[1;32m     37\u001b[0m             \u001b[0mx\u001b[0m \u001b[0;34m=\u001b[0m \u001b[0mself\u001b[0m\u001b[0;34m.\u001b[0m\u001b[0mrandom_rotation\u001b[0m\u001b[0;34m(\u001b[0m\u001b[0mx\u001b[0m\u001b[0;34m)\u001b[0m\u001b[0;34m\u001b[0m\u001b[0;34m\u001b[0m\u001b[0m\n",
      "\u001b[0;32m/opt/conda/envs/myenv/lib/python3.11/site-packages/keras/src/utils/traceback_utils.py\u001b[0m in \u001b[0;36m?\u001b[0;34m(*args, **kwargs)\u001b[0m\n\u001b[1;32m    120\u001b[0m             \u001b[0;31m# To get the full stack trace, call:\u001b[0m\u001b[0;34m\u001b[0m\u001b[0;34m\u001b[0m\u001b[0m\n\u001b[1;32m    121\u001b[0m             \u001b[0;31m# `keras.config.disable_traceback_filtering()`\u001b[0m\u001b[0;34m\u001b[0m\u001b[0;34m\u001b[0m\u001b[0m\n\u001b[1;32m    122\u001b[0m             \u001b[0;32mraise\u001b[0m \u001b[0me\u001b[0m\u001b[0;34m.\u001b[0m\u001b[0mwith_traceback\u001b[0m\u001b[0;34m(\u001b[0m\u001b[0mfiltered_tb\u001b[0m\u001b[0;34m)\u001b[0m \u001b[0;32mfrom\u001b[0m \u001b[0;32mNone\u001b[0m\u001b[0;34m\u001b[0m\u001b[0;34m\u001b[0m\u001b[0m\n\u001b[1;32m    123\u001b[0m         \u001b[0;32mfinally\u001b[0m\u001b[0;34m:\u001b[0m\u001b[0;34m\u001b[0m\u001b[0;34m\u001b[0m\u001b[0m\n\u001b[0;32m--> 124\u001b[0;31m             \u001b[0;32mdel\u001b[0m \u001b[0mfiltered_tb\u001b[0m\u001b[0;34m\u001b[0m\u001b[0;34m\u001b[0m\u001b[0m\n\u001b[0m",
      "\u001b[0;32m/opt/conda/envs/myenv/lib/python3.11/site-packages/keras/src/layers/layer.py\u001b[0m in \u001b[0;36m?\u001b[0;34m(self, *args, **kwargs)\u001b[0m\n\u001b[1;32m    937\u001b[0m                     \u001b[0;34m\"layers will not see the mask.\"\u001b[0m\u001b[0;34m\u001b[0m\u001b[0;34m\u001b[0m\u001b[0m\n\u001b[1;32m    938\u001b[0m                 )\n\u001b[1;32m    939\u001b[0m         \u001b[0;32mfinally\u001b[0m\u001b[0;34m:\u001b[0m\u001b[0;34m\u001b[0m\u001b[0;34m\u001b[0m\u001b[0m\n\u001b[1;32m    940\u001b[0m             \u001b[0;31m# Destroy call context if we created it\u001b[0m\u001b[0;34m\u001b[0m\u001b[0;34m\u001b[0m\u001b[0m\n\u001b[0;32m--> 941\u001b[0;31m             \u001b[0mself\u001b[0m\u001b[0;34m.\u001b[0m\u001b[0m_maybe_reset_call_context\u001b[0m\u001b[0;34m(\u001b[0m\u001b[0;34m)\u001b[0m\u001b[0;34m\u001b[0m\u001b[0;34m\u001b[0m\u001b[0m\n\u001b[0m\u001b[1;32m    942\u001b[0m         \u001b[0;32mreturn\u001b[0m \u001b[0moutputs\u001b[0m\u001b[0;34m\u001b[0m\u001b[0;34m\u001b[0m\u001b[0m\n",
      "\u001b[0;32m/opt/conda/envs/myenv/lib/python3.11/site-packages/keras/src/utils/traceback_utils.py\u001b[0m in \u001b[0;36m?\u001b[0;34m(*args, **kwargs)\u001b[0m\n\u001b[1;32m    120\u001b[0m             \u001b[0;31m# To get the full stack trace, call:\u001b[0m\u001b[0;34m\u001b[0m\u001b[0;34m\u001b[0m\u001b[0m\n\u001b[1;32m    121\u001b[0m             \u001b[0;31m# `keras.config.disable_traceback_filtering()`\u001b[0m\u001b[0;34m\u001b[0m\u001b[0;34m\u001b[0m\u001b[0m\n\u001b[1;32m    122\u001b[0m             \u001b[0;32mraise\u001b[0m \u001b[0me\u001b[0m\u001b[0;34m.\u001b[0m\u001b[0mwith_traceback\u001b[0m\u001b[0;34m(\u001b[0m\u001b[0mfiltered_tb\u001b[0m\u001b[0;34m)\u001b[0m \u001b[0;32mfrom\u001b[0m \u001b[0;32mNone\u001b[0m\u001b[0;34m\u001b[0m\u001b[0;34m\u001b[0m\u001b[0m\n\u001b[1;32m    123\u001b[0m         \u001b[0;32mfinally\u001b[0m\u001b[0;34m:\u001b[0m\u001b[0;34m\u001b[0m\u001b[0;34m\u001b[0m\u001b[0m\n\u001b[0;32m--> 124\u001b[0;31m             \u001b[0;32mdel\u001b[0m \u001b[0mfiltered_tb\u001b[0m\u001b[0;34m\u001b[0m\u001b[0;34m\u001b[0m\u001b[0m\n\u001b[0m",
      "\u001b[0;32m/opt/conda/envs/myenv/lib/python3.11/site-packages/keras/src/ops/operation.py\u001b[0m in \u001b[0;36m?\u001b[0;34m(self, *args, **kwargs)\u001b[0m\n\u001b[1;32m     42\u001b[0m             call_fn = traceback_utils.inject_argument_info_in_traceback(\n\u001b[1;32m     43\u001b[0m                 \u001b[0mcall_fn\u001b[0m\u001b[0;34m,\u001b[0m\u001b[0;34m\u001b[0m\u001b[0;34m\u001b[0m\u001b[0m\n\u001b[1;32m     44\u001b[0m                 \u001b[0mobject_name\u001b[0m\u001b[0;34m=\u001b[0m\u001b[0;34m(\u001b[0m\u001b[0;34mf\"{self.__class__.__name__}.call()\"\u001b[0m\u001b[0;34m)\u001b[0m\u001b[0;34m,\u001b[0m\u001b[0;34m\u001b[0m\u001b[0;34m\u001b[0m\u001b[0m\n\u001b[1;32m     45\u001b[0m             )\n\u001b[0;32m---> 46\u001b[0;31m             \u001b[0;32mreturn\u001b[0m \u001b[0mcall_fn\u001b[0m\u001b[0;34m(\u001b[0m\u001b[0;34m*\u001b[0m\u001b[0margs\u001b[0m\u001b[0;34m,\u001b[0m \u001b[0;34m**\u001b[0m\u001b[0mkwargs\u001b[0m\u001b[0;34m)\u001b[0m\u001b[0;34m\u001b[0m\u001b[0;34m\u001b[0m\u001b[0m\n\u001b[0m\u001b[1;32m     47\u001b[0m \u001b[0;34m\u001b[0m\u001b[0m\n\u001b[1;32m     48\u001b[0m         \u001b[0;31m# Plain flow.\u001b[0m\u001b[0;34m\u001b[0m\u001b[0;34m\u001b[0m\u001b[0m\n\u001b[1;32m     49\u001b[0m         \u001b[0;32mif\u001b[0m \u001b[0many_symbolic_tensors\u001b[0m\u001b[0;34m(\u001b[0m\u001b[0margs\u001b[0m\u001b[0;34m,\u001b[0m \u001b[0mkwargs\u001b[0m\u001b[0;34m)\u001b[0m\u001b[0;34m:\u001b[0m\u001b[0;34m\u001b[0m\u001b[0;34m\u001b[0m\u001b[0m\n",
      "\u001b[0;32m/opt/conda/envs/myenv/lib/python3.11/site-packages/keras/src/utils/traceback_utils.py\u001b[0m in \u001b[0;36m?\u001b[0;34m(*args, **kwargs)\u001b[0m\n\u001b[1;32m    213\u001b[0m                 \u001b[0mnew_e\u001b[0m \u001b[0;34m=\u001b[0m \u001b[0me\u001b[0m\u001b[0;34m\u001b[0m\u001b[0;34m\u001b[0m\u001b[0m\n\u001b[1;32m    214\u001b[0m             \u001b[0;32mraise\u001b[0m \u001b[0mnew_e\u001b[0m\u001b[0;34m.\u001b[0m\u001b[0mwith_traceback\u001b[0m\u001b[0;34m(\u001b[0m\u001b[0me\u001b[0m\u001b[0;34m.\u001b[0m\u001b[0m__traceback__\u001b[0m\u001b[0;34m)\u001b[0m \u001b[0;32mfrom\u001b[0m \u001b[0;32mNone\u001b[0m\u001b[0;34m\u001b[0m\u001b[0;34m\u001b[0m\u001b[0m\n\u001b[1;32m    215\u001b[0m         \u001b[0;32mfinally\u001b[0m\u001b[0;34m:\u001b[0m\u001b[0;34m\u001b[0m\u001b[0;34m\u001b[0m\u001b[0m\n\u001b[1;32m    216\u001b[0m             \u001b[0;32mdel\u001b[0m \u001b[0msignature\u001b[0m\u001b[0;34m\u001b[0m\u001b[0;34m\u001b[0m\u001b[0m\n\u001b[0;32m--> 217\u001b[0;31m             \u001b[0;32mdel\u001b[0m \u001b[0mbound_signature\u001b[0m\u001b[0;34m\u001b[0m\u001b[0;34m\u001b[0m\u001b[0m\n\u001b[0m",
      "\u001b[0;32m/opt/conda/envs/myenv/lib/python3.11/site-packages/keras_cv/src/layers/preprocessing/base_image_augmentation_layer.py\u001b[0m in \u001b[0;36m?\u001b[0;34m(self, inputs)\u001b[0m\n\u001b[1;32m    432\u001b[0m             \u001b[0;32mif\u001b[0m \u001b[0mimages\u001b[0m\u001b[0;34m.\u001b[0m\u001b[0mshape\u001b[0m\u001b[0;34m.\u001b[0m\u001b[0mrank\u001b[0m \u001b[0;34m==\u001b[0m \u001b[0;36m3\u001b[0m\u001b[0;34m:\u001b[0m\u001b[0;34m\u001b[0m\u001b[0;34m\u001b[0m\u001b[0m\n\u001b[1;32m    433\u001b[0m                 \u001b[0moutputs\u001b[0m \u001b[0;34m=\u001b[0m \u001b[0mself\u001b[0m\u001b[0;34m.\u001b[0m\u001b[0m_format_output\u001b[0m\u001b[0;34m(\u001b[0m\u001b[0mself\u001b[0m\u001b[0;34m.\u001b[0m\u001b[0m_augment\u001b[0m\u001b[0;34m(\u001b[0m\u001b[0minputs\u001b[0m\u001b[0;34m)\u001b[0m\u001b[0;34m,\u001b[0m \u001b[0mmetadata\u001b[0m\u001b[0;34m)\u001b[0m\u001b[0;34m\u001b[0m\u001b[0;34m\u001b[0m\u001b[0m\n\u001b[1;32m    434\u001b[0m             \u001b[0;32melif\u001b[0m \u001b[0mimages\u001b[0m\u001b[0;34m.\u001b[0m\u001b[0mshape\u001b[0m\u001b[0;34m.\u001b[0m\u001b[0mrank\u001b[0m \u001b[0;34m==\u001b[0m \u001b[0;36m4\u001b[0m\u001b[0;34m:\u001b[0m\u001b[0;34m\u001b[0m\u001b[0;34m\u001b[0m\u001b[0m\n\u001b[1;32m    435\u001b[0m                 outputs = self._format_output(\n\u001b[0;32m--> 436\u001b[0;31m                     \u001b[0mself\u001b[0m\u001b[0;34m.\u001b[0m\u001b[0m_batch_augment\u001b[0m\u001b[0;34m(\u001b[0m\u001b[0minputs\u001b[0m\u001b[0;34m)\u001b[0m\u001b[0;34m,\u001b[0m \u001b[0mmetadata\u001b[0m\u001b[0;34m\u001b[0m\u001b[0;34m\u001b[0m\u001b[0m\n\u001b[0m\u001b[1;32m    437\u001b[0m                 )\n\u001b[1;32m    438\u001b[0m             \u001b[0;32melse\u001b[0m\u001b[0;34m:\u001b[0m\u001b[0;34m\u001b[0m\u001b[0;34m\u001b[0m\u001b[0m\n\u001b[1;32m    439\u001b[0m                 raise ValueError(\n",
      "\u001b[0;32m/opt/conda/envs/myenv/lib/python3.11/site-packages/keras_cv/src/layers/preprocessing/base_image_augmentation_layer.py\u001b[0m in \u001b[0;36m?\u001b[0;34m(self, inputs)\u001b[0m\n\u001b[1;32m    542\u001b[0m     \u001b[0;32mdef\u001b[0m \u001b[0m_batch_augment\u001b[0m\u001b[0;34m(\u001b[0m\u001b[0mself\u001b[0m\u001b[0;34m,\u001b[0m \u001b[0minputs\u001b[0m\u001b[0;34m)\u001b[0m\u001b[0;34m:\u001b[0m\u001b[0;34m\u001b[0m\u001b[0;34m\u001b[0m\u001b[0m\n\u001b[0;32m--> 543\u001b[0;31m         \u001b[0;32mreturn\u001b[0m \u001b[0mself\u001b[0m\u001b[0;34m.\u001b[0m\u001b[0m_map_fn\u001b[0m\u001b[0;34m(\u001b[0m\u001b[0mself\u001b[0m\u001b[0;34m.\u001b[0m\u001b[0m_augment\u001b[0m\u001b[0;34m,\u001b[0m \u001b[0minputs\u001b[0m\u001b[0;34m)\u001b[0m\u001b[0;34m\u001b[0m\u001b[0;34m\u001b[0m\u001b[0m\n\u001b[0m",
      "\u001b[0;32m/opt/conda/envs/myenv/lib/python3.11/site-packages/keras_cv/src/layers/preprocessing/base_image_augmentation_layer.py\u001b[0m in \u001b[0;36m?\u001b[0;34m(self, func, inputs)\u001b[0m\n\u001b[1;32m    282\u001b[0m                 \u001b[0mfn_output_signature\u001b[0m\u001b[0;34m=\u001b[0m\u001b[0mself\u001b[0m\u001b[0;34m.\u001b[0m\u001b[0m_compute_output_signature\u001b[0m\u001b[0;34m(\u001b[0m\u001b[0minputs\u001b[0m\u001b[0;34m)\u001b[0m\u001b[0;34m,\u001b[0m\u001b[0;34m\u001b[0m\u001b[0;34m\u001b[0m\u001b[0m\n\u001b[1;32m    283\u001b[0m             )\n\u001b[1;32m    284\u001b[0m         \u001b[0;32mif\u001b[0m \u001b[0mself\u001b[0m\u001b[0;34m.\u001b[0m\u001b[0mauto_vectorize\u001b[0m\u001b[0;34m:\u001b[0m\u001b[0;34m\u001b[0m\u001b[0;34m\u001b[0m\u001b[0m\n\u001b[1;32m    285\u001b[0m             \u001b[0;32mreturn\u001b[0m \u001b[0mtf\u001b[0m\u001b[0;34m.\u001b[0m\u001b[0mvectorized_map\u001b[0m\u001b[0;34m(\u001b[0m\u001b[0mfunc\u001b[0m\u001b[0;34m,\u001b[0m \u001b[0minputs\u001b[0m\u001b[0;34m)\u001b[0m\u001b[0;34m\u001b[0m\u001b[0;34m\u001b[0m\u001b[0m\n\u001b[0;32m--> 286\u001b[0;31m         \u001b[0;32mreturn\u001b[0m \u001b[0mtf\u001b[0m\u001b[0;34m.\u001b[0m\u001b[0mmap_fn\u001b[0m\u001b[0;34m(\u001b[0m\u001b[0mfunc\u001b[0m\u001b[0;34m,\u001b[0m \u001b[0minputs\u001b[0m\u001b[0;34m)\u001b[0m\u001b[0;34m\u001b[0m\u001b[0;34m\u001b[0m\u001b[0m\n\u001b[0m",
      "\u001b[0;32m/opt/conda/envs/myenv/lib/python3.11/site-packages/tensorflow/python/util/deprecation.py\u001b[0m in \u001b[0;36m?\u001b[0;34m(*args, **kwargs)\u001b[0m\n\u001b[1;32m    656\u001b[0m                   \u001b[0m_call_location\u001b[0m\u001b[0;34m(\u001b[0m\u001b[0;34m)\u001b[0m\u001b[0;34m,\u001b[0m \u001b[0mdecorator_utils\u001b[0m\u001b[0;34m.\u001b[0m\u001b[0mget_qualified_name\u001b[0m\u001b[0;34m(\u001b[0m\u001b[0mfunc\u001b[0m\u001b[0;34m)\u001b[0m\u001b[0;34m,\u001b[0m\u001b[0;34m\u001b[0m\u001b[0;34m\u001b[0m\u001b[0m\n\u001b[1;32m    657\u001b[0m                   \u001b[0mfunc\u001b[0m\u001b[0;34m.\u001b[0m\u001b[0m__module__\u001b[0m\u001b[0;34m,\u001b[0m \u001b[0marg_name\u001b[0m\u001b[0;34m,\u001b[0m \u001b[0marg_value\u001b[0m\u001b[0;34m,\u001b[0m\u001b[0;34m\u001b[0m\u001b[0;34m\u001b[0m\u001b[0m\n\u001b[1;32m    658\u001b[0m                   \u001b[0;34m'in a future version'\u001b[0m \u001b[0;32mif\u001b[0m \u001b[0mdate\u001b[0m \u001b[0;32mis\u001b[0m \u001b[0;32mNone\u001b[0m \u001b[0;32melse\u001b[0m\u001b[0;34m\u001b[0m\u001b[0;34m\u001b[0m\u001b[0m\n\u001b[1;32m    659\u001b[0m                   ('after %s' % date), instructions)\n\u001b[0;32m--> 660\u001b[0;31m       \u001b[0;32mreturn\u001b[0m \u001b[0mfunc\u001b[0m\u001b[0;34m(\u001b[0m\u001b[0;34m*\u001b[0m\u001b[0margs\u001b[0m\u001b[0;34m,\u001b[0m \u001b[0;34m**\u001b[0m\u001b[0mkwargs\u001b[0m\u001b[0;34m)\u001b[0m\u001b[0;34m\u001b[0m\u001b[0;34m\u001b[0m\u001b[0m\n\u001b[0m",
      "\u001b[0;32m/opt/conda/envs/myenv/lib/python3.11/site-packages/tensorflow/python/util/deprecation.py\u001b[0m in \u001b[0;36m?\u001b[0;34m(*args, **kwargs)\u001b[0m\n\u001b[1;32m    584\u001b[0m                 \u001b[0m_call_location\u001b[0m\u001b[0;34m(\u001b[0m\u001b[0;34m)\u001b[0m\u001b[0;34m,\u001b[0m \u001b[0mdecorator_utils\u001b[0m\u001b[0;34m.\u001b[0m\u001b[0mget_qualified_name\u001b[0m\u001b[0;34m(\u001b[0m\u001b[0mfunc\u001b[0m\u001b[0;34m)\u001b[0m\u001b[0;34m,\u001b[0m\u001b[0;34m\u001b[0m\u001b[0;34m\u001b[0m\u001b[0m\n\u001b[1;32m    585\u001b[0m                 \u001b[0mfunc\u001b[0m\u001b[0;34m.\u001b[0m\u001b[0m__module__\u001b[0m\u001b[0;34m,\u001b[0m \u001b[0marg_name\u001b[0m\u001b[0;34m,\u001b[0m\u001b[0;34m\u001b[0m\u001b[0;34m\u001b[0m\u001b[0m\n\u001b[1;32m    586\u001b[0m                 \u001b[0;34m'in a future version'\u001b[0m \u001b[0;32mif\u001b[0m \u001b[0mdate\u001b[0m \u001b[0;32mis\u001b[0m \u001b[0;32mNone\u001b[0m \u001b[0;32melse\u001b[0m \u001b[0;34m(\u001b[0m\u001b[0;34m'after %s'\u001b[0m \u001b[0;34m%\u001b[0m \u001b[0mdate\u001b[0m\u001b[0;34m)\u001b[0m\u001b[0;34m,\u001b[0m\u001b[0;34m\u001b[0m\u001b[0;34m\u001b[0m\u001b[0m\n\u001b[1;32m    587\u001b[0m                 instructions)\n\u001b[0;32m--> 588\u001b[0;31m       \u001b[0;32mreturn\u001b[0m \u001b[0mfunc\u001b[0m\u001b[0;34m(\u001b[0m\u001b[0;34m*\u001b[0m\u001b[0margs\u001b[0m\u001b[0;34m,\u001b[0m \u001b[0;34m**\u001b[0m\u001b[0mkwargs\u001b[0m\u001b[0;34m)\u001b[0m\u001b[0;34m\u001b[0m\u001b[0;34m\u001b[0m\u001b[0m\n\u001b[0m",
      "\u001b[0;32m/opt/conda/envs/myenv/lib/python3.11/site-packages/tensorflow/python/ops/map_fn.py\u001b[0m in \u001b[0;36m?\u001b[0;34m(fn, elems, dtype, parallel_iterations, back_prop, swap_memory, infer_shape, name, fn_output_signature)\u001b[0m\n\u001b[1;32m    633\u001b[0m               fn_output_signature=None):\n\u001b[1;32m    634\u001b[0m   \u001b[0;34m\"\"\"Transform `elems` by applying `fn` to each element unstacked on axis 0.\"\"\"\u001b[0m\u001b[0;34m\u001b[0m\u001b[0;34m\u001b[0m\u001b[0m\n\u001b[1;32m    635\u001b[0m   \u001b[0;32mif\u001b[0m \u001b[0mfn_output_signature\u001b[0m \u001b[0;32mis\u001b[0m \u001b[0;32mNone\u001b[0m\u001b[0;34m:\u001b[0m\u001b[0;34m\u001b[0m\u001b[0;34m\u001b[0m\u001b[0m\n\u001b[1;32m    636\u001b[0m     \u001b[0mfn_output_signature\u001b[0m \u001b[0;34m=\u001b[0m \u001b[0mdtype\u001b[0m\u001b[0;34m\u001b[0m\u001b[0;34m\u001b[0m\u001b[0m\n\u001b[0;32m--> 637\u001b[0;31m   return map_fn(\n\u001b[0m\u001b[1;32m    638\u001b[0m       \u001b[0mfn\u001b[0m\u001b[0;34m=\u001b[0m\u001b[0mfn\u001b[0m\u001b[0;34m,\u001b[0m\u001b[0;34m\u001b[0m\u001b[0;34m\u001b[0m\u001b[0m\n\u001b[1;32m    639\u001b[0m       \u001b[0melems\u001b[0m\u001b[0;34m=\u001b[0m\u001b[0melems\u001b[0m\u001b[0;34m,\u001b[0m\u001b[0;34m\u001b[0m\u001b[0;34m\u001b[0m\u001b[0m\n\u001b[1;32m    640\u001b[0m       \u001b[0mfn_output_signature\u001b[0m\u001b[0;34m=\u001b[0m\u001b[0mfn_output_signature\u001b[0m\u001b[0;34m,\u001b[0m\u001b[0;34m\u001b[0m\u001b[0;34m\u001b[0m\u001b[0m\n",
      "\u001b[0;32m/opt/conda/envs/myenv/lib/python3.11/site-packages/tensorflow/python/util/deprecation.py\u001b[0m in \u001b[0;36m?\u001b[0;34m(*args, **kwargs)\u001b[0m\n\u001b[1;32m    584\u001b[0m                 \u001b[0m_call_location\u001b[0m\u001b[0;34m(\u001b[0m\u001b[0;34m)\u001b[0m\u001b[0;34m,\u001b[0m \u001b[0mdecorator_utils\u001b[0m\u001b[0;34m.\u001b[0m\u001b[0mget_qualified_name\u001b[0m\u001b[0;34m(\u001b[0m\u001b[0mfunc\u001b[0m\u001b[0;34m)\u001b[0m\u001b[0;34m,\u001b[0m\u001b[0;34m\u001b[0m\u001b[0;34m\u001b[0m\u001b[0m\n\u001b[1;32m    585\u001b[0m                 \u001b[0mfunc\u001b[0m\u001b[0;34m.\u001b[0m\u001b[0m__module__\u001b[0m\u001b[0;34m,\u001b[0m \u001b[0marg_name\u001b[0m\u001b[0;34m,\u001b[0m\u001b[0;34m\u001b[0m\u001b[0;34m\u001b[0m\u001b[0m\n\u001b[1;32m    586\u001b[0m                 \u001b[0;34m'in a future version'\u001b[0m \u001b[0;32mif\u001b[0m \u001b[0mdate\u001b[0m \u001b[0;32mis\u001b[0m \u001b[0;32mNone\u001b[0m \u001b[0;32melse\u001b[0m \u001b[0;34m(\u001b[0m\u001b[0;34m'after %s'\u001b[0m \u001b[0;34m%\u001b[0m \u001b[0mdate\u001b[0m\u001b[0;34m)\u001b[0m\u001b[0;34m,\u001b[0m\u001b[0;34m\u001b[0m\u001b[0;34m\u001b[0m\u001b[0m\n\u001b[1;32m    587\u001b[0m                 instructions)\n\u001b[0;32m--> 588\u001b[0;31m       \u001b[0;32mreturn\u001b[0m \u001b[0mfunc\u001b[0m\u001b[0;34m(\u001b[0m\u001b[0;34m*\u001b[0m\u001b[0margs\u001b[0m\u001b[0;34m,\u001b[0m \u001b[0;34m**\u001b[0m\u001b[0mkwargs\u001b[0m\u001b[0;34m)\u001b[0m\u001b[0;34m\u001b[0m\u001b[0;34m\u001b[0m\u001b[0m\n\u001b[0m",
      "\u001b[0;32m/opt/conda/envs/myenv/lib/python3.11/site-packages/tensorflow/python/ops/map_fn.py\u001b[0m in \u001b[0;36m?\u001b[0;34m(fn, elems, dtype, parallel_iterations, back_prop, swap_memory, infer_shape, name, fn_output_signature)\u001b[0m\n\u001b[1;32m    493\u001b[0m           \u001b[0mta\u001b[0m\u001b[0;34m.\u001b[0m\u001b[0mwrite\u001b[0m\u001b[0;34m(\u001b[0m\u001b[0mi\u001b[0m\u001b[0;34m,\u001b[0m \u001b[0mvalue\u001b[0m\u001b[0;34m)\u001b[0m \u001b[0;32mfor\u001b[0m \u001b[0;34m(\u001b[0m\u001b[0mta\u001b[0m\u001b[0;34m,\u001b[0m \u001b[0mvalue\u001b[0m\u001b[0;34m)\u001b[0m \u001b[0;32min\u001b[0m \u001b[0mzip\u001b[0m\u001b[0;34m(\u001b[0m\u001b[0mtas\u001b[0m\u001b[0;34m,\u001b[0m \u001b[0mresult_value_batchable\u001b[0m\u001b[0;34m)\u001b[0m\u001b[0;34m\u001b[0m\u001b[0;34m\u001b[0m\u001b[0m\n\u001b[1;32m    494\u001b[0m       ]\n\u001b[1;32m    495\u001b[0m       \u001b[0;32mreturn\u001b[0m \u001b[0;34m(\u001b[0m\u001b[0mi\u001b[0m \u001b[0;34m+\u001b[0m \u001b[0;36m1\u001b[0m\u001b[0;34m,\u001b[0m \u001b[0mtas\u001b[0m\u001b[0;34m)\u001b[0m\u001b[0;34m\u001b[0m\u001b[0;34m\u001b[0m\u001b[0m\n\u001b[1;32m    496\u001b[0m \u001b[0;34m\u001b[0m\u001b[0m\n\u001b[0;32m--> 497\u001b[0;31m     _, r_a = while_loop.while_loop(\n\u001b[0m\u001b[1;32m    498\u001b[0m         \u001b[0;32mlambda\u001b[0m \u001b[0mi\u001b[0m\u001b[0;34m,\u001b[0m \u001b[0m_\u001b[0m\u001b[0;34m:\u001b[0m \u001b[0mi\u001b[0m \u001b[0;34m<\u001b[0m \u001b[0mn\u001b[0m\u001b[0;34m,\u001b[0m\u001b[0;34m\u001b[0m\u001b[0;34m\u001b[0m\u001b[0m\n\u001b[1;32m    499\u001b[0m         \u001b[0mcompute\u001b[0m\u001b[0;34m,\u001b[0m \u001b[0;34m(\u001b[0m\u001b[0mi\u001b[0m\u001b[0;34m,\u001b[0m \u001b[0mresult_batchable_ta\u001b[0m\u001b[0;34m)\u001b[0m\u001b[0;34m,\u001b[0m\u001b[0;34m\u001b[0m\u001b[0;34m\u001b[0m\u001b[0m\n\u001b[1;32m    500\u001b[0m         \u001b[0mparallel_iterations\u001b[0m\u001b[0;34m=\u001b[0m\u001b[0mparallel_iterations\u001b[0m\u001b[0;34m,\u001b[0m\u001b[0;34m\u001b[0m\u001b[0;34m\u001b[0m\u001b[0m\n",
      "\u001b[0;32m/opt/conda/envs/myenv/lib/python3.11/site-packages/tensorflow/python/ops/while_loop.py\u001b[0m in \u001b[0;36m?\u001b[0;34m(cond, body, loop_vars, shape_invariants, parallel_iterations, back_prop, swap_memory, name, maximum_iterations, return_same_structure)\u001b[0m\n\u001b[1;32m    484\u001b[0m \u001b[0;34m\u001b[0m\u001b[0m\n\u001b[1;32m    485\u001b[0m       loop_var_structure = nest.map_structure(type_spec.type_spec_from_value,\n\u001b[1;32m    486\u001b[0m                                               list(loop_vars))\n\u001b[1;32m    487\u001b[0m       \u001b[0;32mwhile\u001b[0m \u001b[0mcond\u001b[0m\u001b[0;34m(\u001b[0m\u001b[0;34m*\u001b[0m\u001b[0mloop_vars\u001b[0m\u001b[0;34m)\u001b[0m\u001b[0;34m:\u001b[0m\u001b[0;34m\u001b[0m\u001b[0;34m\u001b[0m\u001b[0m\n\u001b[0;32m--> 488\u001b[0;31m         \u001b[0mloop_vars\u001b[0m \u001b[0;34m=\u001b[0m \u001b[0mbody\u001b[0m\u001b[0;34m(\u001b[0m\u001b[0;34m*\u001b[0m\u001b[0mloop_vars\u001b[0m\u001b[0;34m)\u001b[0m\u001b[0;34m\u001b[0m\u001b[0;34m\u001b[0m\u001b[0m\n\u001b[0m\u001b[1;32m    489\u001b[0m         \u001b[0;32mif\u001b[0m \u001b[0mtry_to_pack\u001b[0m \u001b[0;32mand\u001b[0m \u001b[0;32mnot\u001b[0m \u001b[0misinstance\u001b[0m\u001b[0;34m(\u001b[0m\u001b[0mloop_vars\u001b[0m\u001b[0;34m,\u001b[0m \u001b[0;34m(\u001b[0m\u001b[0mlist\u001b[0m\u001b[0;34m,\u001b[0m \u001b[0mtuple\u001b[0m\u001b[0;34m)\u001b[0m\u001b[0;34m)\u001b[0m\u001b[0;34m:\u001b[0m\u001b[0;34m\u001b[0m\u001b[0;34m\u001b[0m\u001b[0m\n\u001b[1;32m    490\u001b[0m           \u001b[0mpacked\u001b[0m \u001b[0;34m=\u001b[0m \u001b[0;32mTrue\u001b[0m\u001b[0;34m\u001b[0m\u001b[0;34m\u001b[0m\u001b[0m\n\u001b[1;32m    491\u001b[0m           \u001b[0mloop_vars\u001b[0m \u001b[0;34m=\u001b[0m \u001b[0;34m(\u001b[0m\u001b[0mloop_vars\u001b[0m\u001b[0;34m,\u001b[0m\u001b[0;34m)\u001b[0m\u001b[0;34m\u001b[0m\u001b[0;34m\u001b[0m\u001b[0m\n",
      "\u001b[0;32m/opt/conda/envs/myenv/lib/python3.11/site-packages/tensorflow/python/ops/while_loop.py\u001b[0m in \u001b[0;36m?\u001b[0;34m(i, lv)\u001b[0m\n\u001b[0;32m--> 479\u001b[0;31m         \u001b[0mbody\u001b[0m \u001b[0;34m=\u001b[0m \u001b[0;32mlambda\u001b[0m \u001b[0mi\u001b[0m\u001b[0;34m,\u001b[0m \u001b[0mlv\u001b[0m\u001b[0;34m:\u001b[0m \u001b[0;34m(\u001b[0m\u001b[0mi\u001b[0m \u001b[0;34m+\u001b[0m \u001b[0;36m1\u001b[0m\u001b[0;34m,\u001b[0m \u001b[0morig_body\u001b[0m\u001b[0;34m(\u001b[0m\u001b[0;34m*\u001b[0m\u001b[0mlv\u001b[0m\u001b[0;34m)\u001b[0m\u001b[0;34m)\u001b[0m\u001b[0;34m\u001b[0m\u001b[0;34m\u001b[0m\u001b[0m\n\u001b[0m",
      "\u001b[0;32m/opt/conda/envs/myenv/lib/python3.11/site-packages/tensorflow/python/ops/map_fn.py\u001b[0m in \u001b[0;36m?\u001b[0;34m(i, tas)\u001b[0m\n\u001b[1;32m    483\u001b[0m                                                         elems_flat_signature)\n\u001b[1;32m    484\u001b[0m       \u001b[0melems_value\u001b[0m \u001b[0;34m=\u001b[0m \u001b[0melems_unflatten\u001b[0m\u001b[0;34m(\u001b[0m\u001b[0melems_value_flat\u001b[0m\u001b[0;34m)\u001b[0m\u001b[0;34m\u001b[0m\u001b[0;34m\u001b[0m\u001b[0m\n\u001b[1;32m    485\u001b[0m       \u001b[0mag_ctx\u001b[0m \u001b[0;34m=\u001b[0m \u001b[0mautograph_ctx\u001b[0m\u001b[0;34m.\u001b[0m\u001b[0mcontrol_status_ctx\u001b[0m\u001b[0;34m(\u001b[0m\u001b[0;34m)\u001b[0m\u001b[0;34m\u001b[0m\u001b[0;34m\u001b[0m\u001b[0m\n\u001b[1;32m    486\u001b[0m       \u001b[0mautographed_fn\u001b[0m \u001b[0;34m=\u001b[0m \u001b[0mautograph\u001b[0m\u001b[0;34m.\u001b[0m\u001b[0mtf_convert\u001b[0m\u001b[0;34m(\u001b[0m\u001b[0mfn\u001b[0m\u001b[0;34m,\u001b[0m \u001b[0mag_ctx\u001b[0m\u001b[0;34m)\u001b[0m\u001b[0;34m\u001b[0m\u001b[0;34m\u001b[0m\u001b[0m\n\u001b[0;32m--> 487\u001b[0;31m       \u001b[0mresult_value\u001b[0m \u001b[0;34m=\u001b[0m \u001b[0mautographed_fn\u001b[0m\u001b[0;34m(\u001b[0m\u001b[0melems_value\u001b[0m\u001b[0;34m)\u001b[0m\u001b[0;34m\u001b[0m\u001b[0;34m\u001b[0m\u001b[0m\n\u001b[0m\u001b[1;32m    488\u001b[0m       \u001b[0mnest\u001b[0m\u001b[0;34m.\u001b[0m\u001b[0massert_same_structure\u001b[0m\u001b[0;34m(\u001b[0m\u001b[0mfn_output_signature\u001b[0m \u001b[0;32mor\u001b[0m \u001b[0melems\u001b[0m\u001b[0;34m,\u001b[0m \u001b[0mresult_value\u001b[0m\u001b[0;34m)\u001b[0m\u001b[0;34m\u001b[0m\u001b[0;34m\u001b[0m\u001b[0m\n\u001b[1;32m    489\u001b[0m       \u001b[0mresult_value_flat\u001b[0m \u001b[0;34m=\u001b[0m \u001b[0mnest\u001b[0m\u001b[0;34m.\u001b[0m\u001b[0mflatten\u001b[0m\u001b[0;34m(\u001b[0m\u001b[0mresult_value\u001b[0m\u001b[0;34m)\u001b[0m\u001b[0;34m\u001b[0m\u001b[0;34m\u001b[0m\u001b[0m\n\u001b[1;32m    490\u001b[0m       result_value_batchable = _result_value_flat_to_batchable(\n",
      "\u001b[0;32m/opt/conda/envs/myenv/lib/python3.11/site-packages/tensorflow/python/autograph/impl/api.py\u001b[0m in \u001b[0;36m?\u001b[0;34m(*args, **kwargs)\u001b[0m\n\u001b[1;32m    641\u001b[0m   \u001b[0;32mdef\u001b[0m \u001b[0mwrapper\u001b[0m\u001b[0;34m(\u001b[0m\u001b[0;34m*\u001b[0m\u001b[0margs\u001b[0m\u001b[0;34m,\u001b[0m \u001b[0;34m**\u001b[0m\u001b[0mkwargs\u001b[0m\u001b[0;34m)\u001b[0m\u001b[0;34m:\u001b[0m\u001b[0;34m\u001b[0m\u001b[0;34m\u001b[0m\u001b[0m\n\u001b[1;32m    642\u001b[0m     \u001b[0;32mwith\u001b[0m \u001b[0mag_ctx\u001b[0m\u001b[0;34m.\u001b[0m\u001b[0mControlStatusCtx\u001b[0m\u001b[0;34m(\u001b[0m\u001b[0mstatus\u001b[0m\u001b[0;34m=\u001b[0m\u001b[0mag_ctx\u001b[0m\u001b[0;34m.\u001b[0m\u001b[0mStatus\u001b[0m\u001b[0;34m.\u001b[0m\u001b[0mDISABLED\u001b[0m\u001b[0;34m)\u001b[0m\u001b[0;34m:\u001b[0m\u001b[0;34m\u001b[0m\u001b[0;34m\u001b[0m\u001b[0m\n\u001b[0;32m--> 643\u001b[0;31m       \u001b[0;32mreturn\u001b[0m \u001b[0mfunc\u001b[0m\u001b[0;34m(\u001b[0m\u001b[0;34m*\u001b[0m\u001b[0margs\u001b[0m\u001b[0;34m,\u001b[0m \u001b[0;34m**\u001b[0m\u001b[0mkwargs\u001b[0m\u001b[0;34m)\u001b[0m\u001b[0;34m\u001b[0m\u001b[0;34m\u001b[0m\u001b[0m\n\u001b[0m",
      "\u001b[0;32m/opt/conda/envs/myenv/lib/python3.11/site-packages/keras_cv/src/layers/preprocessing/rand_augment.py\u001b[0m in \u001b[0;36m?\u001b[0;34m(self, sample)\u001b[0m\n\u001b[1;32m    123\u001b[0m     \u001b[0;32mdef\u001b[0m \u001b[0m_augment\u001b[0m\u001b[0;34m(\u001b[0m\u001b[0mself\u001b[0m\u001b[0;34m,\u001b[0m \u001b[0msample\u001b[0m\u001b[0;34m)\u001b[0m\u001b[0;34m:\u001b[0m\u001b[0;34m\u001b[0m\u001b[0;34m\u001b[0m\u001b[0m\n\u001b[1;32m    124\u001b[0m         sample[\"images\"] = preprocessing_utils.transform_value_range(\n\u001b[1;32m    125\u001b[0m             \u001b[0msample\u001b[0m\u001b[0;34m[\u001b[0m\u001b[0;34m\"images\"\u001b[0m\u001b[0;34m]\u001b[0m\u001b[0;34m,\u001b[0m \u001b[0mself\u001b[0m\u001b[0;34m.\u001b[0m\u001b[0mvalue_range\u001b[0m\u001b[0;34m,\u001b[0m \u001b[0;34m(\u001b[0m\u001b[0;36m0\u001b[0m\u001b[0;34m,\u001b[0m \u001b[0;36m255\u001b[0m\u001b[0;34m)\u001b[0m\u001b[0;34m\u001b[0m\u001b[0;34m\u001b[0m\u001b[0m\n\u001b[1;32m    126\u001b[0m         )\n\u001b[0;32m--> 127\u001b[0;31m         \u001b[0mresult\u001b[0m \u001b[0;34m=\u001b[0m \u001b[0msuper\u001b[0m\u001b[0;34m(\u001b[0m\u001b[0;34m)\u001b[0m\u001b[0;34m.\u001b[0m\u001b[0m_augment\u001b[0m\u001b[0;34m(\u001b[0m\u001b[0msample\u001b[0m\u001b[0;34m)\u001b[0m\u001b[0;34m\u001b[0m\u001b[0;34m\u001b[0m\u001b[0m\n\u001b[0m\u001b[1;32m    128\u001b[0m         result[\"images\"] = preprocessing_utils.transform_value_range(\n\u001b[1;32m    129\u001b[0m             \u001b[0mresult\u001b[0m\u001b[0;34m[\u001b[0m\u001b[0;34m\"images\"\u001b[0m\u001b[0;34m]\u001b[0m\u001b[0;34m,\u001b[0m \u001b[0;34m(\u001b[0m\u001b[0;36m0\u001b[0m\u001b[0;34m,\u001b[0m \u001b[0;36m255\u001b[0m\u001b[0;34m)\u001b[0m\u001b[0;34m,\u001b[0m \u001b[0mself\u001b[0m\u001b[0;34m.\u001b[0m\u001b[0mvalue_range\u001b[0m\u001b[0;34m\u001b[0m\u001b[0;34m\u001b[0m\u001b[0m\n\u001b[1;32m    130\u001b[0m         )\n",
      "\u001b[0;32m/opt/conda/envs/myenv/lib/python3.11/site-packages/keras_cv/src/layers/preprocessing/random_augmentation_pipeline.py\u001b[0m in \u001b[0;36m?\u001b[0;34m(self, inputs)\u001b[0m\n\u001b[1;32m     97\u001b[0m             \u001b[0;32mreturn\u001b[0m \u001b[0minputs\u001b[0m\u001b[0;34m\u001b[0m\u001b[0;34m\u001b[0m\u001b[0m\n\u001b[1;32m     98\u001b[0m \u001b[0;34m\u001b[0m\u001b[0m\n\u001b[1;32m     99\u001b[0m         \u001b[0mresult\u001b[0m \u001b[0;34m=\u001b[0m \u001b[0minputs\u001b[0m\u001b[0;34m\u001b[0m\u001b[0;34m\u001b[0m\u001b[0m\n\u001b[1;32m    100\u001b[0m         \u001b[0;32mfor\u001b[0m \u001b[0m_\u001b[0m \u001b[0;32min\u001b[0m \u001b[0mrange\u001b[0m\u001b[0;34m(\u001b[0m\u001b[0mself\u001b[0m\u001b[0;34m.\u001b[0m\u001b[0maugmentations_per_image\u001b[0m\u001b[0;34m)\u001b[0m\u001b[0;34m:\u001b[0m\u001b[0;34m\u001b[0m\u001b[0;34m\u001b[0m\u001b[0m\n\u001b[0;32m--> 101\u001b[0;31m             skip_augment = self._random_generator.uniform(\n\u001b[0m\u001b[1;32m    102\u001b[0m                 \u001b[0mshape\u001b[0m\u001b[0;34m=\u001b[0m\u001b[0;34m(\u001b[0m\u001b[0;34m)\u001b[0m\u001b[0;34m,\u001b[0m \u001b[0mminval\u001b[0m\u001b[0;34m=\u001b[0m\u001b[0;36m0.0\u001b[0m\u001b[0;34m,\u001b[0m \u001b[0mmaxval\u001b[0m\u001b[0;34m=\u001b[0m\u001b[0;36m1.0\u001b[0m\u001b[0;34m,\u001b[0m \u001b[0mdtype\u001b[0m\u001b[0;34m=\u001b[0m\u001b[0mtf\u001b[0m\u001b[0;34m.\u001b[0m\u001b[0mfloat32\u001b[0m\u001b[0;34m\u001b[0m\u001b[0;34m\u001b[0m\u001b[0m\n\u001b[1;32m    103\u001b[0m             )\n\u001b[1;32m    104\u001b[0m             result = tf.cond(\n",
      "\u001b[0;32m/opt/conda/envs/myenv/lib/python3.11/site-packages/tensorflow/python/ops/stateful_random_ops.py\u001b[0m in \u001b[0;36m?\u001b[0;34m(self, shape, minval, maxval, dtype, name)\u001b[0m\n\u001b[1;32m    794\u001b[0m             \u001b[0mmaxval\u001b[0m\u001b[0;34m=\u001b[0m\u001b[0mmaxval\u001b[0m\u001b[0;34m,\u001b[0m\u001b[0;34m\u001b[0m\u001b[0;34m\u001b[0m\u001b[0m\n\u001b[1;32m    795\u001b[0m             \u001b[0malg\u001b[0m\u001b[0;34m=\u001b[0m\u001b[0mself\u001b[0m\u001b[0;34m.\u001b[0m\u001b[0malgorithm\u001b[0m\u001b[0;34m,\u001b[0m\u001b[0;34m\u001b[0m\u001b[0;34m\u001b[0m\u001b[0m\n\u001b[1;32m    796\u001b[0m             name=name)\n\u001b[1;32m    797\u001b[0m       \u001b[0;32melse\u001b[0m\u001b[0;34m:\u001b[0m\u001b[0;34m\u001b[0m\u001b[0;34m\u001b[0m\u001b[0m\n\u001b[0;32m--> 798\u001b[0;31m         \u001b[0mrnd\u001b[0m \u001b[0;34m=\u001b[0m \u001b[0mself\u001b[0m\u001b[0;34m.\u001b[0m\u001b[0m_uniform\u001b[0m\u001b[0;34m(\u001b[0m\u001b[0mshape\u001b[0m\u001b[0;34m=\u001b[0m\u001b[0mshape\u001b[0m\u001b[0;34m,\u001b[0m \u001b[0mdtype\u001b[0m\u001b[0;34m=\u001b[0m\u001b[0mdtype\u001b[0m\u001b[0;34m)\u001b[0m\u001b[0;34m\u001b[0m\u001b[0;34m\u001b[0m\u001b[0m\n\u001b[0m\u001b[1;32m    799\u001b[0m         \u001b[0;32mreturn\u001b[0m \u001b[0mmath_ops\u001b[0m\u001b[0;34m.\u001b[0m\u001b[0madd\u001b[0m\u001b[0;34m(\u001b[0m\u001b[0mrnd\u001b[0m \u001b[0;34m*\u001b[0m \u001b[0;34m(\u001b[0m\u001b[0mmaxval\u001b[0m \u001b[0;34m-\u001b[0m \u001b[0mminval\u001b[0m\u001b[0;34m)\u001b[0m\u001b[0;34m,\u001b[0m \u001b[0mminval\u001b[0m\u001b[0;34m,\u001b[0m \u001b[0mname\u001b[0m\u001b[0;34m=\u001b[0m\u001b[0mname\u001b[0m\u001b[0;34m)\u001b[0m\u001b[0;34m\u001b[0m\u001b[0;34m\u001b[0m\u001b[0m\n",
      "\u001b[0;32m/opt/conda/envs/myenv/lib/python3.11/site-packages/tensorflow/python/ops/stateful_random_ops.py\u001b[0m in \u001b[0;36m?\u001b[0;34m(self, shape, dtype)\u001b[0m\n\u001b[1;32m    714\u001b[0m   \u001b[0;32mdef\u001b[0m \u001b[0m_uniform\u001b[0m\u001b[0;34m(\u001b[0m\u001b[0mself\u001b[0m\u001b[0;34m,\u001b[0m \u001b[0mshape\u001b[0m\u001b[0;34m,\u001b[0m \u001b[0mdtype\u001b[0m\u001b[0;34m)\u001b[0m\u001b[0;34m:\u001b[0m\u001b[0;34m\u001b[0m\u001b[0;34m\u001b[0m\u001b[0m\n\u001b[0;32m--> 715\u001b[0;31m     \u001b[0mkey\u001b[0m\u001b[0;34m,\u001b[0m \u001b[0mcounter\u001b[0m \u001b[0;34m=\u001b[0m \u001b[0mself\u001b[0m\u001b[0;34m.\u001b[0m\u001b[0m_prepare_key_counter\u001b[0m\u001b[0;34m(\u001b[0m\u001b[0mshape\u001b[0m\u001b[0;34m)\u001b[0m\u001b[0;34m\u001b[0m\u001b[0;34m\u001b[0m\u001b[0m\n\u001b[0m\u001b[1;32m    716\u001b[0m     return gen_stateless_random_ops_v2.stateless_random_uniform_v2(\n\u001b[1;32m    717\u001b[0m         shape=shape, key=key, counter=counter, dtype=dtype, alg=self.algorithm)\n",
      "\u001b[0;32m/opt/conda/envs/myenv/lib/python3.11/site-packages/tensorflow/python/ops/stateful_random_ops.py\u001b[0m in \u001b[0;36m?\u001b[0;34m(self, shape)\u001b[0m\n\u001b[1;32m    640\u001b[0m     \u001b[0mdelta\u001b[0m \u001b[0;34m=\u001b[0m \u001b[0mmath_ops\u001b[0m\u001b[0;34m.\u001b[0m\u001b[0mreduce_prod\u001b[0m\u001b[0;34m(\u001b[0m\u001b[0mshape\u001b[0m\u001b[0;34m)\u001b[0m\u001b[0;34m\u001b[0m\u001b[0;34m\u001b[0m\u001b[0m\n\u001b[1;32m    641\u001b[0m     \u001b[0mcounter_key\u001b[0m \u001b[0;34m=\u001b[0m \u001b[0mself\u001b[0m\u001b[0;34m.\u001b[0m\u001b[0mskip\u001b[0m\u001b[0;34m(\u001b[0m\u001b[0mdelta\u001b[0m\u001b[0;34m)\u001b[0m\u001b[0;34m\u001b[0m\u001b[0;34m\u001b[0m\u001b[0m\n\u001b[1;32m    642\u001b[0m     \u001b[0mcounter_size\u001b[0m \u001b[0;34m=\u001b[0m \u001b[0m_get_counter_size\u001b[0m\u001b[0;34m(\u001b[0m\u001b[0mself\u001b[0m\u001b[0;34m.\u001b[0m\u001b[0malgorithm\u001b[0m\u001b[0;34m)\u001b[0m\u001b[0;34m\u001b[0m\u001b[0;34m\u001b[0m\u001b[0m\n\u001b[1;32m    643\u001b[0m     \u001b[0mcounter\u001b[0m \u001b[0;34m=\u001b[0m \u001b[0marray_ops\u001b[0m\u001b[0;34m.\u001b[0m\u001b[0mbitcast\u001b[0m\u001b[0;34m(\u001b[0m\u001b[0mcounter_key\u001b[0m\u001b[0;34m[\u001b[0m\u001b[0;34m:\u001b[0m\u001b[0mcounter_size\u001b[0m\u001b[0;34m]\u001b[0m\u001b[0;34m,\u001b[0m \u001b[0mdtypes\u001b[0m\u001b[0;34m.\u001b[0m\u001b[0muint64\u001b[0m\u001b[0;34m)\u001b[0m\u001b[0;34m\u001b[0m\u001b[0;34m\u001b[0m\u001b[0m\n\u001b[0;32m--> 644\u001b[0;31m     key = array_ops.bitcast(counter_key[counter_size:counter_size + 1],\n\u001b[0m\u001b[1;32m    645\u001b[0m                             dtypes.uint64)\n\u001b[1;32m    646\u001b[0m     \u001b[0mkey\u001b[0m \u001b[0;34m=\u001b[0m \u001b[0mself\u001b[0m\u001b[0;34m.\u001b[0m\u001b[0m_preprocess_key\u001b[0m\u001b[0;34m(\u001b[0m\u001b[0mkey\u001b[0m\u001b[0;34m)\u001b[0m\u001b[0;34m\u001b[0m\u001b[0;34m\u001b[0m\u001b[0m\n\u001b[1;32m    647\u001b[0m     \u001b[0;32mreturn\u001b[0m \u001b[0mkey\u001b[0m\u001b[0;34m,\u001b[0m \u001b[0mcounter\u001b[0m\u001b[0;34m\u001b[0m\u001b[0;34m\u001b[0m\u001b[0m\n",
      "\u001b[0;32m/opt/conda/envs/myenv/lib/python3.11/site-packages/tensorflow/python/util/traceback_utils.py\u001b[0m in \u001b[0;36m?\u001b[0;34m(*args, **kwargs)\u001b[0m\n\u001b[1;32m    151\u001b[0m     \u001b[0;32mexcept\u001b[0m \u001b[0mException\u001b[0m \u001b[0;32mas\u001b[0m \u001b[0me\u001b[0m\u001b[0;34m:\u001b[0m\u001b[0;34m\u001b[0m\u001b[0;34m\u001b[0m\u001b[0m\n\u001b[1;32m    152\u001b[0m       \u001b[0mfiltered_tb\u001b[0m \u001b[0;34m=\u001b[0m \u001b[0m_process_traceback_frames\u001b[0m\u001b[0;34m(\u001b[0m\u001b[0me\u001b[0m\u001b[0;34m.\u001b[0m\u001b[0m__traceback__\u001b[0m\u001b[0;34m)\u001b[0m\u001b[0;34m\u001b[0m\u001b[0;34m\u001b[0m\u001b[0m\n\u001b[1;32m    153\u001b[0m       \u001b[0;32mraise\u001b[0m \u001b[0me\u001b[0m\u001b[0;34m.\u001b[0m\u001b[0mwith_traceback\u001b[0m\u001b[0;34m(\u001b[0m\u001b[0mfiltered_tb\u001b[0m\u001b[0;34m)\u001b[0m \u001b[0;32mfrom\u001b[0m \u001b[0;32mNone\u001b[0m\u001b[0;34m\u001b[0m\u001b[0;34m\u001b[0m\u001b[0m\n\u001b[1;32m    154\u001b[0m     \u001b[0;32mfinally\u001b[0m\u001b[0;34m:\u001b[0m\u001b[0;34m\u001b[0m\u001b[0;34m\u001b[0m\u001b[0m\n\u001b[0;32m--> 155\u001b[0;31m       \u001b[0;32mdel\u001b[0m \u001b[0mfiltered_tb\u001b[0m\u001b[0;34m\u001b[0m\u001b[0;34m\u001b[0m\u001b[0m\n\u001b[0m",
      "\u001b[0;32m/opt/conda/envs/myenv/lib/python3.11/site-packages/tensorflow/python/util/dispatch.py\u001b[0m in \u001b[0;36m?\u001b[0;34m(*args, **kwargs)\u001b[0m\n\u001b[1;32m   1257\u001b[0m \u001b[0;34m\u001b[0m\u001b[0m\n\u001b[1;32m   1258\u001b[0m       \u001b[0;31m# Fallback dispatch system (dispatch v1):\u001b[0m\u001b[0;34m\u001b[0m\u001b[0;34m\u001b[0m\u001b[0m\n\u001b[1;32m   1259\u001b[0m       \u001b[0;32mtry\u001b[0m\u001b[0;34m:\u001b[0m\u001b[0;34m\u001b[0m\u001b[0;34m\u001b[0m\u001b[0m\n\u001b[1;32m   1260\u001b[0m         \u001b[0;32mreturn\u001b[0m \u001b[0mdispatch_target\u001b[0m\u001b[0;34m(\u001b[0m\u001b[0;34m*\u001b[0m\u001b[0margs\u001b[0m\u001b[0;34m,\u001b[0m \u001b[0;34m**\u001b[0m\u001b[0mkwargs\u001b[0m\u001b[0;34m)\u001b[0m\u001b[0;34m\u001b[0m\u001b[0;34m\u001b[0m\u001b[0m\n\u001b[0;32m-> 1261\u001b[0;31m       \u001b[0;32mexcept\u001b[0m \u001b[0;34m(\u001b[0m\u001b[0mTypeError\u001b[0m\u001b[0;34m,\u001b[0m \u001b[0mValueError\u001b[0m\u001b[0;34m)\u001b[0m\u001b[0;34m:\u001b[0m\u001b[0;34m\u001b[0m\u001b[0;34m\u001b[0m\u001b[0m\n\u001b[0m\u001b[1;32m   1262\u001b[0m         \u001b[0;31m# Note: convert_to_eager_tensor currently raises a ValueError, not a\u001b[0m\u001b[0;34m\u001b[0m\u001b[0;34m\u001b[0m\u001b[0m\n\u001b[1;32m   1263\u001b[0m         \u001b[0;31m# TypeError, when given unexpected types.  So we need to catch both.\u001b[0m\u001b[0;34m\u001b[0m\u001b[0;34m\u001b[0m\u001b[0m\n\u001b[1;32m   1264\u001b[0m         \u001b[0mresult\u001b[0m \u001b[0;34m=\u001b[0m \u001b[0mdispatch\u001b[0m\u001b[0;34m(\u001b[0m\u001b[0mop_dispatch_handler\u001b[0m\u001b[0;34m,\u001b[0m \u001b[0margs\u001b[0m\u001b[0;34m,\u001b[0m \u001b[0mkwargs\u001b[0m\u001b[0;34m)\u001b[0m\u001b[0;34m\u001b[0m\u001b[0;34m\u001b[0m\u001b[0m\n",
      "\u001b[0;32m/opt/conda/envs/myenv/lib/python3.11/site-packages/tensorflow/python/ops/tensor_getitem_override.py\u001b[0m in \u001b[0;36m?\u001b[0;34m(tensor, slice_spec, var)\u001b[0m\n\u001b[1;32m    252\u001b[0m           \u001b[0mpacked_strides\u001b[0m \u001b[0;34m=\u001b[0m \u001b[0mgen_math_ops\u001b[0m\u001b[0;34m.\u001b[0m\u001b[0mcast\u001b[0m\u001b[0;34m(\u001b[0m\u001b[0mpacked_strides\u001b[0m\u001b[0;34m,\u001b[0m \u001b[0mdtypes\u001b[0m\u001b[0;34m.\u001b[0m\u001b[0mint16\u001b[0m\u001b[0;34m)\u001b[0m\u001b[0;34m\u001b[0m\u001b[0;34m\u001b[0m\u001b[0m\n\u001b[1;32m    253\u001b[0m     \u001b[0;32melse\u001b[0m\u001b[0;34m:\u001b[0m\u001b[0;34m\u001b[0m\u001b[0;34m\u001b[0m\u001b[0m\n\u001b[1;32m    254\u001b[0m       \u001b[0mvar_empty\u001b[0m \u001b[0;34m=\u001b[0m \u001b[0mconstant_op\u001b[0m\u001b[0;34m.\u001b[0m\u001b[0mconstant\u001b[0m\u001b[0;34m(\u001b[0m\u001b[0;34m[\u001b[0m\u001b[0;34m]\u001b[0m\u001b[0;34m,\u001b[0m \u001b[0mdtype\u001b[0m\u001b[0;34m=\u001b[0m\u001b[0mdtypes\u001b[0m\u001b[0;34m.\u001b[0m\u001b[0mint32\u001b[0m\u001b[0;34m)\u001b[0m\u001b[0;34m\u001b[0m\u001b[0;34m\u001b[0m\u001b[0m\n\u001b[1;32m    255\u001b[0m       \u001b[0mpacked_begin\u001b[0m \u001b[0;34m=\u001b[0m \u001b[0mpacked_end\u001b[0m \u001b[0;34m=\u001b[0m \u001b[0mpacked_strides\u001b[0m \u001b[0;34m=\u001b[0m \u001b[0mvar_empty\u001b[0m\u001b[0;34m\u001b[0m\u001b[0;34m\u001b[0m\u001b[0m\n\u001b[0;32m--> 256\u001b[0;31m     return array_ops.strided_slice(\n\u001b[0m\u001b[1;32m    257\u001b[0m         \u001b[0mtensor\u001b[0m\u001b[0;34m,\u001b[0m\u001b[0;34m\u001b[0m\u001b[0;34m\u001b[0m\u001b[0m\n\u001b[1;32m    258\u001b[0m         \u001b[0mpacked_begin\u001b[0m\u001b[0;34m,\u001b[0m\u001b[0;34m\u001b[0m\u001b[0;34m\u001b[0m\u001b[0m\n\u001b[1;32m    259\u001b[0m         \u001b[0mpacked_end\u001b[0m\u001b[0;34m,\u001b[0m\u001b[0;34m\u001b[0m\u001b[0;34m\u001b[0m\u001b[0m\n",
      "\u001b[0;32m/opt/conda/envs/myenv/lib/python3.11/site-packages/tensorflow/python/util/traceback_utils.py\u001b[0m in \u001b[0;36m?\u001b[0;34m(*args, **kwargs)\u001b[0m\n\u001b[1;32m    151\u001b[0m     \u001b[0;32mexcept\u001b[0m \u001b[0mException\u001b[0m \u001b[0;32mas\u001b[0m \u001b[0me\u001b[0m\u001b[0;34m:\u001b[0m\u001b[0;34m\u001b[0m\u001b[0;34m\u001b[0m\u001b[0m\n\u001b[1;32m    152\u001b[0m       \u001b[0mfiltered_tb\u001b[0m \u001b[0;34m=\u001b[0m \u001b[0m_process_traceback_frames\u001b[0m\u001b[0;34m(\u001b[0m\u001b[0me\u001b[0m\u001b[0;34m.\u001b[0m\u001b[0m__traceback__\u001b[0m\u001b[0;34m)\u001b[0m\u001b[0;34m\u001b[0m\u001b[0;34m\u001b[0m\u001b[0m\n\u001b[1;32m    153\u001b[0m       \u001b[0;32mraise\u001b[0m \u001b[0me\u001b[0m\u001b[0;34m.\u001b[0m\u001b[0mwith_traceback\u001b[0m\u001b[0;34m(\u001b[0m\u001b[0mfiltered_tb\u001b[0m\u001b[0;34m)\u001b[0m \u001b[0;32mfrom\u001b[0m \u001b[0;32mNone\u001b[0m\u001b[0;34m\u001b[0m\u001b[0;34m\u001b[0m\u001b[0m\n\u001b[1;32m    154\u001b[0m     \u001b[0;32mfinally\u001b[0m\u001b[0;34m:\u001b[0m\u001b[0;34m\u001b[0m\u001b[0;34m\u001b[0m\u001b[0m\n\u001b[0;32m--> 155\u001b[0;31m       \u001b[0;32mdel\u001b[0m \u001b[0mfiltered_tb\u001b[0m\u001b[0;34m\u001b[0m\u001b[0;34m\u001b[0m\u001b[0m\n\u001b[0m",
      "\u001b[0;32m/opt/conda/envs/myenv/lib/python3.11/site-packages/tensorflow/python/util/dispatch.py\u001b[0m in \u001b[0;36m?\u001b[0;34m(*args, **kwargs)\u001b[0m\n\u001b[1;32m   1257\u001b[0m \u001b[0;34m\u001b[0m\u001b[0m\n\u001b[1;32m   1258\u001b[0m       \u001b[0;31m# Fallback dispatch system (dispatch v1):\u001b[0m\u001b[0;34m\u001b[0m\u001b[0;34m\u001b[0m\u001b[0m\n\u001b[1;32m   1259\u001b[0m       \u001b[0;32mtry\u001b[0m\u001b[0;34m:\u001b[0m\u001b[0;34m\u001b[0m\u001b[0;34m\u001b[0m\u001b[0m\n\u001b[1;32m   1260\u001b[0m         \u001b[0;32mreturn\u001b[0m \u001b[0mdispatch_target\u001b[0m\u001b[0;34m(\u001b[0m\u001b[0;34m*\u001b[0m\u001b[0margs\u001b[0m\u001b[0;34m,\u001b[0m \u001b[0;34m**\u001b[0m\u001b[0mkwargs\u001b[0m\u001b[0;34m)\u001b[0m\u001b[0;34m\u001b[0m\u001b[0;34m\u001b[0m\u001b[0m\n\u001b[0;32m-> 1261\u001b[0;31m       \u001b[0;32mexcept\u001b[0m \u001b[0;34m(\u001b[0m\u001b[0mTypeError\u001b[0m\u001b[0;34m,\u001b[0m \u001b[0mValueError\u001b[0m\u001b[0;34m)\u001b[0m\u001b[0;34m:\u001b[0m\u001b[0;34m\u001b[0m\u001b[0;34m\u001b[0m\u001b[0m\n\u001b[0m\u001b[1;32m   1262\u001b[0m         \u001b[0;31m# Note: convert_to_eager_tensor currently raises a ValueError, not a\u001b[0m\u001b[0;34m\u001b[0m\u001b[0;34m\u001b[0m\u001b[0m\n\u001b[1;32m   1263\u001b[0m         \u001b[0;31m# TypeError, when given unexpected types.  So we need to catch both.\u001b[0m\u001b[0;34m\u001b[0m\u001b[0;34m\u001b[0m\u001b[0m\n\u001b[1;32m   1264\u001b[0m         \u001b[0mresult\u001b[0m \u001b[0;34m=\u001b[0m \u001b[0mdispatch\u001b[0m\u001b[0;34m(\u001b[0m\u001b[0mop_dispatch_handler\u001b[0m\u001b[0;34m,\u001b[0m \u001b[0margs\u001b[0m\u001b[0;34m,\u001b[0m \u001b[0mkwargs\u001b[0m\u001b[0;34m)\u001b[0m\u001b[0;34m\u001b[0m\u001b[0;34m\u001b[0m\u001b[0m\n",
      "\u001b[0;32m/opt/conda/envs/myenv/lib/python3.11/site-packages/tensorflow/python/ops/array_ops.py\u001b[0m in \u001b[0;36m?\u001b[0;34m(input_, begin, end, strides, begin_mask, end_mask, ellipsis_mask, new_axis_mask, shrink_axis_mask, var, name)\u001b[0m\n\u001b[1;32m   1093\u001b[0m \u001b[0;34m\u001b[0m\u001b[0m\n\u001b[1;32m   1094\u001b[0m   \u001b[0;32mif\u001b[0m \u001b[0mstrides\u001b[0m \u001b[0;32mis\u001b[0m \u001b[0;32mNone\u001b[0m\u001b[0;34m:\u001b[0m\u001b[0;34m\u001b[0m\u001b[0;34m\u001b[0m\u001b[0m\n\u001b[1;32m   1095\u001b[0m     \u001b[0mstrides\u001b[0m \u001b[0;34m=\u001b[0m \u001b[0mones_like\u001b[0m\u001b[0;34m(\u001b[0m\u001b[0mbegin\u001b[0m\u001b[0;34m)\u001b[0m\u001b[0;34m\u001b[0m\u001b[0;34m\u001b[0m\u001b[0m\n\u001b[1;32m   1096\u001b[0m \u001b[0;34m\u001b[0m\u001b[0m\n\u001b[0;32m-> 1097\u001b[0;31m   op = gen_array_ops.strided_slice(\n\u001b[0m\u001b[1;32m   1098\u001b[0m       \u001b[0minput\u001b[0m\u001b[0;34m=\u001b[0m\u001b[0minput_\u001b[0m\u001b[0;34m,\u001b[0m\u001b[0;34m\u001b[0m\u001b[0;34m\u001b[0m\u001b[0m\n\u001b[1;32m   1099\u001b[0m       \u001b[0mbegin\u001b[0m\u001b[0;34m=\u001b[0m\u001b[0mbegin\u001b[0m\u001b[0;34m,\u001b[0m\u001b[0;34m\u001b[0m\u001b[0;34m\u001b[0m\u001b[0m\n\u001b[1;32m   1100\u001b[0m       \u001b[0mend\u001b[0m\u001b[0;34m=\u001b[0m\u001b[0mend\u001b[0m\u001b[0;34m,\u001b[0m\u001b[0;34m\u001b[0m\u001b[0;34m\u001b[0m\u001b[0m\n",
      "\u001b[0;32m/opt/conda/envs/myenv/lib/python3.11/site-packages/tensorflow/python/ops/gen_array_ops.py\u001b[0m in \u001b[0;36m?\u001b[0;34m(input, begin, end, strides, begin_mask, end_mask, ellipsis_mask, new_axis_mask, shrink_axis_mask, name)\u001b[0m\n\u001b[1;32m  11010\u001b[0m         \"new_axis_mask\", new_axis_mask, \"shrink_axis_mask\", shrink_axis_mask)\n\u001b[1;32m  11011\u001b[0m       \u001b[0;32mreturn\u001b[0m \u001b[0m_result\u001b[0m\u001b[0;34m\u001b[0m\u001b[0;34m\u001b[0m\u001b[0m\n\u001b[1;32m  11012\u001b[0m     \u001b[0;32mexcept\u001b[0m \u001b[0m_core\u001b[0m\u001b[0;34m.\u001b[0m\u001b[0m_NotOkStatusException\u001b[0m \u001b[0;32mas\u001b[0m \u001b[0me\u001b[0m\u001b[0;34m:\u001b[0m\u001b[0;34m\u001b[0m\u001b[0;34m\u001b[0m\u001b[0m\n\u001b[1;32m  11013\u001b[0m       \u001b[0m_ops\u001b[0m\u001b[0;34m.\u001b[0m\u001b[0mraise_from_not_ok_status\u001b[0m\u001b[0;34m(\u001b[0m\u001b[0me\u001b[0m\u001b[0;34m,\u001b[0m \u001b[0mname\u001b[0m\u001b[0;34m)\u001b[0m\u001b[0;34m\u001b[0m\u001b[0;34m\u001b[0m\u001b[0m\n\u001b[0;32m> 11014\u001b[0;31m     \u001b[0;32mexcept\u001b[0m \u001b[0m_core\u001b[0m\u001b[0;34m.\u001b[0m\u001b[0m_FallbackException\u001b[0m\u001b[0;34m:\u001b[0m\u001b[0;34m\u001b[0m\u001b[0;34m\u001b[0m\u001b[0m\n\u001b[0m\u001b[1;32m  11015\u001b[0m       \u001b[0;32mpass\u001b[0m\u001b[0;34m\u001b[0m\u001b[0;34m\u001b[0m\u001b[0m\n\u001b[1;32m  11016\u001b[0m     \u001b[0;32mtry\u001b[0m\u001b[0;34m:\u001b[0m\u001b[0;34m\u001b[0m\u001b[0;34m\u001b[0m\u001b[0m\n\u001b[1;32m  11017\u001b[0m       return strided_slice_eager_fallback(\n",
      "\u001b[0;31mKeyboardInterrupt\u001b[0m: "
     ]
    }
   ],
   "source": [
    "# Train the model\n",
    "history = model.fit(\n",
    "    x=X_train,\n",
    "    y=y_train,\n",
    "    batch_size=32,\n",
    "    epochs=20,\n",
    "    validation_data=(X_val, y_val),\n",
    "    callbacks=[early_stopping, lr_schedule, plot_callback]\n",
    ")"
   ]
  },
  {
   "cell_type": "code",
   "execution_count": null,
   "id": "35d47b50-0296-4851-b9d2-5cc224490bb2",
   "metadata": {},
   "outputs": [],
   "source": [
    "model.save('InceptionResNetV2_augmented_final.keras')"
   ]
  },
  {
   "cell_type": "markdown",
   "id": "e88f2d0e-f513-4100-aadb-dafd741bd899",
   "metadata": {
    "jp-MarkdownHeadingCollapsed": true
   },
   "source": [
    "### Lion - EfficientNet - Offline Aug"
   ]
  },
  {
   "cell_type": "code",
   "execution_count": 2,
   "id": "19543187-f97d-409b-8f4d-9be247b70b74",
   "metadata": {},
   "outputs": [],
   "source": [
    "data = np.load('balanced_dataset_leaves_augmented_augmix_48000.npz')\n",
    "X = data['images']\n",
    "y = data['labels']"
   ]
  },
  {
   "cell_type": "code",
   "execution_count": 3,
   "id": "0f999f5b-bb46-4792-8d66-1959bfa98ba8",
   "metadata": {},
   "outputs": [],
   "source": [
    "data = np.load('balanced_dataset_leaves_augmented_augmix_48000_v2.npz')\n",
    "X_2 = data['images']\n",
    "y_2 = data['labels']\n",
    "X = np.concatenate((X, X_2), axis=0)\n",
    "y = np.concatenate((y, y_2), axis=0)"
   ]
  },
  {
   "cell_type": "code",
   "execution_count": 4,
   "id": "b154064a-cb10-479c-ac07-ff4b88dcbd70",
   "metadata": {},
   "outputs": [],
   "source": [
    "data = np.load('balanced_dataset_leaves_augmented.npz')\n",
    "X_3 = data['images']\n",
    "y_3 = data['labels']\n",
    "X = np.concatenate((X, X_3), axis=0)\n",
    "y = np.concatenate((y, y_3), axis=0)"
   ]
  },
  {
   "cell_type": "code",
   "execution_count": 5,
   "id": "759ca2fd-9427-4647-aa01-548c51353eb3",
   "metadata": {},
   "outputs": [],
   "source": [
    "data = np.load('training_set_shreks_removed.npz')\n",
    "X_4 = data['images']\n",
    "y_4 = data['labels']\n",
    "X = np.concatenate((X, X_4), axis=0)\n",
    "y = np.concatenate((y, y_4), axis=0)"
   ]
  },
  {
   "cell_type": "code",
   "execution_count": 11,
   "id": "316b2564-540b-43d0-9c56-960a8c7fa10d",
   "metadata": {},
   "outputs": [],
   "source": [
    "del X_2,X_3,X_4, y_2, y_3, y_4"
   ]
  },
  {
   "cell_type": "code",
   "execution_count": 6,
   "id": "549eea04-5e06-4f45-8e14-1b01cc1a38cf",
   "metadata": {},
   "outputs": [
    {
     "data": {
      "text/plain": [
       "(131959, 96, 96, 3)"
      ]
     },
     "execution_count": 6,
     "metadata": {},
     "output_type": "execute_result"
    }
   ],
   "source": [
    "X.shape"
   ]
  },
  {
   "cell_type": "code",
   "execution_count": 9,
   "id": "03d8646c-a52a-4cb9-901c-5968a1fcd162",
   "metadata": {},
   "outputs": [],
   "source": [
    "# Flatten X for easier comparison and find unique indices\n",
    "X_flat = X.reshape(X.shape[0], -1)  # Flatten each image into a 1D array\n",
    "unique_indices = np.unique(X_flat, axis=0, return_index=True)[1]\n",
    "\n",
    "# Sort indices to maintain order\n",
    "unique_indices_sorted = np.sort(unique_indices)\n",
    "\n",
    "# Use unique indices to filter X and y\n",
    "X_unique = X[unique_indices_sorted]\n",
    "y_unique = y[unique_indices_sorted]"
   ]
  },
  {
   "cell_type": "code",
   "execution_count": 10,
   "id": "08df7590-4b19-45b1-a7b2-35c7d228abfa",
   "metadata": {},
   "outputs": [
    {
     "data": {
      "text/plain": [
       "(96074, 96, 96, 3)"
      ]
     },
     "execution_count": 10,
     "metadata": {},
     "output_type": "execute_result"
    }
   ],
   "source": [
    "X_unique.shape"
   ]
  },
  {
   "cell_type": "code",
   "execution_count": 13,
   "id": "c288d21a-33e7-4ea1-b7a9-05065b6ac549",
   "metadata": {},
   "outputs": [
    {
     "data": {
      "text/plain": [
       "(96074,)"
      ]
     },
     "execution_count": 13,
     "metadata": {},
     "output_type": "execute_result"
    }
   ],
   "source": [
    "y_unique.shape"
   ]
  },
  {
   "cell_type": "code",
   "execution_count": 14,
   "id": "38a1495a-cd71-4c6e-9770-410360716bf0",
   "metadata": {},
   "outputs": [],
   "source": [
    "X = X_unique\n",
    "y = y_unique"
   ]
  },
  {
   "cell_type": "code",
   "execution_count": 18,
   "id": "97b28fee-2687-471b-bbb0-60d5e7236dad",
   "metadata": {
    "scrolled": true
   },
   "outputs": [
    {
     "name": "stdout",
     "output_type": "stream",
     "text": [
      "Downloading data from https://storage.googleapis.com/tensorflow/keras-applications/efficientnet_v2/efficientnetv2-l_notop.h5\n",
      "\u001b[1m473176280/473176280\u001b[0m \u001b[32m━━━━━━━━━━━━━━━━━━━━\u001b[0m\u001b[37m\u001b[0m \u001b[1m12s\u001b[0m 0us/step\n",
      "Epoch 1/50\n"
     ]
    },
    {
     "name": "stderr",
     "output_type": "stream",
     "text": [
      "WARNING: All log messages before absl::InitializeLog() is called are written to STDERR\n",
      "I0000 00:00:1731932684.069781   27865 service.cc:148] XLA service 0x7ff4bc0019b0 initialized for platform CUDA (this does not guarantee that XLA will be used). Devices:\n",
      "I0000 00:00:1731932684.070289   27865 service.cc:156]   StreamExecutor device (0): NVIDIA L4, Compute Capability 8.9\n",
      "I0000 00:00:1731932691.197670   27865 cuda_dnn.cc:529] Loaded cuDNN version 90300\n"
     ]
    },
    {
     "name": "stdout",
     "output_type": "stream",
     "text": [
      "\u001b[1m   1/1352\u001b[0m \u001b[37m━━━━━━━━━━━━━━━━━━━━\u001b[0m \u001b[1m34:00:17\u001b[0m 91s/step - accuracy: 0.1094 - loss: 2.2456"
     ]
    },
    {
     "name": "stderr",
     "output_type": "stream",
     "text": [
      "I0000 00:00:1731932733.055778   27865 device_compiler.h:188] Compiled cluster using XLA!  This line is logged at most once for the lifetime of the process.\n"
     ]
    },
    {
     "name": "stdout",
     "output_type": "stream",
     "text": [
      "\u001b[1m1352/1352\u001b[0m \u001b[32m━━━━━━━━━━━━━━━━━━━━\u001b[0m\u001b[37m\u001b[0m \u001b[1m222s\u001b[0m 97ms/step - accuracy: 0.5761 - loss: 1.1977 - val_accuracy: 0.7469 - val_loss: 0.6861 - learning_rate: 0.0010\n",
      "Epoch 2/50\n",
      "\u001b[1m1352/1352\u001b[0m \u001b[32m━━━━━━━━━━━━━━━━━━━━\u001b[0m\u001b[37m\u001b[0m \u001b[1m63s\u001b[0m 47ms/step - accuracy: 0.7007 - loss: 0.8500 - val_accuracy: 0.7644 - val_loss: 0.6650 - learning_rate: 0.0010\n",
      "Epoch 3/50\n",
      "\u001b[1m1352/1352\u001b[0m \u001b[32m━━━━━━━━━━━━━━━━━━━━\u001b[0m\u001b[37m\u001b[0m \u001b[1m63s\u001b[0m 46ms/step - accuracy: 0.7224 - loss: 0.7838 - val_accuracy: 0.7723 - val_loss: 0.6261 - learning_rate: 0.0010\n",
      "Epoch 4/50\n",
      "\u001b[1m1352/1352\u001b[0m \u001b[32m━━━━━━━━━━━━━━━━━━━━\u001b[0m\u001b[37m\u001b[0m \u001b[1m62s\u001b[0m 46ms/step - accuracy: 0.7265 - loss: 0.7667 - val_accuracy: 0.7841 - val_loss: 0.5882 - learning_rate: 0.0010\n",
      "Epoch 5/50\n",
      "\u001b[1m1352/1352\u001b[0m \u001b[32m━━━━━━━━━━━━━━━━━━━━\u001b[0m\u001b[37m\u001b[0m \u001b[1m63s\u001b[0m 47ms/step - accuracy: 0.7502 - loss: 0.7113 - val_accuracy: 0.7937 - val_loss: 0.5691 - learning_rate: 0.0010\n",
      "Epoch 6/50\n",
      "\u001b[1m1352/1352\u001b[0m \u001b[32m━━━━━━━━━━━━━━━━━━━━\u001b[0m\u001b[37m\u001b[0m \u001b[1m64s\u001b[0m 48ms/step - accuracy: 0.7582 - loss: 0.6853 - val_accuracy: 0.7950 - val_loss: 0.5599 - learning_rate: 0.0010\n",
      "Epoch 7/50\n",
      "\u001b[1m1352/1352\u001b[0m \u001b[32m━━━━━━━━━━━━━━━━━━━━\u001b[0m\u001b[37m\u001b[0m \u001b[1m63s\u001b[0m 47ms/step - accuracy: 0.7608 - loss: 0.6753 - val_accuracy: 0.8062 - val_loss: 0.5411 - learning_rate: 0.0010\n",
      "Epoch 8/50\n",
      "\u001b[1m1352/1352\u001b[0m \u001b[32m━━━━━━━━━━━━━━━━━━━━\u001b[0m\u001b[37m\u001b[0m \u001b[1m63s\u001b[0m 46ms/step - accuracy: 0.7688 - loss: 0.6485 - val_accuracy: 0.8114 - val_loss: 0.5307 - learning_rate: 0.0010\n",
      "Epoch 9/50\n",
      "\u001b[1m1352/1352\u001b[0m \u001b[32m━━━━━━━━━━━━━━━━━━━━\u001b[0m\u001b[37m\u001b[0m \u001b[1m62s\u001b[0m 46ms/step - accuracy: 0.7736 - loss: 0.6386 - val_accuracy: 0.8027 - val_loss: 0.5550 - learning_rate: 0.0010\n",
      "Epoch 10/50\n",
      "\u001b[1m1352/1352\u001b[0m \u001b[32m━━━━━━━━━━━━━━━━━━━━\u001b[0m\u001b[37m\u001b[0m \u001b[1m63s\u001b[0m 47ms/step - accuracy: 0.7785 - loss: 0.6229 - val_accuracy: 0.8141 - val_loss: 0.5171 - learning_rate: 0.0010\n",
      "Epoch 11/50\n",
      "\u001b[1m1352/1352\u001b[0m \u001b[32m━━━━━━━━━━━━━━━━━━━━\u001b[0m\u001b[37m\u001b[0m \u001b[1m62s\u001b[0m 46ms/step - accuracy: 0.7814 - loss: 0.6151 - val_accuracy: 0.8170 - val_loss: 0.5182 - learning_rate: 0.0010\n",
      "Epoch 12/50\n",
      "\u001b[1m1352/1352\u001b[0m \u001b[32m━━━━━━━━━━━━━━━━━━━━\u001b[0m\u001b[37m\u001b[0m \u001b[1m62s\u001b[0m 46ms/step - accuracy: 0.7885 - loss: 0.5957 - val_accuracy: 0.8170 - val_loss: 0.5213 - learning_rate: 0.0010\n",
      "Epoch 13/50\n",
      "\u001b[1m1352/1352\u001b[0m \u001b[32m━━━━━━━━━━━━━━━━━━━━\u001b[0m\u001b[37m\u001b[0m \u001b[1m63s\u001b[0m 47ms/step - accuracy: 0.8098 - loss: 0.5363 - val_accuracy: 0.8289 - val_loss: 0.4779 - learning_rate: 2.0000e-04\n",
      "Epoch 14/50\n",
      "\u001b[1m1352/1352\u001b[0m \u001b[32m━━━━━━━━━━━━━━━━━━━━\u001b[0m\u001b[37m\u001b[0m \u001b[1m63s\u001b[0m 46ms/step - accuracy: 0.8217 - loss: 0.4974 - val_accuracy: 0.8337 - val_loss: 0.4670 - learning_rate: 2.0000e-04\n",
      "Epoch 15/50\n",
      "\u001b[1m1352/1352\u001b[0m \u001b[32m━━━━━━━━━━━━━━━━━━━━\u001b[0m\u001b[37m\u001b[0m \u001b[1m62s\u001b[0m 46ms/step - accuracy: 0.8274 - loss: 0.4847 - val_accuracy: 0.8341 - val_loss: 0.4711 - learning_rate: 2.0000e-04\n",
      "Epoch 16/50\n",
      "\u001b[1m1352/1352\u001b[0m \u001b[32m━━━━━━━━━━━━━━━━━━━━\u001b[0m\u001b[37m\u001b[0m \u001b[1m63s\u001b[0m 47ms/step - accuracy: 0.8307 - loss: 0.4732 - val_accuracy: 0.8351 - val_loss: 0.4669 - learning_rate: 2.0000e-04\n",
      "Epoch 17/50\n",
      "\u001b[1m1352/1352\u001b[0m \u001b[32m━━━━━━━━━━━━━━━━━━━━\u001b[0m\u001b[37m\u001b[0m \u001b[1m62s\u001b[0m 46ms/step - accuracy: 0.8322 - loss: 0.4657 - val_accuracy: 0.8343 - val_loss: 0.4674 - learning_rate: 2.0000e-04\n",
      "Epoch 18/50\n",
      "\u001b[1m1352/1352\u001b[0m \u001b[32m━━━━━━━━━━━━━━━━━━━━\u001b[0m\u001b[37m\u001b[0m \u001b[1m63s\u001b[0m 46ms/step - accuracy: 0.8351 - loss: 0.4546 - val_accuracy: 0.8339 - val_loss: 0.4612 - learning_rate: 2.0000e-04\n",
      "Epoch 19/50\n",
      "\u001b[1m1352/1352\u001b[0m \u001b[32m━━━━━━━━━━━━━━━━━━━━\u001b[0m\u001b[37m\u001b[0m \u001b[1m62s\u001b[0m 46ms/step - accuracy: 0.8386 - loss: 0.4476 - val_accuracy: 0.8353 - val_loss: 0.4626 - learning_rate: 2.0000e-04\n",
      "Epoch 20/50\n",
      "\u001b[1m1352/1352\u001b[0m \u001b[32m━━━━━━━━━━━━━━━━━━━━\u001b[0m\u001b[37m\u001b[0m \u001b[1m63s\u001b[0m 46ms/step - accuracy: 0.8387 - loss: 0.4477 - val_accuracy: 0.8353 - val_loss: 0.4577 - learning_rate: 2.0000e-04\n",
      "Epoch 21/50\n",
      "\u001b[1m 605/1352\u001b[0m \u001b[32m━━━━━━━━\u001b[0m\u001b[37m━━━━━━━━━━━━\u001b[0m \u001b[1m32s\u001b[0m 44ms/step - accuracy: 0.8392 - loss: 0.4484"
     ]
    },
    {
     "name": "stderr",
     "output_type": "stream",
     "text": [
      "Exception ignored in: <bound method IPythonKernel._clean_thread_parent_frames of <ipykernel.ipkernel.IPythonKernel object at 0x7ff86dd28190>>\n",
      "Traceback (most recent call last):\n",
      "  File \"/opt/conda/envs/myenv/lib/python3.11/site-packages/ipykernel/ipkernel.py\", line 775, in _clean_thread_parent_frames\n",
      "    def _clean_thread_parent_frames(\n",
      "\n",
      "KeyboardInterrupt: \n"
     ]
    },
    {
     "ename": "KeyboardInterrupt",
     "evalue": "",
     "output_type": "error",
     "traceback": [
      "\u001b[0;31m---------------------------------------------------------------------------\u001b[0m",
      "\u001b[0;31mKeyboardInterrupt\u001b[0m                         Traceback (most recent call last)",
      "Cell \u001b[0;32mIn[18], line 74\u001b[0m\n\u001b[1;32m     68\u001b[0m callbacks \u001b[38;5;241m=\u001b[39m [\n\u001b[1;32m     69\u001b[0m     EarlyStopping(patience\u001b[38;5;241m=\u001b[39m\u001b[38;5;241m3\u001b[39m, restore_best_weights\u001b[38;5;241m=\u001b[39m\u001b[38;5;28;01mTrue\u001b[39;00m, monitor\u001b[38;5;241m=\u001b[39m\u001b[38;5;124m\"\u001b[39m\u001b[38;5;124mval_loss\u001b[39m\u001b[38;5;124m\"\u001b[39m),\n\u001b[1;32m     70\u001b[0m     ReduceLROnPlateau(patience\u001b[38;5;241m=\u001b[39m\u001b[38;5;241m2\u001b[39m, factor\u001b[38;5;241m=\u001b[39m\u001b[38;5;241m0.2\u001b[39m, monitor\u001b[38;5;241m=\u001b[39m\u001b[38;5;124m\"\u001b[39m\u001b[38;5;124mval_loss\u001b[39m\u001b[38;5;124m\"\u001b[39m),\n\u001b[1;32m     71\u001b[0m ]\n\u001b[1;32m     73\u001b[0m \u001b[38;5;66;03m# Train the top layers\u001b[39;00m\n\u001b[0;32m---> 74\u001b[0m history \u001b[38;5;241m=\u001b[39m \u001b[43mmodel\u001b[49m\u001b[38;5;241;43m.\u001b[39;49m\u001b[43mfit\u001b[49m\u001b[43m(\u001b[49m\n\u001b[1;32m     75\u001b[0m \u001b[43m    \u001b[49m\u001b[43mX_train\u001b[49m\u001b[43m,\u001b[49m\u001b[43m \u001b[49m\u001b[43my_train\u001b[49m\u001b[43m,\u001b[49m\n\u001b[1;32m     76\u001b[0m \u001b[43m    \u001b[49m\u001b[43mvalidation_data\u001b[49m\u001b[38;5;241;43m=\u001b[39;49m\u001b[43m(\u001b[49m\u001b[43mX_val\u001b[49m\u001b[43m,\u001b[49m\u001b[43m \u001b[49m\u001b[43my_val\u001b[49m\u001b[43m)\u001b[49m\u001b[43m,\u001b[49m\n\u001b[1;32m     77\u001b[0m \u001b[43m    \u001b[49m\u001b[43mepochs\u001b[49m\u001b[38;5;241;43m=\u001b[39;49m\u001b[38;5;241;43m50\u001b[39;49m\u001b[43m,\u001b[49m\n\u001b[1;32m     78\u001b[0m \u001b[43m    \u001b[49m\u001b[43mbatch_size\u001b[49m\u001b[38;5;241;43m=\u001b[39;49m\u001b[38;5;241;43m64\u001b[39;49m\u001b[43m,\u001b[49m\n\u001b[1;32m     79\u001b[0m \u001b[43m    \u001b[49m\u001b[43mcallbacks\u001b[49m\u001b[38;5;241;43m=\u001b[39;49m\u001b[43mcallbacks\u001b[49m\u001b[43m,\u001b[49m\n\u001b[1;32m     80\u001b[0m \u001b[43m    \u001b[49m\u001b[43mverbose\u001b[49m\u001b[38;5;241;43m=\u001b[39;49m\u001b[38;5;241;43m1\u001b[39;49m\u001b[43m,\u001b[49m\n\u001b[1;32m     81\u001b[0m \u001b[43m)\u001b[49m\n",
      "File \u001b[0;32m/opt/conda/envs/myenv/lib/python3.11/site-packages/keras/src/utils/traceback_utils.py:117\u001b[0m, in \u001b[0;36mfilter_traceback.<locals>.error_handler\u001b[0;34m(*args, **kwargs)\u001b[0m\n\u001b[1;32m    115\u001b[0m filtered_tb \u001b[38;5;241m=\u001b[39m \u001b[38;5;28;01mNone\u001b[39;00m\n\u001b[1;32m    116\u001b[0m \u001b[38;5;28;01mtry\u001b[39;00m:\n\u001b[0;32m--> 117\u001b[0m     \u001b[38;5;28;01mreturn\u001b[39;00m \u001b[43mfn\u001b[49m\u001b[43m(\u001b[49m\u001b[38;5;241;43m*\u001b[39;49m\u001b[43margs\u001b[49m\u001b[43m,\u001b[49m\u001b[43m \u001b[49m\u001b[38;5;241;43m*\u001b[39;49m\u001b[38;5;241;43m*\u001b[39;49m\u001b[43mkwargs\u001b[49m\u001b[43m)\u001b[49m\n\u001b[1;32m    118\u001b[0m \u001b[38;5;28;01mexcept\u001b[39;00m \u001b[38;5;167;01mException\u001b[39;00m \u001b[38;5;28;01mas\u001b[39;00m e:\n\u001b[1;32m    119\u001b[0m     filtered_tb \u001b[38;5;241m=\u001b[39m _process_traceback_frames(e\u001b[38;5;241m.\u001b[39m__traceback__)\n",
      "File \u001b[0;32m/opt/conda/envs/myenv/lib/python3.11/site-packages/keras/src/backend/tensorflow/trainer.py:320\u001b[0m, in \u001b[0;36mTensorFlowTrainer.fit\u001b[0;34m(self, x, y, batch_size, epochs, verbose, callbacks, validation_split, validation_data, shuffle, class_weight, sample_weight, initial_epoch, steps_per_epoch, validation_steps, validation_batch_size, validation_freq)\u001b[0m\n\u001b[1;32m    318\u001b[0m \u001b[38;5;28;01mfor\u001b[39;00m step, iterator \u001b[38;5;129;01min\u001b[39;00m epoch_iterator\u001b[38;5;241m.\u001b[39menumerate_epoch():\n\u001b[1;32m    319\u001b[0m     callbacks\u001b[38;5;241m.\u001b[39mon_train_batch_begin(step)\n\u001b[0;32m--> 320\u001b[0m     logs \u001b[38;5;241m=\u001b[39m \u001b[38;5;28;43mself\u001b[39;49m\u001b[38;5;241;43m.\u001b[39;49m\u001b[43mtrain_function\u001b[49m\u001b[43m(\u001b[49m\u001b[43miterator\u001b[49m\u001b[43m)\u001b[49m\n\u001b[1;32m    321\u001b[0m     callbacks\u001b[38;5;241m.\u001b[39mon_train_batch_end(step, logs)\n\u001b[1;32m    322\u001b[0m     \u001b[38;5;28;01mif\u001b[39;00m \u001b[38;5;28mself\u001b[39m\u001b[38;5;241m.\u001b[39mstop_training:\n",
      "File \u001b[0;32m/opt/conda/envs/myenv/lib/python3.11/site-packages/tensorflow/python/util/traceback_utils.py:150\u001b[0m, in \u001b[0;36mfilter_traceback.<locals>.error_handler\u001b[0;34m(*args, **kwargs)\u001b[0m\n\u001b[1;32m    148\u001b[0m filtered_tb \u001b[38;5;241m=\u001b[39m \u001b[38;5;28;01mNone\u001b[39;00m\n\u001b[1;32m    149\u001b[0m \u001b[38;5;28;01mtry\u001b[39;00m:\n\u001b[0;32m--> 150\u001b[0m   \u001b[38;5;28;01mreturn\u001b[39;00m \u001b[43mfn\u001b[49m\u001b[43m(\u001b[49m\u001b[38;5;241;43m*\u001b[39;49m\u001b[43margs\u001b[49m\u001b[43m,\u001b[49m\u001b[43m \u001b[49m\u001b[38;5;241;43m*\u001b[39;49m\u001b[38;5;241;43m*\u001b[39;49m\u001b[43mkwargs\u001b[49m\u001b[43m)\u001b[49m\n\u001b[1;32m    151\u001b[0m \u001b[38;5;28;01mexcept\u001b[39;00m \u001b[38;5;167;01mException\u001b[39;00m \u001b[38;5;28;01mas\u001b[39;00m e:\n\u001b[1;32m    152\u001b[0m   filtered_tb \u001b[38;5;241m=\u001b[39m _process_traceback_frames(e\u001b[38;5;241m.\u001b[39m__traceback__)\n",
      "File \u001b[0;32m/opt/conda/envs/myenv/lib/python3.11/site-packages/tensorflow/python/eager/polymorphic_function/polymorphic_function.py:833\u001b[0m, in \u001b[0;36mFunction.__call__\u001b[0;34m(self, *args, **kwds)\u001b[0m\n\u001b[1;32m    830\u001b[0m compiler \u001b[38;5;241m=\u001b[39m \u001b[38;5;124m\"\u001b[39m\u001b[38;5;124mxla\u001b[39m\u001b[38;5;124m\"\u001b[39m \u001b[38;5;28;01mif\u001b[39;00m \u001b[38;5;28mself\u001b[39m\u001b[38;5;241m.\u001b[39m_jit_compile \u001b[38;5;28;01melse\u001b[39;00m \u001b[38;5;124m\"\u001b[39m\u001b[38;5;124mnonXla\u001b[39m\u001b[38;5;124m\"\u001b[39m\n\u001b[1;32m    832\u001b[0m \u001b[38;5;28;01mwith\u001b[39;00m OptionalXlaContext(\u001b[38;5;28mself\u001b[39m\u001b[38;5;241m.\u001b[39m_jit_compile):\n\u001b[0;32m--> 833\u001b[0m   result \u001b[38;5;241m=\u001b[39m \u001b[38;5;28;43mself\u001b[39;49m\u001b[38;5;241;43m.\u001b[39;49m\u001b[43m_call\u001b[49m\u001b[43m(\u001b[49m\u001b[38;5;241;43m*\u001b[39;49m\u001b[43margs\u001b[49m\u001b[43m,\u001b[49m\u001b[43m \u001b[49m\u001b[38;5;241;43m*\u001b[39;49m\u001b[38;5;241;43m*\u001b[39;49m\u001b[43mkwds\u001b[49m\u001b[43m)\u001b[49m\n\u001b[1;32m    835\u001b[0m new_tracing_count \u001b[38;5;241m=\u001b[39m \u001b[38;5;28mself\u001b[39m\u001b[38;5;241m.\u001b[39mexperimental_get_tracing_count()\n\u001b[1;32m    836\u001b[0m without_tracing \u001b[38;5;241m=\u001b[39m (tracing_count \u001b[38;5;241m==\u001b[39m new_tracing_count)\n",
      "File \u001b[0;32m/opt/conda/envs/myenv/lib/python3.11/site-packages/tensorflow/python/eager/polymorphic_function/polymorphic_function.py:878\u001b[0m, in \u001b[0;36mFunction._call\u001b[0;34m(self, *args, **kwds)\u001b[0m\n\u001b[1;32m    875\u001b[0m \u001b[38;5;28mself\u001b[39m\u001b[38;5;241m.\u001b[39m_lock\u001b[38;5;241m.\u001b[39mrelease()\n\u001b[1;32m    876\u001b[0m \u001b[38;5;66;03m# In this case we have not created variables on the first call. So we can\u001b[39;00m\n\u001b[1;32m    877\u001b[0m \u001b[38;5;66;03m# run the first trace but we should fail if variables are created.\u001b[39;00m\n\u001b[0;32m--> 878\u001b[0m results \u001b[38;5;241m=\u001b[39m \u001b[43mtracing_compilation\u001b[49m\u001b[38;5;241;43m.\u001b[39;49m\u001b[43mcall_function\u001b[49m\u001b[43m(\u001b[49m\n\u001b[1;32m    879\u001b[0m \u001b[43m    \u001b[49m\u001b[43margs\u001b[49m\u001b[43m,\u001b[49m\u001b[43m \u001b[49m\u001b[43mkwds\u001b[49m\u001b[43m,\u001b[49m\u001b[43m \u001b[49m\u001b[38;5;28;43mself\u001b[39;49m\u001b[38;5;241;43m.\u001b[39;49m\u001b[43m_variable_creation_config\u001b[49m\n\u001b[1;32m    880\u001b[0m \u001b[43m\u001b[49m\u001b[43m)\u001b[49m\n\u001b[1;32m    881\u001b[0m \u001b[38;5;28;01mif\u001b[39;00m \u001b[38;5;28mself\u001b[39m\u001b[38;5;241m.\u001b[39m_created_variables:\n\u001b[1;32m    882\u001b[0m   \u001b[38;5;28;01mraise\u001b[39;00m \u001b[38;5;167;01mValueError\u001b[39;00m(\u001b[38;5;124m\"\u001b[39m\u001b[38;5;124mCreating variables on a non-first call to a function\u001b[39m\u001b[38;5;124m\"\u001b[39m\n\u001b[1;32m    883\u001b[0m                    \u001b[38;5;124m\"\u001b[39m\u001b[38;5;124m decorated with tf.function.\u001b[39m\u001b[38;5;124m\"\u001b[39m)\n",
      "File \u001b[0;32m/opt/conda/envs/myenv/lib/python3.11/site-packages/tensorflow/python/eager/polymorphic_function/tracing_compilation.py:139\u001b[0m, in \u001b[0;36mcall_function\u001b[0;34m(args, kwargs, tracing_options)\u001b[0m\n\u001b[1;32m    137\u001b[0m bound_args \u001b[38;5;241m=\u001b[39m function\u001b[38;5;241m.\u001b[39mfunction_type\u001b[38;5;241m.\u001b[39mbind(\u001b[38;5;241m*\u001b[39margs, \u001b[38;5;241m*\u001b[39m\u001b[38;5;241m*\u001b[39mkwargs)\n\u001b[1;32m    138\u001b[0m flat_inputs \u001b[38;5;241m=\u001b[39m function\u001b[38;5;241m.\u001b[39mfunction_type\u001b[38;5;241m.\u001b[39munpack_inputs(bound_args)\n\u001b[0;32m--> 139\u001b[0m \u001b[38;5;28;01mreturn\u001b[39;00m \u001b[43mfunction\u001b[49m\u001b[38;5;241;43m.\u001b[39;49m\u001b[43m_call_flat\u001b[49m\u001b[43m(\u001b[49m\u001b[43m  \u001b[49m\u001b[38;5;66;43;03m# pylint: disable=protected-access\u001b[39;49;00m\n\u001b[1;32m    140\u001b[0m \u001b[43m    \u001b[49m\u001b[43mflat_inputs\u001b[49m\u001b[43m,\u001b[49m\u001b[43m \u001b[49m\u001b[43mcaptured_inputs\u001b[49m\u001b[38;5;241;43m=\u001b[39;49m\u001b[43mfunction\u001b[49m\u001b[38;5;241;43m.\u001b[39;49m\u001b[43mcaptured_inputs\u001b[49m\n\u001b[1;32m    141\u001b[0m \u001b[43m\u001b[49m\u001b[43m)\u001b[49m\n",
      "File \u001b[0;32m/opt/conda/envs/myenv/lib/python3.11/site-packages/tensorflow/python/eager/polymorphic_function/concrete_function.py:1322\u001b[0m, in \u001b[0;36mConcreteFunction._call_flat\u001b[0;34m(self, tensor_inputs, captured_inputs)\u001b[0m\n\u001b[1;32m   1318\u001b[0m possible_gradient_type \u001b[38;5;241m=\u001b[39m gradients_util\u001b[38;5;241m.\u001b[39mPossibleTapeGradientTypes(args)\n\u001b[1;32m   1319\u001b[0m \u001b[38;5;28;01mif\u001b[39;00m (possible_gradient_type \u001b[38;5;241m==\u001b[39m gradients_util\u001b[38;5;241m.\u001b[39mPOSSIBLE_GRADIENT_TYPES_NONE\n\u001b[1;32m   1320\u001b[0m     \u001b[38;5;129;01mand\u001b[39;00m executing_eagerly):\n\u001b[1;32m   1321\u001b[0m   \u001b[38;5;66;03m# No tape is watching; skip to running the function.\u001b[39;00m\n\u001b[0;32m-> 1322\u001b[0m   \u001b[38;5;28;01mreturn\u001b[39;00m \u001b[38;5;28;43mself\u001b[39;49m\u001b[38;5;241;43m.\u001b[39;49m\u001b[43m_inference_function\u001b[49m\u001b[38;5;241;43m.\u001b[39;49m\u001b[43mcall_preflattened\u001b[49m\u001b[43m(\u001b[49m\u001b[43margs\u001b[49m\u001b[43m)\u001b[49m\n\u001b[1;32m   1323\u001b[0m forward_backward \u001b[38;5;241m=\u001b[39m \u001b[38;5;28mself\u001b[39m\u001b[38;5;241m.\u001b[39m_select_forward_and_backward_functions(\n\u001b[1;32m   1324\u001b[0m     args,\n\u001b[1;32m   1325\u001b[0m     possible_gradient_type,\n\u001b[1;32m   1326\u001b[0m     executing_eagerly)\n\u001b[1;32m   1327\u001b[0m forward_function, args_with_tangents \u001b[38;5;241m=\u001b[39m forward_backward\u001b[38;5;241m.\u001b[39mforward()\n",
      "File \u001b[0;32m/opt/conda/envs/myenv/lib/python3.11/site-packages/tensorflow/python/eager/polymorphic_function/atomic_function.py:216\u001b[0m, in \u001b[0;36mAtomicFunction.call_preflattened\u001b[0;34m(self, args)\u001b[0m\n\u001b[1;32m    214\u001b[0m \u001b[38;5;28;01mdef\u001b[39;00m \u001b[38;5;21mcall_preflattened\u001b[39m(\u001b[38;5;28mself\u001b[39m, args: Sequence[core\u001b[38;5;241m.\u001b[39mTensor]) \u001b[38;5;241m-\u001b[39m\u001b[38;5;241m>\u001b[39m Any:\n\u001b[1;32m    215\u001b[0m \u001b[38;5;250m  \u001b[39m\u001b[38;5;124;03m\"\"\"Calls with flattened tensor inputs and returns the structured output.\"\"\"\u001b[39;00m\n\u001b[0;32m--> 216\u001b[0m   flat_outputs \u001b[38;5;241m=\u001b[39m \u001b[38;5;28;43mself\u001b[39;49m\u001b[38;5;241;43m.\u001b[39;49m\u001b[43mcall_flat\u001b[49m\u001b[43m(\u001b[49m\u001b[38;5;241;43m*\u001b[39;49m\u001b[43margs\u001b[49m\u001b[43m)\u001b[49m\n\u001b[1;32m    217\u001b[0m   \u001b[38;5;28;01mreturn\u001b[39;00m \u001b[38;5;28mself\u001b[39m\u001b[38;5;241m.\u001b[39mfunction_type\u001b[38;5;241m.\u001b[39mpack_output(flat_outputs)\n",
      "File \u001b[0;32m/opt/conda/envs/myenv/lib/python3.11/site-packages/tensorflow/python/eager/polymorphic_function/atomic_function.py:251\u001b[0m, in \u001b[0;36mAtomicFunction.call_flat\u001b[0;34m(self, *args)\u001b[0m\n\u001b[1;32m    249\u001b[0m \u001b[38;5;28;01mwith\u001b[39;00m record\u001b[38;5;241m.\u001b[39mstop_recording():\n\u001b[1;32m    250\u001b[0m   \u001b[38;5;28;01mif\u001b[39;00m \u001b[38;5;28mself\u001b[39m\u001b[38;5;241m.\u001b[39m_bound_context\u001b[38;5;241m.\u001b[39mexecuting_eagerly():\n\u001b[0;32m--> 251\u001b[0m     outputs \u001b[38;5;241m=\u001b[39m \u001b[38;5;28;43mself\u001b[39;49m\u001b[38;5;241;43m.\u001b[39;49m\u001b[43m_bound_context\u001b[49m\u001b[38;5;241;43m.\u001b[39;49m\u001b[43mcall_function\u001b[49m\u001b[43m(\u001b[49m\n\u001b[1;32m    252\u001b[0m \u001b[43m        \u001b[49m\u001b[38;5;28;43mself\u001b[39;49m\u001b[38;5;241;43m.\u001b[39;49m\u001b[43mname\u001b[49m\u001b[43m,\u001b[49m\n\u001b[1;32m    253\u001b[0m \u001b[43m        \u001b[49m\u001b[38;5;28;43mlist\u001b[39;49m\u001b[43m(\u001b[49m\u001b[43margs\u001b[49m\u001b[43m)\u001b[49m\u001b[43m,\u001b[49m\n\u001b[1;32m    254\u001b[0m \u001b[43m        \u001b[49m\u001b[38;5;28;43mlen\u001b[39;49m\u001b[43m(\u001b[49m\u001b[38;5;28;43mself\u001b[39;49m\u001b[38;5;241;43m.\u001b[39;49m\u001b[43mfunction_type\u001b[49m\u001b[38;5;241;43m.\u001b[39;49m\u001b[43mflat_outputs\u001b[49m\u001b[43m)\u001b[49m\u001b[43m,\u001b[49m\n\u001b[1;32m    255\u001b[0m \u001b[43m    \u001b[49m\u001b[43m)\u001b[49m\n\u001b[1;32m    256\u001b[0m   \u001b[38;5;28;01melse\u001b[39;00m:\n\u001b[1;32m    257\u001b[0m     outputs \u001b[38;5;241m=\u001b[39m make_call_op_in_graph(\n\u001b[1;32m    258\u001b[0m         \u001b[38;5;28mself\u001b[39m,\n\u001b[1;32m    259\u001b[0m         \u001b[38;5;28mlist\u001b[39m(args),\n\u001b[1;32m    260\u001b[0m         \u001b[38;5;28mself\u001b[39m\u001b[38;5;241m.\u001b[39m_bound_context\u001b[38;5;241m.\u001b[39mfunction_call_options\u001b[38;5;241m.\u001b[39mas_attrs(),\n\u001b[1;32m    261\u001b[0m     )\n",
      "File \u001b[0;32m/opt/conda/envs/myenv/lib/python3.11/site-packages/tensorflow/python/eager/context.py:1683\u001b[0m, in \u001b[0;36mContext.call_function\u001b[0;34m(self, name, tensor_inputs, num_outputs)\u001b[0m\n\u001b[1;32m   1681\u001b[0m cancellation_context \u001b[38;5;241m=\u001b[39m cancellation\u001b[38;5;241m.\u001b[39mcontext()\n\u001b[1;32m   1682\u001b[0m \u001b[38;5;28;01mif\u001b[39;00m cancellation_context \u001b[38;5;129;01mis\u001b[39;00m \u001b[38;5;28;01mNone\u001b[39;00m:\n\u001b[0;32m-> 1683\u001b[0m   outputs \u001b[38;5;241m=\u001b[39m \u001b[43mexecute\u001b[49m\u001b[38;5;241;43m.\u001b[39;49m\u001b[43mexecute\u001b[49m\u001b[43m(\u001b[49m\n\u001b[1;32m   1684\u001b[0m \u001b[43m      \u001b[49m\u001b[43mname\u001b[49m\u001b[38;5;241;43m.\u001b[39;49m\u001b[43mdecode\u001b[49m\u001b[43m(\u001b[49m\u001b[38;5;124;43m\"\u001b[39;49m\u001b[38;5;124;43mutf-8\u001b[39;49m\u001b[38;5;124;43m\"\u001b[39;49m\u001b[43m)\u001b[49m\u001b[43m,\u001b[49m\n\u001b[1;32m   1685\u001b[0m \u001b[43m      \u001b[49m\u001b[43mnum_outputs\u001b[49m\u001b[38;5;241;43m=\u001b[39;49m\u001b[43mnum_outputs\u001b[49m\u001b[43m,\u001b[49m\n\u001b[1;32m   1686\u001b[0m \u001b[43m      \u001b[49m\u001b[43minputs\u001b[49m\u001b[38;5;241;43m=\u001b[39;49m\u001b[43mtensor_inputs\u001b[49m\u001b[43m,\u001b[49m\n\u001b[1;32m   1687\u001b[0m \u001b[43m      \u001b[49m\u001b[43mattrs\u001b[49m\u001b[38;5;241;43m=\u001b[39;49m\u001b[43mattrs\u001b[49m\u001b[43m,\u001b[49m\n\u001b[1;32m   1688\u001b[0m \u001b[43m      \u001b[49m\u001b[43mctx\u001b[49m\u001b[38;5;241;43m=\u001b[39;49m\u001b[38;5;28;43mself\u001b[39;49m\u001b[43m,\u001b[49m\n\u001b[1;32m   1689\u001b[0m \u001b[43m  \u001b[49m\u001b[43m)\u001b[49m\n\u001b[1;32m   1690\u001b[0m \u001b[38;5;28;01melse\u001b[39;00m:\n\u001b[1;32m   1691\u001b[0m   outputs \u001b[38;5;241m=\u001b[39m execute\u001b[38;5;241m.\u001b[39mexecute_with_cancellation(\n\u001b[1;32m   1692\u001b[0m       name\u001b[38;5;241m.\u001b[39mdecode(\u001b[38;5;124m\"\u001b[39m\u001b[38;5;124mutf-8\u001b[39m\u001b[38;5;124m\"\u001b[39m),\n\u001b[1;32m   1693\u001b[0m       num_outputs\u001b[38;5;241m=\u001b[39mnum_outputs,\n\u001b[0;32m   (...)\u001b[0m\n\u001b[1;32m   1697\u001b[0m       cancellation_manager\u001b[38;5;241m=\u001b[39mcancellation_context,\n\u001b[1;32m   1698\u001b[0m   )\n",
      "File \u001b[0;32m/opt/conda/envs/myenv/lib/python3.11/site-packages/tensorflow/python/eager/execute.py:53\u001b[0m, in \u001b[0;36mquick_execute\u001b[0;34m(op_name, num_outputs, inputs, attrs, ctx, name)\u001b[0m\n\u001b[1;32m     51\u001b[0m \u001b[38;5;28;01mtry\u001b[39;00m:\n\u001b[1;32m     52\u001b[0m   ctx\u001b[38;5;241m.\u001b[39mensure_initialized()\n\u001b[0;32m---> 53\u001b[0m   tensors \u001b[38;5;241m=\u001b[39m \u001b[43mpywrap_tfe\u001b[49m\u001b[38;5;241;43m.\u001b[39;49m\u001b[43mTFE_Py_Execute\u001b[49m\u001b[43m(\u001b[49m\u001b[43mctx\u001b[49m\u001b[38;5;241;43m.\u001b[39;49m\u001b[43m_handle\u001b[49m\u001b[43m,\u001b[49m\u001b[43m \u001b[49m\u001b[43mdevice_name\u001b[49m\u001b[43m,\u001b[49m\u001b[43m \u001b[49m\u001b[43mop_name\u001b[49m\u001b[43m,\u001b[49m\n\u001b[1;32m     54\u001b[0m \u001b[43m                                      \u001b[49m\u001b[43minputs\u001b[49m\u001b[43m,\u001b[49m\u001b[43m \u001b[49m\u001b[43mattrs\u001b[49m\u001b[43m,\u001b[49m\u001b[43m \u001b[49m\u001b[43mnum_outputs\u001b[49m\u001b[43m)\u001b[49m\n\u001b[1;32m     55\u001b[0m \u001b[38;5;28;01mexcept\u001b[39;00m core\u001b[38;5;241m.\u001b[39m_NotOkStatusException \u001b[38;5;28;01mas\u001b[39;00m e:\n\u001b[1;32m     56\u001b[0m   \u001b[38;5;28;01mif\u001b[39;00m name \u001b[38;5;129;01mis\u001b[39;00m \u001b[38;5;129;01mnot\u001b[39;00m \u001b[38;5;28;01mNone\u001b[39;00m:\n",
      "\u001b[0;31mKeyboardInterrupt\u001b[0m: "
     ]
    }
   ],
   "source": [
    "# Split dataset into training, validation, and testing\n",
    "from tensorflow.keras.optimizers import AdamW\n",
    "from tensorflow.keras.applications import EfficientNetB7, EfficientNetB0, EfficientNetV2L\n",
    "from tensorflow.keras import layers, models\n",
    "from tensorflow.keras.callbacks import EarlyStopping, ReduceLROnPlateau, ModelCheckpoint\n",
    "from tensorflow.keras.applications.efficientnet import preprocess_input\n",
    "\n",
    "X_train, X_temp, y_train, y_temp = train_test_split(X, y, test_size=0.1, stratify=y, random_state=42)\n",
    "X_val, X_test, y_val, y_test = train_test_split(X_temp, y_temp, test_size=0.5, stratify=y_temp, random_state=42)\n",
    "\n",
    "# One-hot encode labels\n",
    "num_classes = len(np.unique(y))\n",
    "y_train = tf.keras.utils.to_categorical(y_train, num_classes)\n",
    "y_val = tf.keras.utils.to_categorical(y_val, num_classes)\n",
    "y_test = tf.keras.utils.to_categorical(y_test, num_classes)\n",
    "\n",
    "# Normalize dataset (if not already normalized)\n",
    "X_train = preprocess_input(X_train)\n",
    "X_val = preprocess_input(X_val)\n",
    "X_test = preprocess_input(X_test)\n",
    "\n",
    "# Data augmentation pipeline\n",
    "data_augmentation = tf.keras.Sequential(\n",
    "    [\n",
    "        layers.RandomFlip(\"horizontal_and_vertical\"),\n",
    "        layers.RandomRotation(0.2),\n",
    "        layers.RandomZoom(0.2),\n",
    "        layers.RandomContrast(0.2),\n",
    "    ],\n",
    "    name=\"data_augmentation\",\n",
    ")\n",
    "\n",
    "# Load EfficientNetB0 model (with ImageNet weights)\n",
    "base_model = EfficientNetV2L(weights=\"imagenet\", include_top=False, input_shape=(96, 96, 3), classes = 8)\n",
    "base_model.trainable = False\n",
    "\n",
    "# Build the model\n",
    "def build_efficientnet_without_augmentation(input_shape=(96, 96, 3)):\n",
    "    inputs = layers.Input(shape=input_shape)\n",
    "    x = base_model(inputs, training=False)\n",
    "    x = layers.GlobalAveragePooling2D(name=\"avg_pool\")(x)\n",
    "    x = layers.BatchNormalization()(x)\n",
    "    x = layers.Dense(1024, activation=tf.keras.activations.swish)(x)\n",
    "    x = Dropout(0.2)(x)\n",
    "    x = Dense(256, activation='swish')(x)\n",
    "    x = Dropout(0.2)(x)\n",
    "    x = layers.Dense(64, activation=tf.keras.activations.swish)(x)\n",
    "    outputs = layers.Dense(num_classes, activation=\"softmax\")(x)\n",
    "\n",
    "    model = models.Model(inputs, outputs, name='efficientnet_model')\n",
    "    return model\n",
    "\n",
    "# Compile the model\n",
    "model = build_efficientnet_without_augmentation()\n",
    "\n",
    "# Compile the model with AdamW\n",
    "initial_lr = 1e-3\n",
    "weight_decay = 1e-2\n",
    "optimizer = AdamW(learning_rate=initial_lr, weight_decay=weight_decay)\n",
    "\n",
    "model.compile(\n",
    "    optimizer=optimizer,\n",
    "    loss=\"categorical_crossentropy\",\n",
    "    metrics=[\"accuracy\"],\n",
    ")\n",
    "\n",
    "# Callbacks for generalization\n",
    "callbacks = [\n",
    "    EarlyStopping(patience=3, restore_best_weights=True, monitor=\"val_loss\"),\n",
    "    ReduceLROnPlateau(patience=1, factor=0.5, monitor=\"val_loss\"),\n",
    "]\n",
    "\n",
    "# Train the top layers\n",
    "history = model.fit(\n",
    "    X_train, y_train,\n",
    "    validation_data=(X_val, y_val),\n",
    "    epochs=50,\n",
    "    batch_size=64,\n",
    "    callbacks=callbacks,\n",
    "    verbose=1,\n",
    ")"
   ]
  },
  {
   "cell_type": "code",
   "execution_count": 19,
   "id": "88e4d7bf-9e75-4d02-8050-67f8e6dded29",
   "metadata": {},
   "outputs": [],
   "source": [
    "# Save the final model\n",
    "model.save(\"efficientnetV2L.keras\")"
   ]
  },
  {
   "cell_type": "code",
   "execution_count": 20,
   "id": "2cefae66-3021-4998-8756-019dc9364d07",
   "metadata": {},
   "outputs": [
    {
     "name": "stdout",
     "output_type": "stream",
     "text": [
      "  adding: model.py (deflated 50%)\n",
      "  adding: efficientnetV2L.keras (deflated 11%)\n"
     ]
    }
   ],
   "source": [
    "from datetime import datetime\n",
    "filename = f'submission_{datetime.now().strftime(\"%y%m%d_%H%M%S\")}.zip'\n",
    "!zip {filename} model.py efficientnetV2L.keras"
   ]
  },
  {
   "cell_type": "code",
   "execution_count": 21,
   "id": "471a86a3-d9f3-4694-88ee-f07d507ba665",
   "metadata": {},
   "outputs": [
    {
     "name": "stdout",
     "output_type": "stream",
     "text": [
      "Epoch 1/30\n",
      "\u001b[1m1352/1352\u001b[0m \u001b[32m━━━━━━━━━━━━━━━━━━━━\u001b[0m\u001b[37m\u001b[0m \u001b[1m248s\u001b[0m 110ms/step - accuracy: 0.7652 - loss: 0.6784 - val_accuracy: 0.8389 - val_loss: 0.4531 - learning_rate: 1.0000e-05\n",
      "Epoch 2/30\n",
      "\u001b[1m1352/1352\u001b[0m \u001b[32m━━━━━━━━━━━━━━━━━━━━\u001b[0m\u001b[37m\u001b[0m \u001b[1m78s\u001b[0m 57ms/step - accuracy: 0.8402 - loss: 0.4511 - val_accuracy: 0.8522 - val_loss: 0.4171 - learning_rate: 1.0000e-05\n",
      "Epoch 3/30\n",
      "\u001b[1m1352/1352\u001b[0m \u001b[32m━━━━━━━━━━━━━━━━━━━━\u001b[0m\u001b[37m\u001b[0m \u001b[1m77s\u001b[0m 57ms/step - accuracy: 0.8584 - loss: 0.4002 - val_accuracy: 0.8566 - val_loss: 0.4068 - learning_rate: 1.0000e-05\n",
      "Epoch 4/30\n",
      "\u001b[1m1352/1352\u001b[0m \u001b[32m━━━━━━━━━━━━━━━━━━━━\u001b[0m\u001b[37m\u001b[0m \u001b[1m77s\u001b[0m 57ms/step - accuracy: 0.8702 - loss: 0.3639 - val_accuracy: 0.8643 - val_loss: 0.3933 - learning_rate: 1.0000e-05\n",
      "Epoch 5/30\n",
      "\u001b[1m1352/1352\u001b[0m \u001b[32m━━━━━━━━━━━━━━━━━━━━\u001b[0m\u001b[37m\u001b[0m \u001b[1m77s\u001b[0m 57ms/step - accuracy: 0.8764 - loss: 0.3429 - val_accuracy: 0.8684 - val_loss: 0.3850 - learning_rate: 1.0000e-05\n",
      "Epoch 6/30\n",
      "\u001b[1m1352/1352\u001b[0m \u001b[32m━━━━━━━━━━━━━━━━━━━━\u001b[0m\u001b[37m\u001b[0m \u001b[1m77s\u001b[0m 57ms/step - accuracy: 0.8849 - loss: 0.3230 - val_accuracy: 0.8697 - val_loss: 0.3788 - learning_rate: 1.0000e-05\n",
      "Epoch 7/30\n",
      "\u001b[1m1352/1352\u001b[0m \u001b[32m━━━━━━━━━━━━━━━━━━━━\u001b[0m\u001b[37m\u001b[0m \u001b[1m77s\u001b[0m 57ms/step - accuracy: 0.8922 - loss: 0.2999 - val_accuracy: 0.8745 - val_loss: 0.3766 - learning_rate: 1.0000e-05\n",
      "Epoch 8/30\n",
      "\u001b[1m1352/1352\u001b[0m \u001b[32m━━━━━━━━━━━━━━━━━━━━\u001b[0m\u001b[37m\u001b[0m \u001b[1m77s\u001b[0m 57ms/step - accuracy: 0.8968 - loss: 0.2875 - val_accuracy: 0.8766 - val_loss: 0.3735 - learning_rate: 1.0000e-05\n",
      "Epoch 9/30\n",
      "\u001b[1m1352/1352\u001b[0m \u001b[32m━━━━━━━━━━━━━━━━━━━━\u001b[0m\u001b[37m\u001b[0m \u001b[1m78s\u001b[0m 57ms/step - accuracy: 0.9028 - loss: 0.2699 - val_accuracy: 0.8753 - val_loss: 0.3739 - learning_rate: 1.0000e-05\n",
      "Epoch 10/30\n",
      "\u001b[1m1352/1352\u001b[0m \u001b[32m━━━━━━━━━━━━━━━━━━━━\u001b[0m\u001b[37m\u001b[0m \u001b[1m78s\u001b[0m 58ms/step - accuracy: 0.9082 - loss: 0.2584 - val_accuracy: 0.8807 - val_loss: 0.3732 - learning_rate: 1.0000e-05\n",
      "Epoch 11/30\n",
      "\u001b[1m1352/1352\u001b[0m \u001b[32m━━━━━━━━━━━━━━━━━━━━\u001b[0m\u001b[37m\u001b[0m \u001b[1m77s\u001b[0m 57ms/step - accuracy: 0.9127 - loss: 0.2410 - val_accuracy: 0.8772 - val_loss: 0.3785 - learning_rate: 1.0000e-05\n",
      "Epoch 12/30\n",
      "\u001b[1m1352/1352\u001b[0m \u001b[32m━━━━━━━━━━━━━━━━━━━━\u001b[0m\u001b[37m\u001b[0m \u001b[1m77s\u001b[0m 57ms/step - accuracy: 0.9172 - loss: 0.2313 - val_accuracy: 0.8793 - val_loss: 0.3747 - learning_rate: 1.0000e-05\n",
      "Epoch 13/30\n",
      "\u001b[1m1352/1352\u001b[0m \u001b[32m━━━━━━━━━━━━━━━━━━━━\u001b[0m\u001b[37m\u001b[0m \u001b[1m78s\u001b[0m 58ms/step - accuracy: 0.9252 - loss: 0.2111 - val_accuracy: 0.8801 - val_loss: 0.3632 - learning_rate: 2.0000e-06\n",
      "Epoch 14/30\n",
      "\u001b[1m1352/1352\u001b[0m \u001b[32m━━━━━━━━━━━━━━━━━━━━\u001b[0m\u001b[37m\u001b[0m \u001b[1m77s\u001b[0m 57ms/step - accuracy: 0.9289 - loss: 0.1988 - val_accuracy: 0.8832 - val_loss: 0.3619 - learning_rate: 2.0000e-06\n",
      "Epoch 15/30\n",
      "\u001b[1m1352/1352\u001b[0m \u001b[32m━━━━━━━━━━━━━━━━━━━━\u001b[0m\u001b[37m\u001b[0m \u001b[1m77s\u001b[0m 57ms/step - accuracy: 0.9305 - loss: 0.1945 - val_accuracy: 0.8822 - val_loss: 0.3685 - learning_rate: 2.0000e-06\n",
      "Epoch 16/30\n",
      "\u001b[1m1352/1352\u001b[0m \u001b[32m━━━━━━━━━━━━━━━━━━━━\u001b[0m\u001b[37m\u001b[0m \u001b[1m77s\u001b[0m 57ms/step - accuracy: 0.9317 - loss: 0.1901 - val_accuracy: 0.8822 - val_loss: 0.3686 - learning_rate: 2.0000e-06\n",
      "Epoch 17/30\n",
      "\u001b[1m1352/1352\u001b[0m \u001b[32m━━━━━━━━━━━━━━━━━━━━\u001b[0m\u001b[37m\u001b[0m \u001b[1m77s\u001b[0m 57ms/step - accuracy: 0.9355 - loss: 0.1841 - val_accuracy: 0.8834 - val_loss: 0.3640 - learning_rate: 4.0000e-07\n",
      "\u001b[1m151/151\u001b[0m \u001b[32m━━━━━━━━━━━━━━━━━━━━\u001b[0m\u001b[37m\u001b[0m \u001b[1m13s\u001b[0m 26ms/step - accuracy: 0.8834 - loss: 0.3401\n",
      "Test Accuracy: 88.80%\n"
     ]
    }
   ],
   "source": [
    "# Unfreeze some layers of the base model for fine-tuning\n",
    "for layer in base_model.layers[-50:]:  \n",
    "    layer.trainable = True\n",
    "\n",
    "# Recompile the model with a lower learning rate\n",
    "model.compile(\n",
    "    optimizer=tf.keras.optimizers.AdamW(learning_rate=1e-5, weight_decay=weight_decay),  \n",
    "    loss=\"categorical_crossentropy\",\n",
    "    metrics=[\"accuracy\"],\n",
    ")\n",
    "\n",
    "# Fine-tune the model\n",
    "fine_tune_history = model.fit(\n",
    "    X_train, y_train,\n",
    "    validation_data=(X_val, y_val),\n",
    "    epochs=30,\n",
    "    batch_size=64,\n",
    "    callbacks=callbacks,\n",
    "    verbose=1,\n",
    ")\n",
    "\n",
    "# Evaluate on the test set\n",
    "test_loss, test_accuracy = model.evaluate(X_test, y_test, verbose=1)\n",
    "print(f\"Test Accuracy: {test_accuracy * 100:.2f}%\")"
   ]
  },
  {
   "cell_type": "code",
   "execution_count": 22,
   "id": "5cd46cee-5f32-4a93-be04-e53ff3ab8fc5",
   "metadata": {},
   "outputs": [],
   "source": [
    "# Save the final model\n",
    "model.save(\"efficientnetV2L_unfreezed.keras\")"
   ]
  },
  {
   "cell_type": "code",
   "execution_count": null,
   "id": "2e5b70af-7a5d-4165-a02f-66d8a60d606c",
   "metadata": {},
   "outputs": [],
   "source": [
    "from tensorflow.keras.models import load_model\n",
    "\n",
    "# Load the saved model\n",
    "eff_net = load_model(\"final_efficientnetB7.keras\")\n",
    "sample_image = np.expand_dims(X_test[1000], axis=0)  # Shape becomes (1, height, width, channels)\n",
    "predictions = eff_net.predict(sample_image)\n",
    "if len(predictions.shape) == 2:\n",
    "    predictions = np.argmax(predictions, axis=1)\n",
    "predictions"
   ]
  },
  {
   "cell_type": "code",
   "execution_count": null,
   "id": "429e196c-4e11-473c-a12b-7938fe1c6d18",
   "metadata": {},
   "outputs": [],
   "source": [
    "plt.imshow(X_test[1009])  # Display the image\n",
    "plt.axis('off')  # Optionally hide the axis\n",
    "plt.show()"
   ]
  },
  {
   "cell_type": "code",
   "execution_count": 24,
   "id": "185e9173-edb5-481f-bb1e-b346d9086ee2",
   "metadata": {},
   "outputs": [
    {
     "name": "stdout",
     "output_type": "stream",
     "text": [
      "  adding: model.py (deflated 50%)\n",
      "  adding: efficientnetV2L_unfreezed.keras (deflated 10%)\n"
     ]
    }
   ],
   "source": [
    "from datetime import datetime\n",
    "filename = f'submission_{datetime.now().strftime(\"%y%m%d_%H%M%S\")}.zip'\n",
    "!zip {filename} model.py efficientnetV2L_unfreezed.keras"
   ]
  },
  {
   "cell_type": "code",
   "execution_count": null,
   "id": "b2e21c09-70ca-48ee-a05c-93510f040e61",
   "metadata": {},
   "outputs": [],
   "source": []
  },
  {
   "cell_type": "code",
   "execution_count": null,
   "id": "ab40ecb9-6ff0-4641-8ffb-3398005f9a14",
   "metadata": {},
   "outputs": [],
   "source": []
  },
  {
   "cell_type": "code",
   "execution_count": 5,
   "id": "958850db-0e19-4e8b-bdc0-2a8ae5ebc934",
   "metadata": {},
   "outputs": [],
   "source": [
    "import numpy as np\n",
    "import tensorflow as tf\n",
    "from tensorflow import keras as tfk\n",
    "from tensorflow.keras import layers as tfkl\n",
    "import keras_cv.layers as kcvl\n",
    "\n",
    "@tf.keras.utils.register_keras_serializable(package=\"Custom\")\n",
    "class ImageAugmentationLayer(tfkl.Layer):\n",
    "    def __init__(self, seed=None, **kwargs):\n",
    "        super().__init__(**kwargs)  # Pass any unexpected args to the parent class\n",
    "        self.seed = seed\n",
    "        self.rand_augment = kcvl.RandAugment(\n",
    "            value_range=(0, 1),\n",
    "            augmentations_per_image=2,\n",
    "            magnitude=0.5,\n",
    "            magnitude_stddev=0.20,\n",
    "            rate=0.9090909090909091,\n",
    "            geometric=True,\n",
    "            seed=seed\n",
    "        )\n",
    "        self.random_flip = tfkl.RandomFlip()\n",
    "        self.random_zoom = tfkl.RandomZoom(height_factor=(-0.15, 0.2), width_factor=(-0.15, 0.2))\n",
    "        self.random_rotation = tfkl.RandomRotation(factor=0.5)\n",
    "\n",
    "    def call(self, inputs, training=True):\n",
    "        if training:\n",
    "            x = self.rand_augment(inputs)\n",
    "            x = self.random_flip(x)\n",
    "            x = self.random_zoom(x)\n",
    "            x = self.random_rotation(x)\n",
    "            return x\n",
    "        return inputs\n",
    "\n",
    "    def get_config(self):\n",
    "        config = super().get_config()\n",
    "        config.update({\"seed\": self.seed})\n",
    "        return config\n",
    "\n",
    "# Define a custom layer for the `tf.cast` operation\n",
    "@tf.keras.utils.register_keras_serializable(package=\"Custom\")\n",
    "class CastToUint8Layer(tfkl.Layer):\n",
    "    def call(self, inputs):\n",
    "        return tf.cast(inputs * 255, tf.uint8)\n",
    "        \n",
    "class Model:\n",
    "    def __init__(self):\n",
    "        self.neural_network_augmentation = tfk.models.load_model(\"ConvNeXtLargeunfreezedweights.keras\")\n",
    "        self.neural_network = tfk.Model(inputs= self.neural_network_augmentation.layers[2].input, outputs= self.neural_network_augmentation.output)\n",
    "    def predict(self, X):\n",
    "        X = X / 255.0\n",
    "        preds = self.neural_network.predict(X)\n",
    "        if len(preds.shape) == 2:\n",
    "            preds = np.argmax(preds, axis=1)\n",
    "        return preds\n",
    "\n",
    "model = Model()"
   ]
  },
  {
   "cell_type": "code",
   "execution_count": 7,
   "id": "c3192de6-e2bc-4b85-a5b0-7039595edd40",
   "metadata": {},
   "outputs": [
    {
     "data": {
      "text/html": [
       "<pre style=\"white-space:pre;overflow-x:auto;line-height:normal;font-family:Menlo,'DejaVu Sans Mono',consolas,'Courier New',monospace\"><span style=\"font-weight: bold\">Model: \"functional_16\"</span>\n",
       "</pre>\n"
      ],
      "text/plain": [
       "\u001b[1mModel: \"functional_16\"\u001b[0m\n"
      ]
     },
     "metadata": {},
     "output_type": "display_data"
    },
    {
     "data": {
      "text/html": [
       "<pre style=\"white-space:pre;overflow-x:auto;line-height:normal;font-family:Menlo,'DejaVu Sans Mono',consolas,'Courier New',monospace\">┏━━━━━━━━━━━━━━━━━━━━━━━━━━━━━━━━━┳━━━━━━━━━━━━━━━━━━━━━━━━┳━━━━━━━━━━━━━━━┓\n",
       "┃<span style=\"font-weight: bold\"> Layer (type)                    </span>┃<span style=\"font-weight: bold\"> Output Shape           </span>┃<span style=\"font-weight: bold\">       Param # </span>┃\n",
       "┡━━━━━━━━━━━━━━━━━━━━━━━━━━━━━━━━━╇━━━━━━━━━━━━━━━━━━━━━━━━╇━━━━━━━━━━━━━━━┩\n",
       "│ keras_tensor_1293CLONE          │ (<span style=\"color: #00d7ff; text-decoration-color: #00d7ff\">None</span>, <span style=\"color: #00af00; text-decoration-color: #00af00\">96</span>, <span style=\"color: #00af00; text-decoration-color: #00af00\">96</span>, <span style=\"color: #00af00; text-decoration-color: #00af00\">3</span>)      │             <span style=\"color: #00af00; text-decoration-color: #00af00\">0</span> │\n",
       "│ (<span style=\"color: #0087ff; text-decoration-color: #0087ff\">InputLayer</span>)                    │                        │               │\n",
       "├─────────────────────────────────┼────────────────────────┼───────────────┤\n",
       "│ cast_to_uint8_layer             │ (<span style=\"color: #00d7ff; text-decoration-color: #00d7ff\">None</span>, <span style=\"color: #00af00; text-decoration-color: #00af00\">96</span>, <span style=\"color: #00af00; text-decoration-color: #00af00\">96</span>, <span style=\"color: #00af00; text-decoration-color: #00af00\">3</span>)      │             <span style=\"color: #00af00; text-decoration-color: #00af00\">0</span> │\n",
       "│ (<span style=\"color: #0087ff; text-decoration-color: #0087ff\">CastToUint8Layer</span>)              │                        │               │\n",
       "├─────────────────────────────────┼────────────────────────┼───────────────┤\n",
       "│ convnext_large (<span style=\"color: #0087ff; text-decoration-color: #0087ff\">Functional</span>)     │ (<span style=\"color: #00d7ff; text-decoration-color: #00d7ff\">None</span>, <span style=\"color: #00af00; text-decoration-color: #00af00\">3</span>, <span style=\"color: #00af00; text-decoration-color: #00af00\">3</span>, <span style=\"color: #00af00; text-decoration-color: #00af00\">1536</span>)     │   <span style=\"color: #00af00; text-decoration-color: #00af00\">196,230,336</span> │\n",
       "├─────────────────────────────────┼────────────────────────┼───────────────┤\n",
       "│ avg_pool                        │ (<span style=\"color: #00d7ff; text-decoration-color: #00d7ff\">None</span>, <span style=\"color: #00af00; text-decoration-color: #00af00\">1536</span>)           │             <span style=\"color: #00af00; text-decoration-color: #00af00\">0</span> │\n",
       "│ (<span style=\"color: #0087ff; text-decoration-color: #0087ff\">GlobalAveragePooling2D</span>)        │                        │               │\n",
       "├─────────────────────────────────┼────────────────────────┼───────────────┤\n",
       "│ batch_normalization             │ (<span style=\"color: #00d7ff; text-decoration-color: #00d7ff\">None</span>, <span style=\"color: #00af00; text-decoration-color: #00af00\">1536</span>)           │         <span style=\"color: #00af00; text-decoration-color: #00af00\">6,144</span> │\n",
       "│ (<span style=\"color: #0087ff; text-decoration-color: #0087ff\">BatchNormalization</span>)            │                        │               │\n",
       "├─────────────────────────────────┼────────────────────────┼───────────────┤\n",
       "│ dense (<span style=\"color: #0087ff; text-decoration-color: #0087ff\">Dense</span>)                   │ (<span style=\"color: #00d7ff; text-decoration-color: #00d7ff\">None</span>, <span style=\"color: #00af00; text-decoration-color: #00af00\">1024</span>)           │     <span style=\"color: #00af00; text-decoration-color: #00af00\">1,573,888</span> │\n",
       "├─────────────────────────────────┼────────────────────────┼───────────────┤\n",
       "│ dropout (<span style=\"color: #0087ff; text-decoration-color: #0087ff\">Dropout</span>)               │ (<span style=\"color: #00d7ff; text-decoration-color: #00d7ff\">None</span>, <span style=\"color: #00af00; text-decoration-color: #00af00\">1024</span>)           │             <span style=\"color: #00af00; text-decoration-color: #00af00\">0</span> │\n",
       "├─────────────────────────────────┼────────────────────────┼───────────────┤\n",
       "│ dense_1 (<span style=\"color: #0087ff; text-decoration-color: #0087ff\">Dense</span>)                 │ (<span style=\"color: #00d7ff; text-decoration-color: #00d7ff\">None</span>, <span style=\"color: #00af00; text-decoration-color: #00af00\">256</span>)            │       <span style=\"color: #00af00; text-decoration-color: #00af00\">262,400</span> │\n",
       "├─────────────────────────────────┼────────────────────────┼───────────────┤\n",
       "│ dropout_1 (<span style=\"color: #0087ff; text-decoration-color: #0087ff\">Dropout</span>)             │ (<span style=\"color: #00d7ff; text-decoration-color: #00d7ff\">None</span>, <span style=\"color: #00af00; text-decoration-color: #00af00\">256</span>)            │             <span style=\"color: #00af00; text-decoration-color: #00af00\">0</span> │\n",
       "├─────────────────────────────────┼────────────────────────┼───────────────┤\n",
       "│ dense_2 (<span style=\"color: #0087ff; text-decoration-color: #0087ff\">Dense</span>)                 │ (<span style=\"color: #00d7ff; text-decoration-color: #00d7ff\">None</span>, <span style=\"color: #00af00; text-decoration-color: #00af00\">8</span>)              │         <span style=\"color: #00af00; text-decoration-color: #00af00\">2,056</span> │\n",
       "└─────────────────────────────────┴────────────────────────┴───────────────┘\n",
       "</pre>\n"
      ],
      "text/plain": [
       "┏━━━━━━━━━━━━━━━━━━━━━━━━━━━━━━━━━┳━━━━━━━━━━━━━━━━━━━━━━━━┳━━━━━━━━━━━━━━━┓\n",
       "┃\u001b[1m \u001b[0m\u001b[1mLayer (type)                   \u001b[0m\u001b[1m \u001b[0m┃\u001b[1m \u001b[0m\u001b[1mOutput Shape          \u001b[0m\u001b[1m \u001b[0m┃\u001b[1m \u001b[0m\u001b[1m      Param #\u001b[0m\u001b[1m \u001b[0m┃\n",
       "┡━━━━━━━━━━━━━━━━━━━━━━━━━━━━━━━━━╇━━━━━━━━━━━━━━━━━━━━━━━━╇━━━━━━━━━━━━━━━┩\n",
       "│ keras_tensor_1293CLONE          │ (\u001b[38;5;45mNone\u001b[0m, \u001b[38;5;34m96\u001b[0m, \u001b[38;5;34m96\u001b[0m, \u001b[38;5;34m3\u001b[0m)      │             \u001b[38;5;34m0\u001b[0m │\n",
       "│ (\u001b[38;5;33mInputLayer\u001b[0m)                    │                        │               │\n",
       "├─────────────────────────────────┼────────────────────────┼───────────────┤\n",
       "│ cast_to_uint8_layer             │ (\u001b[38;5;45mNone\u001b[0m, \u001b[38;5;34m96\u001b[0m, \u001b[38;5;34m96\u001b[0m, \u001b[38;5;34m3\u001b[0m)      │             \u001b[38;5;34m0\u001b[0m │\n",
       "│ (\u001b[38;5;33mCastToUint8Layer\u001b[0m)              │                        │               │\n",
       "├─────────────────────────────────┼────────────────────────┼───────────────┤\n",
       "│ convnext_large (\u001b[38;5;33mFunctional\u001b[0m)     │ (\u001b[38;5;45mNone\u001b[0m, \u001b[38;5;34m3\u001b[0m, \u001b[38;5;34m3\u001b[0m, \u001b[38;5;34m1536\u001b[0m)     │   \u001b[38;5;34m196,230,336\u001b[0m │\n",
       "├─────────────────────────────────┼────────────────────────┼───────────────┤\n",
       "│ avg_pool                        │ (\u001b[38;5;45mNone\u001b[0m, \u001b[38;5;34m1536\u001b[0m)           │             \u001b[38;5;34m0\u001b[0m │\n",
       "│ (\u001b[38;5;33mGlobalAveragePooling2D\u001b[0m)        │                        │               │\n",
       "├─────────────────────────────────┼────────────────────────┼───────────────┤\n",
       "│ batch_normalization             │ (\u001b[38;5;45mNone\u001b[0m, \u001b[38;5;34m1536\u001b[0m)           │         \u001b[38;5;34m6,144\u001b[0m │\n",
       "│ (\u001b[38;5;33mBatchNormalization\u001b[0m)            │                        │               │\n",
       "├─────────────────────────────────┼────────────────────────┼───────────────┤\n",
       "│ dense (\u001b[38;5;33mDense\u001b[0m)                   │ (\u001b[38;5;45mNone\u001b[0m, \u001b[38;5;34m1024\u001b[0m)           │     \u001b[38;5;34m1,573,888\u001b[0m │\n",
       "├─────────────────────────────────┼────────────────────────┼───────────────┤\n",
       "│ dropout (\u001b[38;5;33mDropout\u001b[0m)               │ (\u001b[38;5;45mNone\u001b[0m, \u001b[38;5;34m1024\u001b[0m)           │             \u001b[38;5;34m0\u001b[0m │\n",
       "├─────────────────────────────────┼────────────────────────┼───────────────┤\n",
       "│ dense_1 (\u001b[38;5;33mDense\u001b[0m)                 │ (\u001b[38;5;45mNone\u001b[0m, \u001b[38;5;34m256\u001b[0m)            │       \u001b[38;5;34m262,400\u001b[0m │\n",
       "├─────────────────────────────────┼────────────────────────┼───────────────┤\n",
       "│ dropout_1 (\u001b[38;5;33mDropout\u001b[0m)             │ (\u001b[38;5;45mNone\u001b[0m, \u001b[38;5;34m256\u001b[0m)            │             \u001b[38;5;34m0\u001b[0m │\n",
       "├─────────────────────────────────┼────────────────────────┼───────────────┤\n",
       "│ dense_2 (\u001b[38;5;33mDense\u001b[0m)                 │ (\u001b[38;5;45mNone\u001b[0m, \u001b[38;5;34m8\u001b[0m)              │         \u001b[38;5;34m2,056\u001b[0m │\n",
       "└─────────────────────────────────┴────────────────────────┴───────────────┘\n"
      ]
     },
     "metadata": {},
     "output_type": "display_data"
    },
    {
     "data": {
      "text/html": [
       "<pre style=\"white-space:pre;overflow-x:auto;line-height:normal;font-family:Menlo,'DejaVu Sans Mono',consolas,'Courier New',monospace\"><span style=\"font-weight: bold\"> Total params: </span><span style=\"color: #00af00; text-decoration-color: #00af00\">198,074,824</span> (755.60 MB)\n",
       "</pre>\n"
      ],
      "text/plain": [
       "\u001b[1m Total params: \u001b[0m\u001b[38;5;34m198,074,824\u001b[0m (755.60 MB)\n"
      ]
     },
     "metadata": {},
     "output_type": "display_data"
    },
    {
     "data": {
      "text/html": [
       "<pre style=\"white-space:pre;overflow-x:auto;line-height:normal;font-family:Menlo,'DejaVu Sans Mono',consolas,'Courier New',monospace\"><span style=\"font-weight: bold\"> Trainable params: </span><span style=\"color: #00af00; text-decoration-color: #00af00\">68,219,656</span> (260.24 MB)\n",
       "</pre>\n"
      ],
      "text/plain": [
       "\u001b[1m Trainable params: \u001b[0m\u001b[38;5;34m68,219,656\u001b[0m (260.24 MB)\n"
      ]
     },
     "metadata": {},
     "output_type": "display_data"
    },
    {
     "data": {
      "text/html": [
       "<pre style=\"white-space:pre;overflow-x:auto;line-height:normal;font-family:Menlo,'DejaVu Sans Mono',consolas,'Courier New',monospace\"><span style=\"font-weight: bold\"> Non-trainable params: </span><span style=\"color: #00af00; text-decoration-color: #00af00\">129,855,168</span> (495.36 MB)\n",
       "</pre>\n"
      ],
      "text/plain": [
       "\u001b[1m Non-trainable params: \u001b[0m\u001b[38;5;34m129,855,168\u001b[0m (495.36 MB)\n"
      ]
     },
     "metadata": {},
     "output_type": "display_data"
    }
   ],
   "source": [
    "model.neural_network.summary()"
   ]
  },
  {
   "cell_type": "code",
   "execution_count": 17,
   "id": "3ddc6ea2-109a-4ffd-81f0-d89a4ddec58d",
   "metadata": {},
   "outputs": [
    {
     "name": "stdout",
     "output_type": "stream",
     "text": [
      "\u001b[1m63/63\u001b[0m \u001b[32m━━━━━━━━━━━━━━━━━━━━\u001b[0m\u001b[37m\u001b[0m \u001b[1m24s\u001b[0m 373ms/step - accuracy: 0.9690 - loss: 0.1111\n"
     ]
    }
   ],
   "source": [
    "test_loss, test_accuracy = model.evaluate(X_val, y_val, verbose=1)"
   ]
  },
  {
   "cell_type": "code",
   "execution_count": 18,
   "id": "3e88743f-f593-4403-b08f-e60ec72b7b5b",
   "metadata": {},
   "outputs": [
    {
     "data": {
      "text/plain": [
       "<keras.src.callbacks.history.History at 0x7faa0841f590>"
      ]
     },
     "execution_count": 18,
     "metadata": {},
     "output_type": "execute_result"
    }
   ],
   "source": [
    "history"
   ]
  },
  {
   "cell_type": "code",
   "execution_count": null,
   "id": "1040a91a-d6d4-43d8-949c-b3bb59876ff8",
   "metadata": {},
   "outputs": [],
   "source": []
  },
  {
   "cell_type": "markdown",
   "id": "2df84804-7f21-4f4a-9f96-988eda7c8b48",
   "metadata": {},
   "source": []
  },
  {
   "cell_type": "markdown",
   "id": "42fc4978-a9a6-450d-a67d-5968ca76e3ea",
   "metadata": {
    "jp-MarkdownHeadingCollapsed": true
   },
   "source": [
    "###  Test with another blood cell dataset"
   ]
  },
  {
   "cell_type": "code",
   "execution_count": 22,
   "id": "dd15b41d-e184-4d16-acf3-dd2b31763cda",
   "metadata": {},
   "outputs": [
    {
     "name": "stdout",
     "output_type": "stream",
     "text": [
      "Dataset created with 17092 samples.\n"
     ]
    },
    {
     "ename": "NameError",
     "evalue": "name 'y' is not defined",
     "output_type": "error",
     "traceback": [
      "\u001b[0;31m---------------------------------------------------------------------------\u001b[0m",
      "\u001b[0;31mNameError\u001b[0m                                 Traceback (most recent call last)",
      "Cell \u001b[0;32mIn[22], line 45\u001b[0m\n\u001b[1;32m     42\u001b[0m y_test1 \u001b[38;5;241m=\u001b[39m np\u001b[38;5;241m.\u001b[39marray(labels, dtype\u001b[38;5;241m=\u001b[39mnp\u001b[38;5;241m.\u001b[39mint32)\n\u001b[1;32m     44\u001b[0m \u001b[38;5;28mprint\u001b[39m(\u001b[38;5;124mf\u001b[39m\u001b[38;5;124m\"\u001b[39m\u001b[38;5;124mDataset created with \u001b[39m\u001b[38;5;132;01m{\u001b[39;00mX_test1\u001b[38;5;241m.\u001b[39mshape[\u001b[38;5;241m0\u001b[39m]\u001b[38;5;132;01m}\u001b[39;00m\u001b[38;5;124m samples.\u001b[39m\u001b[38;5;124m\"\u001b[39m)\n\u001b[0;32m---> 45\u001b[0m \u001b[38;5;28mprint\u001b[39m(\u001b[38;5;124mf\u001b[39m\u001b[38;5;124m\"\u001b[39m\u001b[38;5;124mImage shape: \u001b[39m\u001b[38;5;132;01m{\u001b[39;00mX_test1\u001b[38;5;241m.\u001b[39mshape[\u001b[38;5;241m1\u001b[39m:]\u001b[38;5;132;01m}\u001b[39;00m\u001b[38;5;124m, Labels shape: \u001b[39m\u001b[38;5;132;01m{\u001b[39;00m\u001b[43my\u001b[49m\u001b[38;5;241m.\u001b[39mshape\u001b[38;5;132;01m}\u001b[39;00m\u001b[38;5;124m\"\u001b[39m)\n",
      "\u001b[0;31mNameError\u001b[0m: name 'y' is not defined"
     ]
    }
   ],
   "source": [
    "import os\n",
    "import cv2\n",
    "import numpy as np\n",
    "\n",
    "# Define the folder containing the images and the label mapping\n",
    "data_folder = \"./PBC_dataset_normal_DIB\"\n",
    "label_mapping = {\n",
    "    \"basophil\": 0,\n",
    "    \"eosinophil\": 1,\n",
    "    \"erythroblast\": 2,\n",
    "    \"ig\": 3,\n",
    "    \"lymphocyte\": 4,\n",
    "    \"monocyte\": 5,\n",
    "    \"neutrophil\": 6,\n",
    "    \"platelet\": 7,\n",
    "}\n",
    "\n",
    "# Initialize lists to store image data and labels\n",
    "images = []\n",
    "labels = []\n",
    "\n",
    "# Read the images and labels\n",
    "for class_name, label in label_mapping.items():\n",
    "    class_folder = os.path.join(data_folder, class_name)\n",
    "    if not os.path.isdir(class_folder):\n",
    "        continue\n",
    "    \n",
    "    for img_name in os.listdir(class_folder):\n",
    "        img_path = os.path.join(class_folder, img_name)\n",
    "        # Read the image (adjust flag to 0 for grayscale or 1 for color images)\n",
    "        img = cv2.imread(img_path, cv2.IMREAD_COLOR)\n",
    "        if img is None:\n",
    "            continue  # Skip unreadable files\n",
    "        \n",
    "        # Resize the image to a fixed size (e.g., 96x96)\n",
    "        img_resized = cv2.resize(img, (96, 96))\n",
    "        images.append(img_resized)\n",
    "        labels.append(label)\n",
    "\n",
    "# Convert lists to numpy arrays\n",
    "X_test1 = np.array(images, dtype=np.float32) / 255.0  # Normalize pixel values to [0, 1]\n",
    "y_test1 = np.array(labels, dtype=np.int32)\n",
    "\n"
   ]
  },
  {
   "cell_type": "code",
   "execution_count": 23,
   "id": "ff90a2d3-1aa4-498a-9897-b7eb368a8295",
   "metadata": {},
   "outputs": [
    {
     "name": "stdout",
     "output_type": "stream",
     "text": [
      "Dataset created with 17092 samples.\n",
      "Image shape: (96, 96, 3), Labels shape: (17092,)\n"
     ]
    }
   ],
   "source": [
    "\n",
    "print(f\"Dataset created with {X_test1.shape[0]} samples.\")\n",
    "print(f\"Image shape: {X_test1.shape[1:]}, Labels shape: {y_test1.shape}\")"
   ]
  },
  {
   "cell_type": "code",
   "execution_count": 26,
   "id": "2027a2e1-6d18-4a4d-be0f-7aabf0a5391c",
   "metadata": {},
   "outputs": [],
   "source": [
    "num_classes = len(label_mapping)\n",
    "y_test1_onehot = to_categorical(y_test1, num_classes=num_classes)"
   ]
  },
  {
   "cell_type": "code",
   "execution_count": 29,
   "id": "31a221f3-a856-4ec1-9991-1f2bd9d11090",
   "metadata": {},
   "outputs": [
    {
     "name": "stdout",
     "output_type": "stream",
     "text": [
      "Class 0: 1218 samples\n",
      "Class 1: 3117 samples\n",
      "Class 2: 1551 samples\n",
      "Class 3: 2895 samples\n",
      "Class 4: 1214 samples\n",
      "Class 5: 1420 samples\n",
      "Class 6: 3329 samples\n",
      "Class 7: 2348 samples\n"
     ]
    }
   ],
   "source": [
    "class_indices = np.argmax(y_test1_onehot, axis=1)\n",
    "\n",
    "# Use np.unique to calculate class frequencies\n",
    "unique_classes, counts = np.unique(class_indices, return_counts=True)\n",
    "\n",
    "# Print the class frequencies\n",
    "for cls, count in zip(unique_classes, counts):\n",
    "    print(f\"Class {cls}: {count} samples\")"
   ]
  },
  {
   "cell_type": "code",
   "execution_count": 27,
   "id": "5f11c31b-8a53-4daa-afb3-8e9a75b7c993",
   "metadata": {},
   "outputs": [
    {
     "name": "stdout",
     "output_type": "stream",
     "text": [
      "\u001b[1m535/535\u001b[0m \u001b[32m━━━━━━━━━━━━━━━━━━━━\u001b[0m\u001b[37m\u001b[0m \u001b[1m199s\u001b[0m 371ms/step - accuracy: 0.3649 - loss: 2.7882\n"
     ]
    }
   ],
   "source": [
    "test_loss, test_accuracy = model.evaluate(X_test1, y_test1_onehot, verbose=1)"
   ]
  },
  {
   "cell_type": "code",
   "execution_count": 28,
   "id": "d322c63d-ab56-4127-bef4-3dbd79e0e1fd",
   "metadata": {},
   "outputs": [
    {
     "name": "stdout",
     "output_type": "stream",
     "text": [
      "No common images found between the datasets.\n"
     ]
    }
   ],
   "source": [
    "import numpy as np\n",
    "\n",
    "# Example datasets (replace these with your actual datasets)\n",
    "# X_test1 and X_train_val should be numpy arrays of shape (num_samples, height, width, channels)\n",
    "# E.g., X_test1 = np.array([...]), X_train_val = np.array([...])\n",
    "\n",
    "# Create hash sets for both datasets\n",
    "def hash_images(image_dataset):\n",
    "    return set(hash(img.tobytes()) for img in image_dataset)\n",
    "\n",
    "hashes_test1 = hash_images(X_test1)\n",
    "hashes_train_val = hash_images(X_train_val)\n",
    "\n",
    "# Find the intersection\n",
    "common_hashes = hashes_test1.intersection(hashes_train_val)\n",
    "\n",
    "# Output results\n",
    "if common_hashes:\n",
    "    print(f\"Found {len(common_hashes)} common images between the datasets.\")\n",
    "else:\n",
    "    print(\"No common images found between the datasets.\")\n"
   ]
  }
 ],
 "metadata": {
  "kernelspec": {
   "display_name": "Python 3 (ipykernel)",
   "language": "python",
   "name": "python3"
  },
  "language_info": {
   "codemirror_mode": {
    "name": "ipython",
    "version": 3
   },
   "file_extension": ".py",
   "mimetype": "text/x-python",
   "name": "python",
   "nbconvert_exporter": "python",
   "pygments_lexer": "ipython3",
   "version": "3.11.10"
  }
 },
 "nbformat": 4,
 "nbformat_minor": 5
}
